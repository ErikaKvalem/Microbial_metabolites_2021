{
 "cells": [
  {
   "cell_type": "code",
   "execution_count": 1,
   "id": "d44295cb-331a-4d1f-b4e8-2ba4a5b50992",
   "metadata": {
    "tags": []
   },
   "outputs": [],
   "source": [
    "import gzip\n",
    "import os\n",
    "from functools import reduce\n",
    "from pathlib import Path\n",
    "import scipy\n",
    "\n",
    "import anndata as ad\n",
    "import numpy as np\n",
    "import pandas as pd\n",
    "import scanpy as sc\n",
    "from scipy.sparse import csr_matrix\n",
    "from tqdm.contrib.concurrent import process_map"
   ]
  },
  {
   "cell_type": "code",
   "execution_count": 2,
   "id": "098afa09-373e-48a9-9058-8fa1b249cbf9",
   "metadata": {},
   "outputs": [],
   "source": [
    "experiment = \"2021-02-01_sorted_cd8_til\""
   ]
  },
  {
   "cell_type": "code",
   "execution_count": 3,
   "id": "77fd5961-c11c-4ed1-bd74-2a7ec509ed9f",
   "metadata": {},
   "outputs": [],
   "source": [
    "#sample_names = [\"10mix1\",\"10mix2\",\"11mix1\",\"11mix2\",\"GF1\",\"GF2\"]\n",
    "sample_names = [\"10mix-ICI1\",\"10mix-ICI2\",\"11mix-ICI1\",\"11mix-ICI2\",\"GF-ICI1\",\"GF-ICI2\",\"GF-ICI1-plus\",\"GF-ICI2-plus\"]\n",
    "\n",
    "# Loop through each sample name and create empty DataFrames\n",
    "for sample_name in sample_names:\n",
    "    if experiment == \"2019-10-29_sorted_cd8\":\n",
    "        count_dir = f\"/data/projects/2021/MicrobialMetabolites/single-cell-sorted-cd8/2019-10-29_sorted_cd8/analyses_icbi/{sample_name}/outs/per_sample_outs/{sample_name}/count/sample_filtered_feature_bc_matrix\"\n",
    "        out_dir = \"/data/projects/2021/MicrobialMetabolites/single-cell-sorted-cd8/2019-10-29_sorted_cd8/analyses_icbi/scrna_seq_data\"\n",
    "    \n",
    "    elif experiment ==\"2021-02-01_sorted_cd8_til\":\n",
    "        count_dir = f\"/data/projects/2021/MicrobialMetabolites/single-cell-sorted-cd8/2021-02-01_sorted_cd8_til/analyses_icbi/{sample_name}/outs/per_sample_outs/{sample_name}/count/sample_filtered_feature_bc_matrix\"\n",
    "        out_dir = \"/data/projects/2021/MicrobialMetabolites/single-cell-sorted-cd8/2021-02-01_sorted_cd8_til/analyses_icbi/scrna_seq_data\" \n",
    "    \n",
    "    path_barcodes = f\"{count_dir}/barcodes.tsv.gz\"\n",
    "    path_features = f\"{count_dir}/features.tsv.gz\"\n",
    "    path_matrix = f\"{count_dir}/matrix.mtx.gz\"\n",
    "    \n",
    "    # Create an empty DataFrame for df_barcodes\n",
    "    df_barcodes = pd.read_csv(path_barcodes, delimiter=\"\\t\", header=None)\n",
    "    df_barcodes = df_barcodes.rename(columns= {0:\"barcodes\"})\n",
    "    df_barcodes.index = df_barcodes[\"barcodes\"].str.split(\"-\").str[0]\n",
    "    df_barcodes = df_barcodes.drop([\"barcodes\"],axis=1)\n",
    "    df_barcodes.index.name = None\n",
    "    # Create an empty DataFrame for df_features\n",
    "    df_features = features = pd.read_csv(path_features, delimiter=\"\\t\", header=None, compression = \"gzip\", index_col=1)\n",
    "    df_features.index.name = None\n",
    "    df_features = df_features.rename(columns={0:\"ensembl_id\",2:\"feature_types\"})\n",
    "    \n",
    "    mat = scipy.io.mmread(path_matrix)\n",
    "    adata = sc.AnnData(X=mat.T)\n",
    "    adata.X = scipy.sparse.csr_matrix(adata.X)\n",
    "    \n",
    "    adata.var = pd.DataFrame(df_features)\n",
    "    adata.var[\"gene_name\"]=adata.var_names\n",
    "    adata.var_names = adata.var[\"ensembl_id\"]\n",
    "    adata.var.index.name = None\n",
    "    assert  adata.var_names.is_unique\n",
    "    adata.obs = pd.DataFrame(df_barcodes, index=df_barcodes.index.values)\n",
    "    adata.obs[\"sample_id\"]=sample_name\n",
    "    assert  adata.obs_names.is_unique\n",
    "    \n",
    "    # Save the AnnData object to a h5ad file\n",
    "    adata.write(f'{out_dir}/adata_{sample_name}.h5ad')"
   ]
  },
  {
   "cell_type": "code",
   "execution_count": 4,
   "id": "5305ec76-57b8-4096-b944-428d787d57cf",
   "metadata": {},
   "outputs": [],
   "source": [
    "sample_names = [\"10mix-ICI1\",\"10mix-ICI2\",\"11mix-ICI1\",\"11mix-ICI2\",\"GF-ICI1\",\"GF-ICI2\",\"GF-ICI1-plus\",\"GF-ICI2-plus\"]\n",
    "adata_list = []\n",
    "# Loop through each sample name and create empty DataFrames\n",
    "for sample_name in sample_names:\n",
    "    file_path = f'{out_dir}/adata_{sample_name}.h5ad'\n",
    "    adata = ad.read_h5ad(file_path)\n",
    "    adata_list.append(adata)\n",
    "    \n",
    "# Concatenate the AnnData objects along the rows (observations)\n",
    "merged_adata = ad.concat(adata_list, index_unique=\"-\", axis = 1,join=\"outer\", fill_value=0)\n",
    "merged_adata.X = csr_matrix(merged_adata.X)\n",
    "merged_adata.write(f'{out_dir}/{experiment}_merged_data.h5ad')\n"
   ]
  },
  {
   "cell_type": "code",
   "execution_count": 10,
   "id": "d3b9f077-497d-48eb-a76f-07c33c470b5a",
   "metadata": {},
   "outputs": [],
   "source": [
    "file_path = f'{out_dir}/adata_{\"GF-ICI2-plus\"}.h5ad'\n",
    "    \n",
    "adata = ad.read_h5ad(file_path)"
   ]
  },
  {
   "cell_type": "code",
   "execution_count": 13,
   "id": "1eee1ee8-c750-4884-92e9-e0bf83d96fce",
   "metadata": {},
   "outputs": [
    {
     "data": {
      "text/plain": [
       "Gene Expression     32285\n",
       "Antibody Capture        7\n",
       "Name: feature_types, dtype: int64"
      ]
     },
     "execution_count": 13,
     "metadata": {},
     "output_type": "execute_result"
    }
   ],
   "source": [
    "adata.var.feature_types.value_counts()"
   ]
  },
  {
   "cell_type": "code",
   "execution_count": 7,
   "id": "4025f55d-2c21-49fb-bd1a-214565140a52",
   "metadata": {},
   "outputs": [
    {
     "data": {
      "text/plain": [
       "Index(['ENSMUSG00000051951-0', 'ENSMUSG00000089699-0', 'ENSMUSG00000102331-0',\n",
       "       'ENSMUSG00000102343-0', 'ENSMUSG00000025900-0', 'ENSMUSG00000025902-0',\n",
       "       'ENSMUSG00000104238-0', 'ENSMUSG00000104328-0', 'ENSMUSG00000033845-0',\n",
       "       'ENSMUSG00000025903-0',\n",
       "       ...\n",
       "       'ENSMUSG00000094855-7', 'ENSMUSG00000095019-7', 'ENSMUSG00000095041-7',\n",
       "       '3Ab-7', '4Ab-7', 'PD1-7', 'CD69-7', 'CD44-7', 'ICOS-7', 'CD103-7'],\n",
       "      dtype='object', length=258336)"
      ]
     },
     "execution_count": 7,
     "metadata": {},
     "output_type": "execute_result"
    }
   ],
   "source": [
    "merged_adata.var_names"
   ]
  },
  {
   "cell_type": "code",
   "execution_count": null,
   "id": "66035b01-d1bd-4247-bfb8-3b1b62c863ee",
   "metadata": {},
   "outputs": [],
   "source": []
  }
 ],
 "metadata": {
  "kernelspec": {
   "display_name": "Python [conda env:.conda-2022-default-scanpy]",
   "language": "python",
   "name": "conda-env-.conda-2022-default-scanpy-py"
  },
  "language_info": {
   "codemirror_mode": {
    "name": "ipython",
    "version": 3
   },
   "file_extension": ".py",
   "mimetype": "text/x-python",
   "name": "python",
   "nbconvert_exporter": "python",
   "pygments_lexer": "ipython3",
   "version": "3.10.8"
  }
 },
 "nbformat": 4,
 "nbformat_minor": 5
}
