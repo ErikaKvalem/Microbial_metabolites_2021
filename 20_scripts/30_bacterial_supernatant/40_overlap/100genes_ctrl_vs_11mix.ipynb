{
 "cells": [
  {
   "cell_type": "markdown",
   "id": "d826baad-9b52-4374-adf1-815a0ac8c0b5",
   "metadata": {},
   "source": [
    "## Batch1 vs Batch 2 ctrl_vs_11mix top 100 genes"
   ]
  },
  {
   "cell_type": "markdown",
   "id": "e54074e7-1b57-495e-bd6d-f6b81d77a700",
   "metadata": {},
   "source": [
    "Importing libraries"
   ]
  },
  {
   "cell_type": "code",
   "execution_count": 1,
   "id": "db13d997-3877-4561-8adb-f9c5e6a065a5",
   "metadata": {},
   "outputs": [],
   "source": [
    "import decoupler as dc\n",
    "from scipy.stats import fisher_exact\n",
    "import matplotlib.pyplot as plt\n",
    "from matplotlib_venn import venn2\n",
    "\n",
    "# Only needed for visualization:\n",
    "import matplotlib.pyplot as plt\n",
    "import numpy as np\n",
    "import pandas as pd\n",
    "import scanpy as sc\n",
    "import seaborn as sns\n",
    "from anndata import AnnData"
   ]
  },
  {
   "cell_type": "markdown",
   "id": "be0e7644-25c5-4cfa-82fc-ae5423533cfc",
   "metadata": {},
   "source": [
    "Reading data from tsv Batch1 ctrl_vs_11mix IHWallGenes and Batch2 ctrl_vs_11mix IHWallGenes"
   ]
  },
  {
   "cell_type": "code",
   "execution_count": 2,
   "id": "3d5d4c58-b09c-4071-a2a7-23111133c951",
   "metadata": {},
   "outputs": [],
   "source": [
    "# Batch1 ctrl_vs_11mix IHWallGenes and Batch2 ctrl_vs_11mix IHWallGenes\n",
    "b1_ctrl_vs_11mix_all =\"/data/projects/2021/MicrobialMetabolites/bacterial-supernatant/20_deseq2icbi/batch1/paired_grp/deseq2_ctrl_vs_11mix/11mix_ctrl_IHWallGenes.tsv\"\n",
    "b2_ctrl_vs_11mix_all = \"/data/projects/2021/MicrobialMetabolites/bacterial-supernatant/20_deseq2icbi/batch2/paired_grp/deseq2_ctrl_vs_11mix/11mix_ctrl_IHWallGenes.tsv\"\n",
    "\n",
    "b1_ctrl_vs_11mix_all = pd.read_csv(b1_ctrl_vs_11mix_all, sep=\"\\t\")\n",
    "b2_ctrl_vs_11mix_all = pd.read_csv(b2_ctrl_vs_11mix_all, sep=\"\\t\")"
   ]
  },
  {
   "cell_type": "markdown",
   "id": "a1250f7e-cdf4-4f46-8a1c-a1f1c70d966a",
   "metadata": {},
   "source": [
    "Selecting only the TOP 100 GENES and the columns \"log2FoldChange\",\"pvalue\",\"padj\",\"gene_name\""
   ]
  },
  {
   "cell_type": "code",
   "execution_count": 3,
   "id": "717855ef-42eb-43c6-a3b1-7eee63498270",
   "metadata": {},
   "outputs": [],
   "source": [
    "#B1 \n",
    "b1_ctrl_vs_11mix_100 = b1_ctrl_vs_11mix_all.iloc[0:100,:]\n",
    "b1_ctrl_vs_11mix_100 = b1_ctrl_vs_11mix_100[[\"log2FoldChange\",\"pvalue\",\"padj\",\"gene_name\"]]\n",
    "# B2\n",
    "b2_ctrl_vs_11mix_100 = b2_ctrl_vs_11mix_all.iloc[0:100,:]\n",
    "b2_ctrl_vs_11mix_100 = b2_ctrl_vs_11mix_100[[\"log2FoldChange\",\"pvalue\",\"padj\",\"gene_name\"]]\n"
   ]
  },
  {
   "cell_type": "markdown",
   "id": "63a81e24-f477-4feb-aeee-5f2ed65ba461",
   "metadata": {},
   "source": [
    "Check that the genes only appear once "
   ]
  },
  {
   "cell_type": "code",
   "execution_count": 4,
   "id": "3e45cf5c-37df-463a-8c66-dde586577b9f",
   "metadata": {},
   "outputs": [
    {
     "data": {
      "text/plain": [
       "1"
      ]
     },
     "execution_count": 4,
     "metadata": {},
     "output_type": "execute_result"
    }
   ],
   "source": [
    "b1_ctrl_vs_11mix_100[\"gene_name\"].value_counts().max()"
   ]
  },
  {
   "cell_type": "code",
   "execution_count": 5,
   "id": "bd6ec5ec-15a6-4b63-8c59-c56d8a24de8b",
   "metadata": {},
   "outputs": [
    {
     "data": {
      "text/plain": [
       "1"
      ]
     },
     "execution_count": 5,
     "metadata": {},
     "output_type": "execute_result"
    }
   ],
   "source": [
    "b2_ctrl_vs_11mix_100[\"gene_name\"].value_counts().max()"
   ]
  },
  {
   "cell_type": "markdown",
   "id": "5aba8565-2dc8-4bbb-8e05-bebca980afc7",
   "metadata": {},
   "source": [
    "Creating a dataframe for each batch with only gene_name information"
   ]
  },
  {
   "cell_type": "code",
   "execution_count": 6,
   "id": "c5c5d01f-fea6-49f8-b3d1-80f22ea83f57",
   "metadata": {},
   "outputs": [],
   "source": [
    "b1_ctrl_vs_11mix_100_gene = pd.DataFrame(b1_ctrl_vs_11mix_100[\"gene_name\"])"
   ]
  },
  {
   "cell_type": "code",
   "execution_count": 7,
   "id": "6da8e26a-6ab7-415d-a81c-b2188dcccdb5",
   "metadata": {},
   "outputs": [
    {
     "data": {
      "text/html": [
       "<div>\n",
       "<style scoped>\n",
       "    .dataframe tbody tr th:only-of-type {\n",
       "        vertical-align: middle;\n",
       "    }\n",
       "\n",
       "    .dataframe tbody tr th {\n",
       "        vertical-align: top;\n",
       "    }\n",
       "\n",
       "    .dataframe thead th {\n",
       "        text-align: right;\n",
       "    }\n",
       "</style>\n",
       "<table border=\"1\" class=\"dataframe\">\n",
       "  <thead>\n",
       "    <tr style=\"text-align: right;\">\n",
       "      <th></th>\n",
       "      <th>gene_name</th>\n",
       "    </tr>\n",
       "  </thead>\n",
       "  <tbody>\n",
       "    <tr>\n",
       "      <th>0</th>\n",
       "      <td>Selenom</td>\n",
       "    </tr>\n",
       "    <tr>\n",
       "      <th>1</th>\n",
       "      <td>Eml2</td>\n",
       "    </tr>\n",
       "    <tr>\n",
       "      <th>2</th>\n",
       "      <td>Atp2b4</td>\n",
       "    </tr>\n",
       "    <tr>\n",
       "      <th>3</th>\n",
       "      <td>Tnfaip2</td>\n",
       "    </tr>\n",
       "    <tr>\n",
       "      <th>4</th>\n",
       "      <td>Pllp</td>\n",
       "    </tr>\n",
       "    <tr>\n",
       "      <th>...</th>\n",
       "      <td>...</td>\n",
       "    </tr>\n",
       "    <tr>\n",
       "      <th>95</th>\n",
       "      <td>Ivns1abp</td>\n",
       "    </tr>\n",
       "    <tr>\n",
       "      <th>96</th>\n",
       "      <td>Spc25</td>\n",
       "    </tr>\n",
       "    <tr>\n",
       "      <th>97</th>\n",
       "      <td>Mtch1</td>\n",
       "    </tr>\n",
       "    <tr>\n",
       "      <th>98</th>\n",
       "      <td>Spr</td>\n",
       "    </tr>\n",
       "    <tr>\n",
       "      <th>99</th>\n",
       "      <td>Cd81</td>\n",
       "    </tr>\n",
       "  </tbody>\n",
       "</table>\n",
       "<p>100 rows × 1 columns</p>\n",
       "</div>"
      ],
      "text/plain": [
       "   gene_name\n",
       "0    Selenom\n",
       "1       Eml2\n",
       "2     Atp2b4\n",
       "3    Tnfaip2\n",
       "4       Pllp\n",
       "..       ...\n",
       "95  Ivns1abp\n",
       "96     Spc25\n",
       "97     Mtch1\n",
       "98       Spr\n",
       "99      Cd81\n",
       "\n",
       "[100 rows x 1 columns]"
      ]
     },
     "execution_count": 7,
     "metadata": {},
     "output_type": "execute_result"
    }
   ],
   "source": [
    "b1_ctrl_vs_11mix_100_gene"
   ]
  },
  {
   "cell_type": "code",
   "execution_count": 8,
   "id": "bc160441-cacb-4b68-a840-3dc9d317e15b",
   "metadata": {},
   "outputs": [],
   "source": [
    "b2_ctrl_vs_11mix_100_gene = pd.DataFrame(b2_ctrl_vs_11mix_100[\"gene_name\"])"
   ]
  },
  {
   "cell_type": "code",
   "execution_count": 9,
   "id": "7f4ad13d-8a39-4e7e-9b37-5d3111daf67e",
   "metadata": {},
   "outputs": [
    {
     "data": {
      "text/html": [
       "<div>\n",
       "<style scoped>\n",
       "    .dataframe tbody tr th:only-of-type {\n",
       "        vertical-align: middle;\n",
       "    }\n",
       "\n",
       "    .dataframe tbody tr th {\n",
       "        vertical-align: top;\n",
       "    }\n",
       "\n",
       "    .dataframe thead th {\n",
       "        text-align: right;\n",
       "    }\n",
       "</style>\n",
       "<table border=\"1\" class=\"dataframe\">\n",
       "  <thead>\n",
       "    <tr style=\"text-align: right;\">\n",
       "      <th></th>\n",
       "      <th>gene_name</th>\n",
       "    </tr>\n",
       "  </thead>\n",
       "  <tbody>\n",
       "    <tr>\n",
       "      <th>0</th>\n",
       "      <td>Cxcl5</td>\n",
       "    </tr>\n",
       "    <tr>\n",
       "      <th>1</th>\n",
       "      <td>Igsf23</td>\n",
       "    </tr>\n",
       "    <tr>\n",
       "      <th>2</th>\n",
       "      <td>Ybx2</td>\n",
       "    </tr>\n",
       "    <tr>\n",
       "      <th>3</th>\n",
       "      <td>Lcn2</td>\n",
       "    </tr>\n",
       "    <tr>\n",
       "      <th>4</th>\n",
       "      <td>P3h4</td>\n",
       "    </tr>\n",
       "    <tr>\n",
       "      <th>...</th>\n",
       "      <td>...</td>\n",
       "    </tr>\n",
       "    <tr>\n",
       "      <th>95</th>\n",
       "      <td>Egfl7</td>\n",
       "    </tr>\n",
       "    <tr>\n",
       "      <th>96</th>\n",
       "      <td>Slc25a34</td>\n",
       "    </tr>\n",
       "    <tr>\n",
       "      <th>97</th>\n",
       "      <td>Morrbid</td>\n",
       "    </tr>\n",
       "    <tr>\n",
       "      <th>98</th>\n",
       "      <td>Apoh</td>\n",
       "    </tr>\n",
       "    <tr>\n",
       "      <th>99</th>\n",
       "      <td>Arhgef25</td>\n",
       "    </tr>\n",
       "  </tbody>\n",
       "</table>\n",
       "<p>100 rows × 1 columns</p>\n",
       "</div>"
      ],
      "text/plain": [
       "   gene_name\n",
       "0      Cxcl5\n",
       "1     Igsf23\n",
       "2       Ybx2\n",
       "3       Lcn2\n",
       "4       P3h4\n",
       "..       ...\n",
       "95     Egfl7\n",
       "96  Slc25a34\n",
       "97   Morrbid\n",
       "98      Apoh\n",
       "99  Arhgef25\n",
       "\n",
       "[100 rows x 1 columns]"
      ]
     },
     "execution_count": 9,
     "metadata": {},
     "output_type": "execute_result"
    }
   ],
   "source": [
    "b2_ctrl_vs_11mix_100_gene"
   ]
  },
  {
   "cell_type": "markdown",
   "id": "1483af26-11bb-432c-b0b1-3c99a5e42365",
   "metadata": {},
   "source": [
    "Finding common elements between the 2 datasets (b1 and b2 ctrl_vs_11mix)"
   ]
  },
  {
   "cell_type": "code",
   "execution_count": 10,
   "id": "0fb77425-4c57-425a-b6d3-df3cea0f0dc3",
   "metadata": {},
   "outputs": [],
   "source": [
    "common_b1_b2_ctrl_vs_11mix = list(set(b1_ctrl_vs_11mix_100_gene.gene_name) & set(b2_ctrl_vs_11mix_100_gene.gene_name))"
   ]
  },
  {
   "cell_type": "code",
   "execution_count": 11,
   "id": "27e022e6-1aa3-44cc-bc97-a4ffdd3a0b22",
   "metadata": {
    "tags": []
   },
   "outputs": [],
   "source": [
    "# The union of the genes present in the All genes table from Batch1 and Batch2 \n",
    "genes_universe = list(set(b1_ctrl_vs_11mix_all.gene_name) & set(b2_ctrl_vs_11mix_all.gene_name))"
   ]
  },
  {
   "cell_type": "code",
   "execution_count": 12,
   "id": "360b66d6-fa5b-4ea9-9548-ce02a9219487",
   "metadata": {},
   "outputs": [
    {
     "data": {
      "text/plain": [
       "15738"
      ]
     },
     "execution_count": 12,
     "metadata": {},
     "output_type": "execute_result"
    }
   ],
   "source": [
    "len(genes_universe)"
   ]
  },
  {
   "cell_type": "code",
   "execution_count": 13,
   "id": "eb4ebcdd-a0ad-4cbb-9fdf-9e411da151ba",
   "metadata": {},
   "outputs": [
    {
     "data": {
      "text/plain": [
       "19"
      ]
     },
     "execution_count": 13,
     "metadata": {},
     "output_type": "execute_result"
    }
   ],
   "source": [
    "len(common_b1_b2_ctrl_vs_11mix)"
   ]
  },
  {
   "cell_type": "code",
   "execution_count": 14,
   "id": "93b2186b-bd54-4a8c-be86-e8c750ad0e57",
   "metadata": {},
   "outputs": [
    {
     "data": {
      "text/plain": [
       "['Pllp',\n",
       " 'Efna3',\n",
       " 'Ybx2',\n",
       " 'Rnd2',\n",
       " 'Fam3c',\n",
       " 'Pbp2',\n",
       " 'Vill',\n",
       " 'Larp1b',\n",
       " 'Il1rn',\n",
       " 'Slc4a7',\n",
       " 'Serpinb9b',\n",
       " 'Nfic',\n",
       " 'Selenom',\n",
       " 'Gm44275',\n",
       " 'Bcorl1',\n",
       " 'Tmem37',\n",
       " 'Casp1',\n",
       " 'Gstt1',\n",
       " 'Krt6a']"
      ]
     },
     "execution_count": 14,
     "metadata": {},
     "output_type": "execute_result"
    }
   ],
   "source": [
    "common_b1_b2_ctrl_vs_11mix"
   ]
  },
  {
   "cell_type": "markdown",
   "id": "e7d32a46-0ba3-4086-a907-568534947582",
   "metadata": {},
   "source": [
    "Findinf the rows in the original dataframe with all the information"
   ]
  },
  {
   "cell_type": "code",
   "execution_count": 15,
   "id": "57ebc01e-8326-45fc-841e-94254e93e536",
   "metadata": {},
   "outputs": [
    {
     "data": {
      "text/html": [
       "<div>\n",
       "<style scoped>\n",
       "    .dataframe tbody tr th:only-of-type {\n",
       "        vertical-align: middle;\n",
       "    }\n",
       "\n",
       "    .dataframe tbody tr th {\n",
       "        vertical-align: top;\n",
       "    }\n",
       "\n",
       "    .dataframe thead th {\n",
       "        text-align: right;\n",
       "    }\n",
       "</style>\n",
       "<table border=\"1\" class=\"dataframe\">\n",
       "  <thead>\n",
       "    <tr style=\"text-align: right;\">\n",
       "      <th></th>\n",
       "      <th>log2FoldChange</th>\n",
       "      <th>pvalue</th>\n",
       "      <th>padj</th>\n",
       "      <th>gene_name</th>\n",
       "    </tr>\n",
       "  </thead>\n",
       "  <tbody>\n",
       "    <tr>\n",
       "      <th>0</th>\n",
       "      <td>2.071643</td>\n",
       "      <td>1.656087e-15</td>\n",
       "      <td>2.053267e-11</td>\n",
       "      <td>Selenom</td>\n",
       "    </tr>\n",
       "    <tr>\n",
       "      <th>4</th>\n",
       "      <td>-1.054247</td>\n",
       "      <td>3.238075e-11</td>\n",
       "      <td>4.020306e-08</td>\n",
       "      <td>Pllp</td>\n",
       "    </tr>\n",
       "    <tr>\n",
       "      <th>12</th>\n",
       "      <td>1.473642</td>\n",
       "      <td>1.627155e-09</td>\n",
       "      <td>2.723412e-06</td>\n",
       "      <td>Gstt1</td>\n",
       "    </tr>\n",
       "    <tr>\n",
       "      <th>13</th>\n",
       "      <td>1.426255</td>\n",
       "      <td>3.047840e-09</td>\n",
       "      <td>3.558320e-06</td>\n",
       "      <td>Ybx2</td>\n",
       "    </tr>\n",
       "    <tr>\n",
       "      <th>16</th>\n",
       "      <td>1.351152</td>\n",
       "      <td>3.723597e-09</td>\n",
       "      <td>3.094865e-06</td>\n",
       "      <td>Rnd2</td>\n",
       "    </tr>\n",
       "    <tr>\n",
       "      <th>19</th>\n",
       "      <td>1.132597</td>\n",
       "      <td>6.086673e-09</td>\n",
       "      <td>3.094865e-06</td>\n",
       "      <td>Gm44275</td>\n",
       "    </tr>\n",
       "    <tr>\n",
       "      <th>21</th>\n",
       "      <td>-0.947968</td>\n",
       "      <td>8.378982e-09</td>\n",
       "      <td>2.794934e-06</td>\n",
       "      <td>Il1rn</td>\n",
       "    </tr>\n",
       "    <tr>\n",
       "      <th>27</th>\n",
       "      <td>-1.311214</td>\n",
       "      <td>3.510755e-08</td>\n",
       "      <td>1.523165e-05</td>\n",
       "      <td>Krt6a</td>\n",
       "    </tr>\n",
       "    <tr>\n",
       "      <th>28</th>\n",
       "      <td>-0.785917</td>\n",
       "      <td>3.541771e-08</td>\n",
       "      <td>7.876071e-06</td>\n",
       "      <td>Casp1</td>\n",
       "    </tr>\n",
       "    <tr>\n",
       "      <th>33</th>\n",
       "      <td>0.737690</td>\n",
       "      <td>7.051791e-08</td>\n",
       "      <td>1.283872e-05</td>\n",
       "      <td>Tmem37</td>\n",
       "    </tr>\n",
       "    <tr>\n",
       "      <th>34</th>\n",
       "      <td>-0.844064</td>\n",
       "      <td>7.622300e-08</td>\n",
       "      <td>1.283872e-05</td>\n",
       "      <td>Larp1b</td>\n",
       "    </tr>\n",
       "    <tr>\n",
       "      <th>35</th>\n",
       "      <td>0.951518</td>\n",
       "      <td>7.960509e-08</td>\n",
       "      <td>2.007743e-05</td>\n",
       "      <td>Nfic</td>\n",
       "    </tr>\n",
       "    <tr>\n",
       "      <th>40</th>\n",
       "      <td>1.141531</td>\n",
       "      <td>2.629629e-07</td>\n",
       "      <td>6.263492e-05</td>\n",
       "      <td>Pbp2</td>\n",
       "    </tr>\n",
       "    <tr>\n",
       "      <th>43</th>\n",
       "      <td>0.972701</td>\n",
       "      <td>3.142452e-07</td>\n",
       "      <td>7.626004e-05</td>\n",
       "      <td>Bcorl1</td>\n",
       "    </tr>\n",
       "    <tr>\n",
       "      <th>45</th>\n",
       "      <td>1.048799</td>\n",
       "      <td>5.613295e-07</td>\n",
       "      <td>1.526122e-04</td>\n",
       "      <td>Vill</td>\n",
       "    </tr>\n",
       "    <tr>\n",
       "      <th>46</th>\n",
       "      <td>1.152466</td>\n",
       "      <td>6.060100e-07</td>\n",
       "      <td>1.555736e-04</td>\n",
       "      <td>Efna3</td>\n",
       "    </tr>\n",
       "    <tr>\n",
       "      <th>67</th>\n",
       "      <td>0.783313</td>\n",
       "      <td>2.593341e-06</td>\n",
       "      <td>3.638542e-04</td>\n",
       "      <td>Fam3c</td>\n",
       "    </tr>\n",
       "    <tr>\n",
       "      <th>69</th>\n",
       "      <td>-0.679691</td>\n",
       "      <td>3.228800e-06</td>\n",
       "      <td>3.029103e-04</td>\n",
       "      <td>Slc4a7</td>\n",
       "    </tr>\n",
       "    <tr>\n",
       "      <th>79</th>\n",
       "      <td>-0.832235</td>\n",
       "      <td>4.765097e-06</td>\n",
       "      <td>5.674974e-04</td>\n",
       "      <td>Serpinb9b</td>\n",
       "    </tr>\n",
       "  </tbody>\n",
       "</table>\n",
       "</div>"
      ],
      "text/plain": [
       "    log2FoldChange        pvalue          padj  gene_name\n",
       "0         2.071643  1.656087e-15  2.053267e-11    Selenom\n",
       "4        -1.054247  3.238075e-11  4.020306e-08       Pllp\n",
       "12        1.473642  1.627155e-09  2.723412e-06      Gstt1\n",
       "13        1.426255  3.047840e-09  3.558320e-06       Ybx2\n",
       "16        1.351152  3.723597e-09  3.094865e-06       Rnd2\n",
       "19        1.132597  6.086673e-09  3.094865e-06    Gm44275\n",
       "21       -0.947968  8.378982e-09  2.794934e-06      Il1rn\n",
       "27       -1.311214  3.510755e-08  1.523165e-05      Krt6a\n",
       "28       -0.785917  3.541771e-08  7.876071e-06      Casp1\n",
       "33        0.737690  7.051791e-08  1.283872e-05     Tmem37\n",
       "34       -0.844064  7.622300e-08  1.283872e-05     Larp1b\n",
       "35        0.951518  7.960509e-08  2.007743e-05       Nfic\n",
       "40        1.141531  2.629629e-07  6.263492e-05       Pbp2\n",
       "43        0.972701  3.142452e-07  7.626004e-05     Bcorl1\n",
       "45        1.048799  5.613295e-07  1.526122e-04       Vill\n",
       "46        1.152466  6.060100e-07  1.555736e-04      Efna3\n",
       "67        0.783313  2.593341e-06  3.638542e-04      Fam3c\n",
       "69       -0.679691  3.228800e-06  3.029103e-04     Slc4a7\n",
       "79       -0.832235  4.765097e-06  5.674974e-04  Serpinb9b"
      ]
     },
     "execution_count": 15,
     "metadata": {},
     "output_type": "execute_result"
    }
   ],
   "source": [
    "b1_common = b1_ctrl_vs_11mix_100[b1_ctrl_vs_11mix_100[\"gene_name\"].isin(common_b1_b2_ctrl_vs_11mix)]\n",
    "b1_common"
   ]
  },
  {
   "cell_type": "code",
   "execution_count": 16,
   "id": "c01af895-378f-49ec-831d-70c60181d1d3",
   "metadata": {},
   "outputs": [
    {
     "data": {
      "text/html": [
       "<div>\n",
       "<style scoped>\n",
       "    .dataframe tbody tr th:only-of-type {\n",
       "        vertical-align: middle;\n",
       "    }\n",
       "\n",
       "    .dataframe tbody tr th {\n",
       "        vertical-align: top;\n",
       "    }\n",
       "\n",
       "    .dataframe thead th {\n",
       "        text-align: right;\n",
       "    }\n",
       "</style>\n",
       "<table border=\"1\" class=\"dataframe\">\n",
       "  <thead>\n",
       "    <tr style=\"text-align: right;\">\n",
       "      <th></th>\n",
       "      <th>log2FoldChange</th>\n",
       "      <th>pvalue</th>\n",
       "      <th>padj</th>\n",
       "      <th>gene_name</th>\n",
       "    </tr>\n",
       "  </thead>\n",
       "  <tbody>\n",
       "    <tr>\n",
       "      <th>2</th>\n",
       "      <td>2.055145</td>\n",
       "      <td>1.150704e-14</td>\n",
       "      <td>5.891130e-11</td>\n",
       "      <td>Ybx2</td>\n",
       "    </tr>\n",
       "    <tr>\n",
       "      <th>6</th>\n",
       "      <td>2.395671</td>\n",
       "      <td>9.894686e-11</td>\n",
       "      <td>4.012838e-07</td>\n",
       "      <td>Selenom</td>\n",
       "    </tr>\n",
       "    <tr>\n",
       "      <th>9</th>\n",
       "      <td>1.611802</td>\n",
       "      <td>4.722131e-10</td>\n",
       "      <td>5.164460e-07</td>\n",
       "      <td>Rnd2</td>\n",
       "    </tr>\n",
       "    <tr>\n",
       "      <th>12</th>\n",
       "      <td>1.518663</td>\n",
       "      <td>3.426106e-09</td>\n",
       "      <td>5.710878e-06</td>\n",
       "      <td>Pbp2</td>\n",
       "    </tr>\n",
       "    <tr>\n",
       "      <th>17</th>\n",
       "      <td>-1.219470</td>\n",
       "      <td>7.521412e-09</td>\n",
       "      <td>7.111074e-06</td>\n",
       "      <td>Serpinb9b</td>\n",
       "    </tr>\n",
       "    <tr>\n",
       "      <th>18</th>\n",
       "      <td>-2.003474</td>\n",
       "      <td>8.271054e-09</td>\n",
       "      <td>5.321069e-06</td>\n",
       "      <td>Krt6a</td>\n",
       "    </tr>\n",
       "    <tr>\n",
       "      <th>26</th>\n",
       "      <td>-1.026228</td>\n",
       "      <td>5.745016e-08</td>\n",
       "      <td>7.485281e-05</td>\n",
       "      <td>Slc4a7</td>\n",
       "    </tr>\n",
       "    <tr>\n",
       "      <th>32</th>\n",
       "      <td>1.223721</td>\n",
       "      <td>1.053097e-07</td>\n",
       "      <td>1.763653e-04</td>\n",
       "      <td>Gm44275</td>\n",
       "    </tr>\n",
       "    <tr>\n",
       "      <th>35</th>\n",
       "      <td>1.249874</td>\n",
       "      <td>1.727111e-07</td>\n",
       "      <td>8.708399e-05</td>\n",
       "      <td>Bcorl1</td>\n",
       "    </tr>\n",
       "    <tr>\n",
       "      <th>40</th>\n",
       "      <td>1.282967</td>\n",
       "      <td>3.961843e-07</td>\n",
       "      <td>1.837197e-04</td>\n",
       "      <td>Efna3</td>\n",
       "    </tr>\n",
       "    <tr>\n",
       "      <th>42</th>\n",
       "      <td>-1.099850</td>\n",
       "      <td>4.339926e-07</td>\n",
       "      <td>3.796270e-04</td>\n",
       "      <td>Il1rn</td>\n",
       "    </tr>\n",
       "    <tr>\n",
       "      <th>53</th>\n",
       "      <td>-1.368830</td>\n",
       "      <td>1.256016e-06</td>\n",
       "      <td>4.100212e-04</td>\n",
       "      <td>Pllp</td>\n",
       "    </tr>\n",
       "    <tr>\n",
       "      <th>56</th>\n",
       "      <td>1.391156</td>\n",
       "      <td>1.458381e-06</td>\n",
       "      <td>4.668054e-04</td>\n",
       "      <td>Vill</td>\n",
       "    </tr>\n",
       "    <tr>\n",
       "      <th>64</th>\n",
       "      <td>1.461857</td>\n",
       "      <td>2.997500e-06</td>\n",
       "      <td>1.572755e-03</td>\n",
       "      <td>Nfic</td>\n",
       "    </tr>\n",
       "    <tr>\n",
       "      <th>67</th>\n",
       "      <td>-0.936314</td>\n",
       "      <td>3.777843e-06</td>\n",
       "      <td>1.350394e-03</td>\n",
       "      <td>Larp1b</td>\n",
       "    </tr>\n",
       "    <tr>\n",
       "      <th>70</th>\n",
       "      <td>-1.431931</td>\n",
       "      <td>4.344187e-06</td>\n",
       "      <td>1.471107e-03</td>\n",
       "      <td>Casp1</td>\n",
       "    </tr>\n",
       "    <tr>\n",
       "      <th>85</th>\n",
       "      <td>0.962454</td>\n",
       "      <td>9.409544e-06</td>\n",
       "      <td>1.982262e-03</td>\n",
       "      <td>Fam3c</td>\n",
       "    </tr>\n",
       "    <tr>\n",
       "      <th>89</th>\n",
       "      <td>1.525790</td>\n",
       "      <td>1.060811e-05</td>\n",
       "      <td>1.148214e-03</td>\n",
       "      <td>Gstt1</td>\n",
       "    </tr>\n",
       "    <tr>\n",
       "      <th>90</th>\n",
       "      <td>1.285721</td>\n",
       "      <td>1.085362e-05</td>\n",
       "      <td>2.783323e-03</td>\n",
       "      <td>Tmem37</td>\n",
       "    </tr>\n",
       "  </tbody>\n",
       "</table>\n",
       "</div>"
      ],
      "text/plain": [
       "    log2FoldChange        pvalue          padj  gene_name\n",
       "2         2.055145  1.150704e-14  5.891130e-11       Ybx2\n",
       "6         2.395671  9.894686e-11  4.012838e-07    Selenom\n",
       "9         1.611802  4.722131e-10  5.164460e-07       Rnd2\n",
       "12        1.518663  3.426106e-09  5.710878e-06       Pbp2\n",
       "17       -1.219470  7.521412e-09  7.111074e-06  Serpinb9b\n",
       "18       -2.003474  8.271054e-09  5.321069e-06      Krt6a\n",
       "26       -1.026228  5.745016e-08  7.485281e-05     Slc4a7\n",
       "32        1.223721  1.053097e-07  1.763653e-04    Gm44275\n",
       "35        1.249874  1.727111e-07  8.708399e-05     Bcorl1\n",
       "40        1.282967  3.961843e-07  1.837197e-04      Efna3\n",
       "42       -1.099850  4.339926e-07  3.796270e-04      Il1rn\n",
       "53       -1.368830  1.256016e-06  4.100212e-04       Pllp\n",
       "56        1.391156  1.458381e-06  4.668054e-04       Vill\n",
       "64        1.461857  2.997500e-06  1.572755e-03       Nfic\n",
       "67       -0.936314  3.777843e-06  1.350394e-03     Larp1b\n",
       "70       -1.431931  4.344187e-06  1.471107e-03      Casp1\n",
       "85        0.962454  9.409544e-06  1.982262e-03      Fam3c\n",
       "89        1.525790  1.060811e-05  1.148214e-03      Gstt1\n",
       "90        1.285721  1.085362e-05  2.783323e-03     Tmem37"
      ]
     },
     "execution_count": 16,
     "metadata": {},
     "output_type": "execute_result"
    }
   ],
   "source": [
    "b2_common = b2_ctrl_vs_11mix_100[b2_ctrl_vs_11mix_100[\"gene_name\"].isin(common_b1_b2_ctrl_vs_11mix)]\n",
    "b2_common"
   ]
  },
  {
   "cell_type": "code",
   "execution_count": 17,
   "id": "bdb0e615-4500-48f1-a9ba-60b85efd4f3a",
   "metadata": {},
   "outputs": [
    {
     "data": {
      "text/plain": [
       "0      Selenom\n",
       "1         Eml2\n",
       "2       Atp2b4\n",
       "3      Tnfaip2\n",
       "4         Pllp\n",
       "        ...   \n",
       "95    Ivns1abp\n",
       "96       Spc25\n",
       "97       Mtch1\n",
       "98         Spr\n",
       "99        Cd81\n",
       "Name: gene_name, Length: 100, dtype: object"
      ]
     },
     "execution_count": 17,
     "metadata": {},
     "output_type": "execute_result"
    }
   ],
   "source": [
    "b1_ctrl_vs_11mix_100_gene[\"gene_name\"]\n"
   ]
  },
  {
   "cell_type": "markdown",
   "id": "21b42482-6a0f-4d88-81d1-7712d6a6addb",
   "metadata": {},
   "source": [
    "### Fisher exact test\n",
    "Test if the number of common genes is larger than what would be obtained by chance"
   ]
  },
  {
   "cell_type": "code",
   "execution_count": 18,
   "id": "9acb0507-5c89-443d-85a6-299f34462378",
   "metadata": {},
   "outputs": [
    {
     "data": {
      "text/plain": [
       "2.1172271151200524e-23"
      ]
     },
     "execution_count": 18,
     "metadata": {},
     "output_type": "execute_result"
    }
   ],
   "source": [
    "b1_and_b2 = len(common_b1_b2_ctrl_vs_11mix)\n",
    "notb1_onlyb2 = 100 - b1_and_b2\n",
    "notb2_onlyb1 = 100 - b1_and_b2 \n",
    "notb1_notb2 = len(genes_universe)\n",
    "oddsratio, pvalue = fisher_exact([[b1_and_b2, notb1_onlyb2], [notb2_onlyb1, notb1_notb2]])\n",
    "pvalue"
   ]
  },
  {
   "cell_type": "markdown",
   "id": "61ada930-33d2-4555-bb44-857e7ac076c9",
   "metadata": {},
   "source": [
    "The odds of an event is the ratio of the number of times the event occurs to the number of times the event\n",
    "fails to occur.\n"
   ]
  },
  {
   "cell_type": "code",
   "execution_count": 19,
   "id": "d7870ad9-b491-40e2-aa9c-60108d7907a8",
   "metadata": {},
   "outputs": [
    {
     "data": {
      "text/plain": [
       "45.57567443987197"
      ]
     },
     "execution_count": 19,
     "metadata": {},
     "output_type": "execute_result"
    }
   ],
   "source": [
    "oddsratio"
   ]
  },
  {
   "cell_type": "markdown",
   "id": "b297eaa4-a31b-4c25-b3eb-fdf36d01db6c",
   "metadata": {
    "tags": []
   },
   "source": [
    "The p value is less than 5% (0.05), therefore we conclude that our observation is statistically significant. \n",
    "### This means that the number of intersected genes is higher than what we would expect by random chance.  "
   ]
  },
  {
   "cell_type": "code",
   "execution_count": 20,
   "id": "60a25199-87df-4bc2-8fe4-4b0947df0989",
   "metadata": {},
   "outputs": [
    {
     "data": {
      "image/png": "[encoded data removed]",
      "text/plain": [
       "<Figure size 640x480 with 1 Axes>"
      ]
     },
     "metadata": {},
     "output_type": "display_data"
    }
   ],
   "source": [
    "# Plot intersection\n",
    "venn2(subsets = (len(b1_ctrl_vs_11mix_100), len(b2_ctrl_vs_11mix_100), len(common_b1_b2_ctrl_vs_11mix)), set_labels = ('Batch1', 'Batch2'))\n",
    "plt.show()"
   ]
  },
  {
   "cell_type": "code",
   "execution_count": null,
   "id": "566c115a-2617-4375-b12c-cdab0f999a2d",
   "metadata": {},
   "outputs": [],
   "source": []
  }
 ],
 "metadata": {
  "kernelspec": {
   "display_name": "Python [conda env:.conda-decoupler]",
   "language": "python",
   "name": "conda-env-.conda-decoupler-py"
  },
  "language_info": {
   "codemirror_mode": {
    "name": "ipython",
    "version": 3
   },
   "file_extension": ".py",
   "mimetype": "text/x-python",
   "name": "python",
   "nbconvert_exporter": "python",
   "pygments_lexer": "ipython3",
   "version": "3.10.6"
  }
 },
 "nbformat": 4,
 "nbformat_minor": 5
}
