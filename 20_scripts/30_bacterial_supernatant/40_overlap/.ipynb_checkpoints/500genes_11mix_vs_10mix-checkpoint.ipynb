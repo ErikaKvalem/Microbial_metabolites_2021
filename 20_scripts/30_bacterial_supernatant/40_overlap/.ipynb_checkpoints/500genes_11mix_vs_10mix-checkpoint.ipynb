{
 "cells": [
  {
   "cell_type": "markdown",
   "id": "d826baad-9b52-4374-adf1-815a0ac8c0b5",
   "metadata": {},
   "source": [
    "## Batch1 vs Batch 2 11mix_vs_10mix top 500 genes"
   ]
  },
  {
   "cell_type": "markdown",
   "id": "e54074e7-1b57-495e-bd6d-f6b81d77a700",
   "metadata": {},
   "source": [
    "Importing libraries"
   ]
  },
  {
   "cell_type": "code",
   "execution_count": 1,
   "id": "db13d997-3877-4561-8adb-f9c5e6a065a5",
   "metadata": {},
   "outputs": [],
   "source": [
    "import decoupler as dc\n",
    "from scipy.stats import fisher_exact\n",
    "import matplotlib.pyplot as plt\n",
    "from matplotlib_venn import venn2\n",
    "\n",
    "\n",
    "# Only needed for visualization:\n",
    "import matplotlib.pyplot as plt\n",
    "import numpy as np\n",
    "import pandas as pd\n",
    "import scanpy as sc\n",
    "import seaborn as sns\n",
    "from anndata import AnnData"
   ]
  },
  {
   "cell_type": "markdown",
   "id": "be0e7644-25c5-4cfa-82fc-ae5423533cfc",
   "metadata": {},
   "source": [
    "Reading data from tsv Batch1 ctrl_vs_11mix IHWallGenes and Batch2 ctrl_vs_11mix IHWallGenes"
   ]
  },
  {
   "cell_type": "markdown",
   "id": "a1250f7e-cdf4-4f46-8a1c-a1f1c70d966a",
   "metadata": {},
   "source": [
    "Selecting only the TOP 100 GENES and the columns \"log2FoldChange\",\"pvalue\",\"padj\",\"gene_name\""
   ]
  },
  {
   "cell_type": "code",
   "execution_count": 2,
   "id": "44793005-9e6c-4898-a0a2-788dc255a1db",
   "metadata": {},
   "outputs": [],
   "source": [
    "# Batch1 ctrl_vs_11mix IHWallGenes and Batch2 ctrl_vs_11mix IHWallGenes\n",
    "b1_11mix_vs_10mix_all = \"/data/projects/2021/MicrobialMetabolites/bacterial-supernatant/20_deseq2icbi/batch1/paired_grp/deseq2_11mix_vs_10mix/11mix_10mix_IHWallGenes.tsv\"\n",
    "b2_11mix_vs_10mix_all = \"/data/projects/2021/MicrobialMetabolites/bacterial-supernatant/20_deseq2icbi/batch2/paired_grp/deseq2_11mix_vs_10mix/11mix_10mix_IHWallGenes.tsv\"\n",
    "\n",
    "b1_11mix_vs_10mix_all = pd.read_csv(b1_11mix_vs_10mix_all, sep=\"\\t\")\n",
    "b2_11mix_vs_10mix_all = pd.read_csv(b2_11mix_vs_10mix_all, sep=\"\\t\")"
   ]
  },
  {
   "cell_type": "code",
   "execution_count": 3,
   "id": "717855ef-42eb-43c6-a3b1-7eee63498270",
   "metadata": {},
   "outputs": [],
   "source": [
    "#B1 \n",
    "b1_11mix_vs_10mix_500 = b1_11mix_vs_10mix_all.iloc[0:500,:]\n",
    "b1_11mix_vs_10mix_500 = b1_11mix_vs_10mix_500[[\"log2FoldChange\",\"pvalue\",\"padj\",\"gene_name\"]]\n",
    "# B2\n",
    "b2_11mix_vs_10mix_500 = b2_11mix_vs_10mix_all.iloc[0:500,:]\n",
    "b2_11mix_vs_10mix_500= b2_11mix_vs_10mix_500[[\"log2FoldChange\",\"pvalue\",\"padj\",\"gene_name\"]]\n"
   ]
  },
  {
   "cell_type": "markdown",
   "id": "63a81e24-f477-4feb-aeee-5f2ed65ba461",
   "metadata": {},
   "source": [
    "Check that the genes only appear once "
   ]
  },
  {
   "cell_type": "code",
   "execution_count": 4,
   "id": "3e45cf5c-37df-463a-8c66-dde586577b9f",
   "metadata": {},
   "outputs": [
    {
     "data": {
      "text/plain": [
       "2"
      ]
     },
     "execution_count": 4,
     "metadata": {},
     "output_type": "execute_result"
    }
   ],
   "source": [
    "b2_11mix_vs_10mix_500[\"gene_name\"].value_counts().max()"
   ]
  },
  {
   "cell_type": "code",
   "execution_count": 5,
   "id": "bd6ec5ec-15a6-4b63-8c59-c56d8a24de8b",
   "metadata": {},
   "outputs": [
    {
     "data": {
      "text/plain": [
       "2"
      ]
     },
     "execution_count": 5,
     "metadata": {},
     "output_type": "execute_result"
    }
   ],
   "source": [
    "b2_11mix_vs_10mix_500[\"gene_name\"].value_counts().max()"
   ]
  },
  {
   "cell_type": "markdown",
   "id": "5aba8565-2dc8-4bbb-8e05-bebca980afc7",
   "metadata": {},
   "source": [
    "Creating a dataframe for each batch with only gene_name information"
   ]
  },
  {
   "cell_type": "code",
   "execution_count": 6,
   "id": "c5c5d01f-fea6-49f8-b3d1-80f22ea83f57",
   "metadata": {},
   "outputs": [],
   "source": [
    "b1_11mix_vs_10mix_500_gene = pd.DataFrame(b1_11mix_vs_10mix_500[\"gene_name\"])"
   ]
  },
  {
   "cell_type": "code",
   "execution_count": 7,
   "id": "6da8e26a-6ab7-415d-a81c-b2188dcccdb5",
   "metadata": {},
   "outputs": [
    {
     "data": {
      "text/html": [
       "<div>\n",
       "<style scoped>\n",
       "    .dataframe tbody tr th:only-of-type {\n",
       "        vertical-align: middle;\n",
       "    }\n",
       "\n",
       "    .dataframe tbody tr th {\n",
       "        vertical-align: top;\n",
       "    }\n",
       "\n",
       "    .dataframe thead th {\n",
       "        text-align: right;\n",
       "    }\n",
       "</style>\n",
       "<table border=\"1\" class=\"dataframe\">\n",
       "  <thead>\n",
       "    <tr style=\"text-align: right;\">\n",
       "      <th></th>\n",
       "      <th>gene_name</th>\n",
       "    </tr>\n",
       "  </thead>\n",
       "  <tbody>\n",
       "    <tr>\n",
       "      <th>0</th>\n",
       "      <td>Dynlt1c</td>\n",
       "    </tr>\n",
       "    <tr>\n",
       "      <th>1</th>\n",
       "      <td>Gm49519</td>\n",
       "    </tr>\n",
       "    <tr>\n",
       "      <th>2</th>\n",
       "      <td>Prkcsh</td>\n",
       "    </tr>\n",
       "    <tr>\n",
       "      <th>3</th>\n",
       "      <td>Mtch1</td>\n",
       "    </tr>\n",
       "    <tr>\n",
       "      <th>4</th>\n",
       "      <td>Car9</td>\n",
       "    </tr>\n",
       "    <tr>\n",
       "      <th>...</th>\n",
       "      <td>...</td>\n",
       "    </tr>\n",
       "    <tr>\n",
       "      <th>495</th>\n",
       "      <td>Avil</td>\n",
       "    </tr>\n",
       "    <tr>\n",
       "      <th>496</th>\n",
       "      <td>Svbp</td>\n",
       "    </tr>\n",
       "    <tr>\n",
       "      <th>497</th>\n",
       "      <td>1700123O20Rik</td>\n",
       "    </tr>\n",
       "    <tr>\n",
       "      <th>498</th>\n",
       "      <td>Rin1</td>\n",
       "    </tr>\n",
       "    <tr>\n",
       "      <th>499</th>\n",
       "      <td>U2</td>\n",
       "    </tr>\n",
       "  </tbody>\n",
       "</table>\n",
       "<p>500 rows × 1 columns</p>\n",
       "</div>"
      ],
      "text/plain": [
       "         gene_name\n",
       "0          Dynlt1c\n",
       "1          Gm49519\n",
       "2           Prkcsh\n",
       "3            Mtch1\n",
       "4             Car9\n",
       "..             ...\n",
       "495           Avil\n",
       "496           Svbp\n",
       "497  1700123O20Rik\n",
       "498           Rin1\n",
       "499             U2\n",
       "\n",
       "[500 rows x 1 columns]"
      ]
     },
     "execution_count": 7,
     "metadata": {},
     "output_type": "execute_result"
    }
   ],
   "source": [
    "b1_11mix_vs_10mix_500_gene "
   ]
  },
  {
   "cell_type": "code",
   "execution_count": 8,
   "id": "bc160441-cacb-4b68-a840-3dc9d317e15b",
   "metadata": {},
   "outputs": [],
   "source": [
    "b2_11mix_vs_10mix_500_gene = pd.DataFrame(b2_11mix_vs_10mix_500[\"gene_name\"])"
   ]
  },
  {
   "cell_type": "code",
   "execution_count": 9,
   "id": "7f4ad13d-8a39-4e7e-9b37-5d3111daf67e",
   "metadata": {},
   "outputs": [
    {
     "data": {
      "text/html": [
       "<div>\n",
       "<style scoped>\n",
       "    .dataframe tbody tr th:only-of-type {\n",
       "        vertical-align: middle;\n",
       "    }\n",
       "\n",
       "    .dataframe tbody tr th {\n",
       "        vertical-align: top;\n",
       "    }\n",
       "\n",
       "    .dataframe thead th {\n",
       "        text-align: right;\n",
       "    }\n",
       "</style>\n",
       "<table border=\"1\" class=\"dataframe\">\n",
       "  <thead>\n",
       "    <tr style=\"text-align: right;\">\n",
       "      <th></th>\n",
       "      <th>gene_name</th>\n",
       "    </tr>\n",
       "  </thead>\n",
       "  <tbody>\n",
       "    <tr>\n",
       "      <th>0</th>\n",
       "      <td>Eif4ebp3</td>\n",
       "    </tr>\n",
       "    <tr>\n",
       "      <th>1</th>\n",
       "      <td>Lcn2</td>\n",
       "    </tr>\n",
       "    <tr>\n",
       "      <th>2</th>\n",
       "      <td>Cxcl5</td>\n",
       "    </tr>\n",
       "    <tr>\n",
       "      <th>3</th>\n",
       "      <td>Cxcl2</td>\n",
       "    </tr>\n",
       "    <tr>\n",
       "      <th>4</th>\n",
       "      <td>Misp3</td>\n",
       "    </tr>\n",
       "    <tr>\n",
       "      <th>...</th>\n",
       "      <td>...</td>\n",
       "    </tr>\n",
       "    <tr>\n",
       "      <th>495</th>\n",
       "      <td>Arhgap26</td>\n",
       "    </tr>\n",
       "    <tr>\n",
       "      <th>496</th>\n",
       "      <td>Gm37140</td>\n",
       "    </tr>\n",
       "    <tr>\n",
       "      <th>497</th>\n",
       "      <td>Ccn1</td>\n",
       "    </tr>\n",
       "    <tr>\n",
       "      <th>498</th>\n",
       "      <td>Chst8</td>\n",
       "    </tr>\n",
       "    <tr>\n",
       "      <th>499</th>\n",
       "      <td>Gm16523</td>\n",
       "    </tr>\n",
       "  </tbody>\n",
       "</table>\n",
       "<p>500 rows × 1 columns</p>\n",
       "</div>"
      ],
      "text/plain": [
       "    gene_name\n",
       "0    Eif4ebp3\n",
       "1        Lcn2\n",
       "2       Cxcl5\n",
       "3       Cxcl2\n",
       "4       Misp3\n",
       "..        ...\n",
       "495  Arhgap26\n",
       "496   Gm37140\n",
       "497      Ccn1\n",
       "498     Chst8\n",
       "499   Gm16523\n",
       "\n",
       "[500 rows x 1 columns]"
      ]
     },
     "execution_count": 9,
     "metadata": {},
     "output_type": "execute_result"
    }
   ],
   "source": [
    "b2_11mix_vs_10mix_500_gene "
   ]
  },
  {
   "cell_type": "markdown",
   "id": "1483af26-11bb-432c-b0b1-3c99a5e42365",
   "metadata": {},
   "source": [
    "Finding common elements between the 2 datasets (b1 and b2 ctrl_vs_11mix)"
   ]
  },
  {
   "cell_type": "code",
   "execution_count": 10,
   "id": "0fb77425-4c57-425a-b6d3-df3cea0f0dc3",
   "metadata": {},
   "outputs": [],
   "source": [
    "common_b1_b2_11mix_vs_10mix = list(set(b1_11mix_vs_10mix_500_gene.gene_name) & set(b2_11mix_vs_10mix_500_gene.gene_name))"
   ]
  },
  {
   "cell_type": "code",
   "execution_count": 11,
   "id": "eb4ebcdd-a0ad-4cbb-9fdf-9e411da151ba",
   "metadata": {},
   "outputs": [
    {
     "data": {
      "text/plain": [
       "19"
      ]
     },
     "execution_count": 11,
     "metadata": {},
     "output_type": "execute_result"
    }
   ],
   "source": [
    "len(common_b1_b2_11mix_vs_10mix)"
   ]
  },
  {
   "cell_type": "code",
   "execution_count": 12,
   "id": "f0f4b870-3d10-4b7f-b916-3462a9810641",
   "metadata": {},
   "outputs": [],
   "source": [
    "# The union of the genes present in the All genes table from Batch1 and Batch2 \n",
    "genes_universe = list(set(b1_11mix_vs_10mix_all.gene_name) & set(b2_11mix_vs_10mix_all.gene_name))"
   ]
  },
  {
   "cell_type": "code",
   "execution_count": 13,
   "id": "60d79494-73e8-4ab1-81e6-b8b79b580a2a",
   "metadata": {},
   "outputs": [
    {
     "data": {
      "text/plain": [
       "15818"
      ]
     },
     "execution_count": 13,
     "metadata": {},
     "output_type": "execute_result"
    }
   ],
   "source": [
    "len(genes_universe)"
   ]
  },
  {
   "cell_type": "code",
   "execution_count": 14,
   "id": "93b2186b-bd54-4a8c-be86-e8c750ad0e57",
   "metadata": {},
   "outputs": [
    {
     "data": {
      "text/plain": [
       "['Jcad',\n",
       " 'Gm45501',\n",
       " 'Gm43560',\n",
       " 'Cxcl5',\n",
       " 'Gm38366',\n",
       " 'Gm16001',\n",
       " 'Rem2',\n",
       " 'U6',\n",
       " 'Rragd',\n",
       " 'U2',\n",
       " 'U1',\n",
       " 'Gm5914',\n",
       " 'St6galnac6',\n",
       " 'Slc41a1',\n",
       " 'Tmem231',\n",
       " 'Serpine1',\n",
       " 'Pbp2',\n",
       " 'Gm37140',\n",
       " 'Cxcl2']"
      ]
     },
     "execution_count": 14,
     "metadata": {},
     "output_type": "execute_result"
    }
   ],
   "source": [
    "common_b1_b2_11mix_vs_10mix"
   ]
  },
  {
   "cell_type": "markdown",
   "id": "e7d32a46-0ba3-4086-a907-568534947582",
   "metadata": {},
   "source": [
    "Findinf the rows in the original dataframe with all the information"
   ]
  },
  {
   "cell_type": "code",
   "execution_count": 15,
   "id": "57ebc01e-8326-45fc-841e-94254e93e536",
   "metadata": {},
   "outputs": [
    {
     "data": {
      "text/html": [
       "<div>\n",
       "<style scoped>\n",
       "    .dataframe tbody tr th:only-of-type {\n",
       "        vertical-align: middle;\n",
       "    }\n",
       "\n",
       "    .dataframe tbody tr th {\n",
       "        vertical-align: top;\n",
       "    }\n",
       "\n",
       "    .dataframe thead th {\n",
       "        text-align: right;\n",
       "    }\n",
       "</style>\n",
       "<table border=\"1\" class=\"dataframe\">\n",
       "  <thead>\n",
       "    <tr style=\"text-align: right;\">\n",
       "      <th></th>\n",
       "      <th>log2FoldChange</th>\n",
       "      <th>pvalue</th>\n",
       "      <th>padj</th>\n",
       "      <th>gene_name</th>\n",
       "    </tr>\n",
       "  </thead>\n",
       "  <tbody>\n",
       "    <tr>\n",
       "      <th>23</th>\n",
       "      <td>-1.204755</td>\n",
       "      <td>0.002409</td>\n",
       "      <td>1.0</td>\n",
       "      <td>St6galnac6</td>\n",
       "    </tr>\n",
       "    <tr>\n",
       "      <th>28</th>\n",
       "      <td>-5.521438</td>\n",
       "      <td>0.003201</td>\n",
       "      <td>1.0</td>\n",
       "      <td>Gm43560</td>\n",
       "    </tr>\n",
       "    <tr>\n",
       "      <th>36</th>\n",
       "      <td>5.347851</td>\n",
       "      <td>0.004273</td>\n",
       "      <td>1.0</td>\n",
       "      <td>Gm37140</td>\n",
       "    </tr>\n",
       "    <tr>\n",
       "      <th>44</th>\n",
       "      <td>2.801380</td>\n",
       "      <td>0.005707</td>\n",
       "      <td>1.0</td>\n",
       "      <td>Cxcl2</td>\n",
       "    </tr>\n",
       "    <tr>\n",
       "      <th>49</th>\n",
       "      <td>-10.621564</td>\n",
       "      <td>0.006557</td>\n",
       "      <td>1.0</td>\n",
       "      <td>U1</td>\n",
       "    </tr>\n",
       "    <tr>\n",
       "      <th>64</th>\n",
       "      <td>2.321095</td>\n",
       "      <td>0.008048</td>\n",
       "      <td>1.0</td>\n",
       "      <td>Serpine1</td>\n",
       "    </tr>\n",
       "    <tr>\n",
       "      <th>71</th>\n",
       "      <td>1.742918</td>\n",
       "      <td>0.008793</td>\n",
       "      <td>1.0</td>\n",
       "      <td>Cxcl5</td>\n",
       "    </tr>\n",
       "    <tr>\n",
       "      <th>102</th>\n",
       "      <td>-2.905714</td>\n",
       "      <td>0.012607</td>\n",
       "      <td>1.0</td>\n",
       "      <td>Gm5914</td>\n",
       "    </tr>\n",
       "    <tr>\n",
       "      <th>130</th>\n",
       "      <td>-4.947403</td>\n",
       "      <td>0.016339</td>\n",
       "      <td>1.0</td>\n",
       "      <td>U6</td>\n",
       "    </tr>\n",
       "    <tr>\n",
       "      <th>180</th>\n",
       "      <td>0.975101</td>\n",
       "      <td>0.022888</td>\n",
       "      <td>1.0</td>\n",
       "      <td>Pbp2</td>\n",
       "    </tr>\n",
       "    <tr>\n",
       "      <th>181</th>\n",
       "      <td>-4.207048</td>\n",
       "      <td>0.023006</td>\n",
       "      <td>1.0</td>\n",
       "      <td>Gm16001</td>\n",
       "    </tr>\n",
       "    <tr>\n",
       "      <th>208</th>\n",
       "      <td>-6.022584</td>\n",
       "      <td>0.026921</td>\n",
       "      <td>1.0</td>\n",
       "      <td>U2</td>\n",
       "    </tr>\n",
       "    <tr>\n",
       "      <th>225</th>\n",
       "      <td>1.191627</td>\n",
       "      <td>0.028097</td>\n",
       "      <td>1.0</td>\n",
       "      <td>Slc41a1</td>\n",
       "    </tr>\n",
       "    <tr>\n",
       "      <th>236</th>\n",
       "      <td>1.459059</td>\n",
       "      <td>0.030047</td>\n",
       "      <td>1.0</td>\n",
       "      <td>Rem2</td>\n",
       "    </tr>\n",
       "    <tr>\n",
       "      <th>292</th>\n",
       "      <td>-4.633630</td>\n",
       "      <td>0.036194</td>\n",
       "      <td>1.0</td>\n",
       "      <td>U6</td>\n",
       "    </tr>\n",
       "    <tr>\n",
       "      <th>349</th>\n",
       "      <td>1.199105</td>\n",
       "      <td>0.043001</td>\n",
       "      <td>1.0</td>\n",
       "      <td>Jcad</td>\n",
       "    </tr>\n",
       "    <tr>\n",
       "      <th>370</th>\n",
       "      <td>1.708561</td>\n",
       "      <td>0.046034</td>\n",
       "      <td>1.0</td>\n",
       "      <td>Gm38366</td>\n",
       "    </tr>\n",
       "    <tr>\n",
       "      <th>392</th>\n",
       "      <td>1.437322</td>\n",
       "      <td>0.047836</td>\n",
       "      <td>1.0</td>\n",
       "      <td>Tmem231</td>\n",
       "    </tr>\n",
       "    <tr>\n",
       "      <th>434</th>\n",
       "      <td>1.229630</td>\n",
       "      <td>0.051123</td>\n",
       "      <td>1.0</td>\n",
       "      <td>Rragd</td>\n",
       "    </tr>\n",
       "    <tr>\n",
       "      <th>483</th>\n",
       "      <td>1.218670</td>\n",
       "      <td>0.055295</td>\n",
       "      <td>1.0</td>\n",
       "      <td>Gm45501</td>\n",
       "    </tr>\n",
       "    <tr>\n",
       "      <th>499</th>\n",
       "      <td>-7.461037</td>\n",
       "      <td>0.056354</td>\n",
       "      <td>1.0</td>\n",
       "      <td>U2</td>\n",
       "    </tr>\n",
       "  </tbody>\n",
       "</table>\n",
       "</div>"
      ],
      "text/plain": [
       "     log2FoldChange    pvalue  padj   gene_name\n",
       "23        -1.204755  0.002409   1.0  St6galnac6\n",
       "28        -5.521438  0.003201   1.0     Gm43560\n",
       "36         5.347851  0.004273   1.0     Gm37140\n",
       "44         2.801380  0.005707   1.0       Cxcl2\n",
       "49       -10.621564  0.006557   1.0          U1\n",
       "64         2.321095  0.008048   1.0    Serpine1\n",
       "71         1.742918  0.008793   1.0       Cxcl5\n",
       "102       -2.905714  0.012607   1.0      Gm5914\n",
       "130       -4.947403  0.016339   1.0          U6\n",
       "180        0.975101  0.022888   1.0        Pbp2\n",
       "181       -4.207048  0.023006   1.0     Gm16001\n",
       "208       -6.022584  0.026921   1.0          U2\n",
       "225        1.191627  0.028097   1.0     Slc41a1\n",
       "236        1.459059  0.030047   1.0        Rem2\n",
       "292       -4.633630  0.036194   1.0          U6\n",
       "349        1.199105  0.043001   1.0        Jcad\n",
       "370        1.708561  0.046034   1.0     Gm38366\n",
       "392        1.437322  0.047836   1.0     Tmem231\n",
       "434        1.229630  0.051123   1.0       Rragd\n",
       "483        1.218670  0.055295   1.0     Gm45501\n",
       "499       -7.461037  0.056354   1.0          U2"
      ]
     },
     "execution_count": 15,
     "metadata": {},
     "output_type": "execute_result"
    }
   ],
   "source": [
    "b1_common = b1_11mix_vs_10mix_500[b1_11mix_vs_10mix_500[\"gene_name\"].isin(common_b1_b2_11mix_vs_10mix)]\n",
    "b1_common"
   ]
  },
  {
   "cell_type": "code",
   "execution_count": 16,
   "id": "c01af895-378f-49ec-831d-70c60181d1d3",
   "metadata": {},
   "outputs": [
    {
     "data": {
      "text/html": [
       "<div>\n",
       "<style scoped>\n",
       "    .dataframe tbody tr th:only-of-type {\n",
       "        vertical-align: middle;\n",
       "    }\n",
       "\n",
       "    .dataframe tbody tr th {\n",
       "        vertical-align: top;\n",
       "    }\n",
       "\n",
       "    .dataframe thead th {\n",
       "        text-align: right;\n",
       "    }\n",
       "</style>\n",
       "<table border=\"1\" class=\"dataframe\">\n",
       "  <thead>\n",
       "    <tr style=\"text-align: right;\">\n",
       "      <th></th>\n",
       "      <th>log2FoldChange</th>\n",
       "      <th>pvalue</th>\n",
       "      <th>padj</th>\n",
       "      <th>gene_name</th>\n",
       "    </tr>\n",
       "  </thead>\n",
       "  <tbody>\n",
       "    <tr>\n",
       "      <th>2</th>\n",
       "      <td>2.175691</td>\n",
       "      <td>3.520338e-10</td>\n",
       "      <td>0.000007</td>\n",
       "      <td>Cxcl5</td>\n",
       "    </tr>\n",
       "    <tr>\n",
       "      <th>3</th>\n",
       "      <td>4.105552</td>\n",
       "      <td>2.056211e-08</td>\n",
       "      <td>0.000031</td>\n",
       "      <td>Cxcl2</td>\n",
       "    </tr>\n",
       "    <tr>\n",
       "      <th>42</th>\n",
       "      <td>-1.246190</td>\n",
       "      <td>2.487257e-04</td>\n",
       "      <td>0.464153</td>\n",
       "      <td>St6galnac6</td>\n",
       "    </tr>\n",
       "    <tr>\n",
       "      <th>73</th>\n",
       "      <td>4.795002</td>\n",
       "      <td>7.008279e-04</td>\n",
       "      <td>0.235102</td>\n",
       "      <td>Gm43560</td>\n",
       "    </tr>\n",
       "    <tr>\n",
       "      <th>152</th>\n",
       "      <td>11.966925</td>\n",
       "      <td>2.191201e-03</td>\n",
       "      <td>0.140777</td>\n",
       "      <td>U1</td>\n",
       "    </tr>\n",
       "    <tr>\n",
       "      <th>171</th>\n",
       "      <td>-2.669612</td>\n",
       "      <td>2.757110e-03</td>\n",
       "      <td>0.191804</td>\n",
       "      <td>Gm5914</td>\n",
       "    </tr>\n",
       "    <tr>\n",
       "      <th>185</th>\n",
       "      <td>0.811429</td>\n",
       "      <td>3.096933e-03</td>\n",
       "      <td>0.158127</td>\n",
       "      <td>Rragd</td>\n",
       "    </tr>\n",
       "    <tr>\n",
       "      <th>220</th>\n",
       "      <td>1.294976</td>\n",
       "      <td>3.889465e-03</td>\n",
       "      <td>0.167935</td>\n",
       "      <td>Gm38366</td>\n",
       "    </tr>\n",
       "    <tr>\n",
       "      <th>223</th>\n",
       "      <td>0.895126</td>\n",
       "      <td>3.914319e-03</td>\n",
       "      <td>0.167935</td>\n",
       "      <td>Jcad</td>\n",
       "    </tr>\n",
       "    <tr>\n",
       "      <th>253</th>\n",
       "      <td>1.606311</td>\n",
       "      <td>4.790679e-03</td>\n",
       "      <td>0.235102</td>\n",
       "      <td>Rem2</td>\n",
       "    </tr>\n",
       "    <tr>\n",
       "      <th>328</th>\n",
       "      <td>1.405456</td>\n",
       "      <td>7.084899e-03</td>\n",
       "      <td>0.217163</td>\n",
       "      <td>Gm45501</td>\n",
       "    </tr>\n",
       "    <tr>\n",
       "      <th>340</th>\n",
       "      <td>-10.440436</td>\n",
       "      <td>7.535396e-03</td>\n",
       "      <td>0.220911</td>\n",
       "      <td>U1</td>\n",
       "    </tr>\n",
       "    <tr>\n",
       "      <th>393</th>\n",
       "      <td>-6.441701</td>\n",
       "      <td>8.972004e-03</td>\n",
       "      <td>0.298141</td>\n",
       "      <td>U6</td>\n",
       "    </tr>\n",
       "    <tr>\n",
       "      <th>405</th>\n",
       "      <td>-10.139601</td>\n",
       "      <td>9.454504e-03</td>\n",
       "      <td>0.235102</td>\n",
       "      <td>U2</td>\n",
       "    </tr>\n",
       "    <tr>\n",
       "      <th>409</th>\n",
       "      <td>3.866774</td>\n",
       "      <td>9.555980e-03</td>\n",
       "      <td>0.592267</td>\n",
       "      <td>Gm16001</td>\n",
       "    </tr>\n",
       "    <tr>\n",
       "      <th>418</th>\n",
       "      <td>0.953768</td>\n",
       "      <td>9.747784e-03</td>\n",
       "      <td>0.235102</td>\n",
       "      <td>Slc41a1</td>\n",
       "    </tr>\n",
       "    <tr>\n",
       "      <th>451</th>\n",
       "      <td>2.246368</td>\n",
       "      <td>1.109182e-02</td>\n",
       "      <td>0.562104</td>\n",
       "      <td>Serpine1</td>\n",
       "    </tr>\n",
       "    <tr>\n",
       "      <th>474</th>\n",
       "      <td>0.709740</td>\n",
       "      <td>1.186316e-02</td>\n",
       "      <td>1.000000</td>\n",
       "      <td>Pbp2</td>\n",
       "    </tr>\n",
       "    <tr>\n",
       "      <th>484</th>\n",
       "      <td>0.885436</td>\n",
       "      <td>1.249901e-02</td>\n",
       "      <td>0.316576</td>\n",
       "      <td>Tmem231</td>\n",
       "    </tr>\n",
       "    <tr>\n",
       "      <th>496</th>\n",
       "      <td>2.904982</td>\n",
       "      <td>1.301109e-02</td>\n",
       "      <td>0.346474</td>\n",
       "      <td>Gm37140</td>\n",
       "    </tr>\n",
       "  </tbody>\n",
       "</table>\n",
       "</div>"
      ],
      "text/plain": [
       "     log2FoldChange        pvalue      padj   gene_name\n",
       "2          2.175691  3.520338e-10  0.000007       Cxcl5\n",
       "3          4.105552  2.056211e-08  0.000031       Cxcl2\n",
       "42        -1.246190  2.487257e-04  0.464153  St6galnac6\n",
       "73         4.795002  7.008279e-04  0.235102     Gm43560\n",
       "152       11.966925  2.191201e-03  0.140777          U1\n",
       "171       -2.669612  2.757110e-03  0.191804      Gm5914\n",
       "185        0.811429  3.096933e-03  0.158127       Rragd\n",
       "220        1.294976  3.889465e-03  0.167935     Gm38366\n",
       "223        0.895126  3.914319e-03  0.167935        Jcad\n",
       "253        1.606311  4.790679e-03  0.235102        Rem2\n",
       "328        1.405456  7.084899e-03  0.217163     Gm45501\n",
       "340      -10.440436  7.535396e-03  0.220911          U1\n",
       "393       -6.441701  8.972004e-03  0.298141          U6\n",
       "405      -10.139601  9.454504e-03  0.235102          U2\n",
       "409        3.866774  9.555980e-03  0.592267     Gm16001\n",
       "418        0.953768  9.747784e-03  0.235102     Slc41a1\n",
       "451        2.246368  1.109182e-02  0.562104    Serpine1\n",
       "474        0.709740  1.186316e-02  1.000000        Pbp2\n",
       "484        0.885436  1.249901e-02  0.316576     Tmem231\n",
       "496        2.904982  1.301109e-02  0.346474     Gm37140"
      ]
     },
     "execution_count": 16,
     "metadata": {},
     "output_type": "execute_result"
    }
   ],
   "source": [
    "b2_common = b2_11mix_vs_10mix_500[ b2_11mix_vs_10mix_500[\"gene_name\"].isin(common_b1_b2_11mix_vs_10mix)]\n",
    "b2_common"
   ]
  },
  {
   "cell_type": "markdown",
   "id": "5f5b1a35-835a-4ef2-85f4-448b6416efa7",
   "metadata": {},
   "source": [
    "### Fisher exact test\n",
    "Test if the number of common genes is larger than what would be obtained by chance"
   ]
  },
  {
   "cell_type": "code",
   "execution_count": 17,
   "id": "46080984-a709-45d5-ba6f-2717fc043e22",
   "metadata": {},
   "outputs": [
    {
     "data": {
      "text/plain": [
       "0.2826725470492857"
      ]
     },
     "execution_count": 17,
     "metadata": {},
     "output_type": "execute_result"
    }
   ],
   "source": [
    "b1_and_b2 = len(common_b1_b2_11mix_vs_10mix)\n",
    "notb1_onlyb2 = 500 - b1_and_b2\n",
    "notb2_onlyb1 = 500 - b1_and_b2\n",
    "notb1_notb2 = len(genes_universe)\n",
    "oddsratio, pvalue = fisher_exact([[b1_and_b2, notb1_onlyb2], [notb2_onlyb1, notb1_notb2]])\n",
    "pvalue"
   ]
  },
  {
   "cell_type": "code",
   "execution_count": 18,
   "id": "108c7d59-16a6-446b-8a60-732b6dff918d",
   "metadata": {},
   "outputs": [
    {
     "data": {
      "text/plain": [
       "1.2990175526558063"
      ]
     },
     "execution_count": 18,
     "metadata": {},
     "output_type": "execute_result"
    }
   ],
   "source": [
    "oddsratio"
   ]
  },
  {
   "cell_type": "markdown",
   "id": "0a1a8fde-5810-41c6-8fcc-404ab0cc01f3",
   "metadata": {
    "tags": []
   },
   "source": [
    "The p value is less than 5% (0.05), therefore we conclude that our observation is statistically significant. \n",
    "### The number of intersected genes is higher than what we would expect by random chance.  "
   ]
  },
  {
   "cell_type": "code",
   "execution_count": 19,
   "id": "708cab18-b4fe-4580-a579-c6af1c2cad70",
   "metadata": {},
   "outputs": [
    {
     "data": {
      "image/png": "[encoded data removed]",
      "text/plain": [
       "<Figure size 640x480 with 1 Axes>"
      ]
     },
     "metadata": {},
     "output_type": "display_data"
    }
   ],
   "source": [
    "# plot intersection\n",
    "venn2(subsets = (len(b1_11mix_vs_10mix_500), len(b2_11mix_vs_10mix_500), len(common_b1_b2_11mix_vs_10mix)), set_labels = ('Batch1', 'Batch2'))\n",
    "plt.show()"
   ]
  }
 ],
 "metadata": {
  "kernelspec": {
   "display_name": "Python [conda env:.conda-decoupler]",
   "language": "python",
   "name": "conda-env-.conda-decoupler-py"
  },
  "language_info": {
   "codemirror_mode": {
    "name": "ipython",
    "version": 3
   },
   "file_extension": ".py",
   "mimetype": "text/x-python",
   "name": "python",
   "nbconvert_exporter": "python",
   "pygments_lexer": "ipython3",
   "version": "3.10.6"
  }
 },
 "nbformat": 4,
 "nbformat_minor": 5
}
