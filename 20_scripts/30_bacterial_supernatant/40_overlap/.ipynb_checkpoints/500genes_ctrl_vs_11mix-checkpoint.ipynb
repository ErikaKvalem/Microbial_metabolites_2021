{
 "cells": [
  {
   "cell_type": "markdown",
   "id": "d826baad-9b52-4374-adf1-815a0ac8c0b5",
   "metadata": {},
   "source": [
    "## Batch1 vs Batch 2 ctrl_vs_11mix top 500 genes"
   ]
  },
  {
   "cell_type": "markdown",
   "id": "e54074e7-1b57-495e-bd6d-f6b81d77a700",
   "metadata": {},
   "source": [
    "Importing libraries"
   ]
  },
  {
   "cell_type": "code",
   "execution_count": 1,
   "id": "db13d997-3877-4561-8adb-f9c5e6a065a5",
   "metadata": {},
   "outputs": [],
   "source": [
    "import decoupler as dc\n",
    "from scipy.stats import fisher_exact\n",
    "import matplotlib.pyplot as plt\n",
    "from matplotlib_venn import venn2\n",
    "\n",
    "\n",
    "# Only needed for visualization:\n",
    "import matplotlib.pyplot as plt\n",
    "import numpy as np\n",
    "import pandas as pd\n",
    "import scanpy as sc\n",
    "import seaborn as sns\n",
    "from anndata import AnnData"
   ]
  },
  {
   "cell_type": "markdown",
   "id": "be0e7644-25c5-4cfa-82fc-ae5423533cfc",
   "metadata": {},
   "source": [
    "Reading data from tsv Batch1 ctrl_vs_11mix IHWallGenes and Batch2 ctrl_vs_11mix IHWallGenes"
   ]
  },
  {
   "cell_type": "markdown",
   "id": "a1250f7e-cdf4-4f46-8a1c-a1f1c70d966a",
   "metadata": {},
   "source": [
    "Selecting only the TOP 100 GENES and the columns \"log2FoldChange\",\"pvalue\",\"padj\",\"gene_name\""
   ]
  },
  {
   "cell_type": "code",
   "execution_count": 2,
   "id": "8bb9adf3-047f-4fc8-a0df-6fde8c0a77c5",
   "metadata": {},
   "outputs": [],
   "source": [
    "# Batch1 ctrl_vs_11mix IHWallGenes and Batch2 ctrl_vs_11mix IHWallGenes\n",
    "b1_ctrl_vs_11mix_all =\"/data/projects/2021/MicrobialMetabolites/bacterial-supernatant/20_deseq2icbi/batch1/paired_grp/deseq2_ctrl_vs_11mix/11mix_ctrl_IHWallGenes.tsv\"\n",
    "b2_ctrl_vs_11mix_all = \"/data/projects/2021/MicrobialMetabolites/bacterial-supernatant/20_deseq2icbi/batch2/paired_grp/deseq2_ctrl_vs_11mix/11mix_ctrl_IHWallGenes.tsv\"\n",
    "\n",
    "b1_ctrl_vs_11mix_all = pd.read_csv(b1_ctrl_vs_11mix_all, sep=\"\\t\")\n",
    "b2_ctrl_vs_11mix_all = pd.read_csv(b2_ctrl_vs_11mix_all, sep=\"\\t\")"
   ]
  },
  {
   "cell_type": "code",
   "execution_count": 3,
   "id": "717855ef-42eb-43c6-a3b1-7eee63498270",
   "metadata": {},
   "outputs": [],
   "source": [
    "#B1 \n",
    "b1_ctrl_vs_11mix_500 = b1_ctrl_vs_11mix_all.iloc[0:500,:]\n",
    "b1_ctrl_vs_11mix_500 = b1_ctrl_vs_11mix_500[[\"log2FoldChange\",\"pvalue\",\"padj\",\"gene_name\"]]\n",
    "# B2\n",
    "b2_ctrl_vs_11mix_500 = b2_ctrl_vs_11mix_all.iloc[0:500,:]\n",
    "b2_ctrl_vs_11mix_500 = b2_ctrl_vs_11mix_500[[\"log2FoldChange\",\"pvalue\",\"padj\",\"gene_name\"]]\n"
   ]
  },
  {
   "cell_type": "markdown",
   "id": "63a81e24-f477-4feb-aeee-5f2ed65ba461",
   "metadata": {},
   "source": [
    "Check that the genes only appear once "
   ]
  },
  {
   "cell_type": "code",
   "execution_count": 4,
   "id": "3e45cf5c-37df-463a-8c66-dde586577b9f",
   "metadata": {},
   "outputs": [
    {
     "data": {
      "text/plain": [
       "2"
      ]
     },
     "execution_count": 4,
     "metadata": {},
     "output_type": "execute_result"
    }
   ],
   "source": [
    "b1_ctrl_vs_11mix_500[\"gene_name\"].value_counts().max()"
   ]
  },
  {
   "cell_type": "code",
   "execution_count": 5,
   "id": "bd6ec5ec-15a6-4b63-8c59-c56d8a24de8b",
   "metadata": {},
   "outputs": [
    {
     "data": {
      "text/plain": [
       "1"
      ]
     },
     "execution_count": 5,
     "metadata": {},
     "output_type": "execute_result"
    }
   ],
   "source": [
    "b2_ctrl_vs_11mix_500[\"gene_name\"].value_counts().max()"
   ]
  },
  {
   "cell_type": "markdown",
   "id": "5aba8565-2dc8-4bbb-8e05-bebca980afc7",
   "metadata": {},
   "source": [
    "Creating a dataframe for each batch with only gene_name information"
   ]
  },
  {
   "cell_type": "code",
   "execution_count": 6,
   "id": "c5c5d01f-fea6-49f8-b3d1-80f22ea83f57",
   "metadata": {},
   "outputs": [],
   "source": [
    "b1_ctrl_vs_11mix_500_gene = pd.DataFrame(b1_ctrl_vs_11mix_500[\"gene_name\"])"
   ]
  },
  {
   "cell_type": "code",
   "execution_count": 7,
   "id": "6da8e26a-6ab7-415d-a81c-b2188dcccdb5",
   "metadata": {},
   "outputs": [
    {
     "data": {
      "text/html": [
       "<div>\n",
       "<style scoped>\n",
       "    .dataframe tbody tr th:only-of-type {\n",
       "        vertical-align: middle;\n",
       "    }\n",
       "\n",
       "    .dataframe tbody tr th {\n",
       "        vertical-align: top;\n",
       "    }\n",
       "\n",
       "    .dataframe thead th {\n",
       "        text-align: right;\n",
       "    }\n",
       "</style>\n",
       "<table border=\"1\" class=\"dataframe\">\n",
       "  <thead>\n",
       "    <tr style=\"text-align: right;\">\n",
       "      <th></th>\n",
       "      <th>gene_name</th>\n",
       "    </tr>\n",
       "  </thead>\n",
       "  <tbody>\n",
       "    <tr>\n",
       "      <th>0</th>\n",
       "      <td>Selenom</td>\n",
       "    </tr>\n",
       "    <tr>\n",
       "      <th>1</th>\n",
       "      <td>Eml2</td>\n",
       "    </tr>\n",
       "    <tr>\n",
       "      <th>2</th>\n",
       "      <td>Atp2b4</td>\n",
       "    </tr>\n",
       "    <tr>\n",
       "      <th>3</th>\n",
       "      <td>Tnfaip2</td>\n",
       "    </tr>\n",
       "    <tr>\n",
       "      <th>4</th>\n",
       "      <td>Pllp</td>\n",
       "    </tr>\n",
       "    <tr>\n",
       "      <th>...</th>\n",
       "      <td>...</td>\n",
       "    </tr>\n",
       "    <tr>\n",
       "      <th>495</th>\n",
       "      <td>Lgmn</td>\n",
       "    </tr>\n",
       "    <tr>\n",
       "      <th>496</th>\n",
       "      <td>F3</td>\n",
       "    </tr>\n",
       "    <tr>\n",
       "      <th>497</th>\n",
       "      <td>Hspb1</td>\n",
       "    </tr>\n",
       "    <tr>\n",
       "      <th>498</th>\n",
       "      <td>Max</td>\n",
       "    </tr>\n",
       "    <tr>\n",
       "      <th>499</th>\n",
       "      <td>Atp5l</td>\n",
       "    </tr>\n",
       "  </tbody>\n",
       "</table>\n",
       "<p>500 rows × 1 columns</p>\n",
       "</div>"
      ],
      "text/plain": [
       "    gene_name\n",
       "0     Selenom\n",
       "1        Eml2\n",
       "2      Atp2b4\n",
       "3     Tnfaip2\n",
       "4        Pllp\n",
       "..        ...\n",
       "495      Lgmn\n",
       "496        F3\n",
       "497     Hspb1\n",
       "498       Max\n",
       "499     Atp5l\n",
       "\n",
       "[500 rows x 1 columns]"
      ]
     },
     "execution_count": 7,
     "metadata": {},
     "output_type": "execute_result"
    }
   ],
   "source": [
    "b1_ctrl_vs_11mix_500_gene"
   ]
  },
  {
   "cell_type": "code",
   "execution_count": 8,
   "id": "bc160441-cacb-4b68-a840-3dc9d317e15b",
   "metadata": {},
   "outputs": [],
   "source": [
    "b2_ctrl_vs_11mix_500_gene = pd.DataFrame(b2_ctrl_vs_11mix_500[\"gene_name\"])"
   ]
  },
  {
   "cell_type": "code",
   "execution_count": 9,
   "id": "7f4ad13d-8a39-4e7e-9b37-5d3111daf67e",
   "metadata": {},
   "outputs": [
    {
     "data": {
      "text/html": [
       "<div>\n",
       "<style scoped>\n",
       "    .dataframe tbody tr th:only-of-type {\n",
       "        vertical-align: middle;\n",
       "    }\n",
       "\n",
       "    .dataframe tbody tr th {\n",
       "        vertical-align: top;\n",
       "    }\n",
       "\n",
       "    .dataframe thead th {\n",
       "        text-align: right;\n",
       "    }\n",
       "</style>\n",
       "<table border=\"1\" class=\"dataframe\">\n",
       "  <thead>\n",
       "    <tr style=\"text-align: right;\">\n",
       "      <th></th>\n",
       "      <th>gene_name</th>\n",
       "    </tr>\n",
       "  </thead>\n",
       "  <tbody>\n",
       "    <tr>\n",
       "      <th>0</th>\n",
       "      <td>Cxcl5</td>\n",
       "    </tr>\n",
       "    <tr>\n",
       "      <th>1</th>\n",
       "      <td>Igsf23</td>\n",
       "    </tr>\n",
       "    <tr>\n",
       "      <th>2</th>\n",
       "      <td>Ybx2</td>\n",
       "    </tr>\n",
       "    <tr>\n",
       "      <th>3</th>\n",
       "      <td>Lcn2</td>\n",
       "    </tr>\n",
       "    <tr>\n",
       "      <th>4</th>\n",
       "      <td>P3h4</td>\n",
       "    </tr>\n",
       "    <tr>\n",
       "      <th>...</th>\n",
       "      <td>...</td>\n",
       "    </tr>\n",
       "    <tr>\n",
       "      <th>495</th>\n",
       "      <td>Clca3a2</td>\n",
       "    </tr>\n",
       "    <tr>\n",
       "      <th>496</th>\n",
       "      <td>Sgcb</td>\n",
       "    </tr>\n",
       "    <tr>\n",
       "      <th>497</th>\n",
       "      <td>Cdipt</td>\n",
       "    </tr>\n",
       "    <tr>\n",
       "      <th>498</th>\n",
       "      <td>Slc51b</td>\n",
       "    </tr>\n",
       "    <tr>\n",
       "      <th>499</th>\n",
       "      <td>Inava</td>\n",
       "    </tr>\n",
       "  </tbody>\n",
       "</table>\n",
       "<p>500 rows × 1 columns</p>\n",
       "</div>"
      ],
      "text/plain": [
       "    gene_name\n",
       "0       Cxcl5\n",
       "1      Igsf23\n",
       "2        Ybx2\n",
       "3        Lcn2\n",
       "4        P3h4\n",
       "..        ...\n",
       "495   Clca3a2\n",
       "496      Sgcb\n",
       "497     Cdipt\n",
       "498    Slc51b\n",
       "499     Inava\n",
       "\n",
       "[500 rows x 1 columns]"
      ]
     },
     "execution_count": 9,
     "metadata": {},
     "output_type": "execute_result"
    }
   ],
   "source": [
    "b2_ctrl_vs_11mix_500_gene"
   ]
  },
  {
   "cell_type": "markdown",
   "id": "1483af26-11bb-432c-b0b1-3c99a5e42365",
   "metadata": {},
   "source": [
    "Finding common elements between the 2 datasets (b1 and b2 ctrl_vs_11mix)"
   ]
  },
  {
   "cell_type": "code",
   "execution_count": 10,
   "id": "0fb77425-4c57-425a-b6d3-df3cea0f0dc3",
   "metadata": {},
   "outputs": [],
   "source": [
    "common_b1_b2_ctrl_vs_11mix = list(set(b1_ctrl_vs_11mix_500_gene.gene_name) & set(b2_ctrl_vs_11mix_500_gene.gene_name))"
   ]
  },
  {
   "cell_type": "code",
   "execution_count": 11,
   "id": "57763d50-acba-40d6-9474-53daff68fdda",
   "metadata": {
    "tags": []
   },
   "outputs": [],
   "source": [
    "# The union of the genes present in the All genes table from Batch1 and Batch2 \n",
    "genes_universe = list(set(b1_ctrl_vs_11mix_all.gene_name) & set(b2_ctrl_vs_11mix_all.gene_name))"
   ]
  },
  {
   "cell_type": "code",
   "execution_count": 12,
   "id": "ee72f4ae-5081-45e8-b5ac-00f00665518f",
   "metadata": {},
   "outputs": [
    {
     "data": {
      "text/plain": [
       "15738"
      ]
     },
     "execution_count": 12,
     "metadata": {},
     "output_type": "execute_result"
    }
   ],
   "source": [
    "len(genes_universe)"
   ]
  },
  {
   "cell_type": "code",
   "execution_count": 13,
   "id": "eb4ebcdd-a0ad-4cbb-9fdf-9e411da151ba",
   "metadata": {},
   "outputs": [
    {
     "data": {
      "text/plain": [
       "144"
      ]
     },
     "execution_count": 13,
     "metadata": {},
     "output_type": "execute_result"
    }
   ],
   "source": [
    "len(common_b1_b2_ctrl_vs_11mix)"
   ]
  },
  {
   "cell_type": "code",
   "execution_count": 14,
   "id": "93b2186b-bd54-4a8c-be86-e8c750ad0e57",
   "metadata": {},
   "outputs": [
    {
     "data": {
      "text/plain": [
       "['Ermp1',\n",
       " 'Pik3r3',\n",
       " 'Hras',\n",
       " 'Tnrc18',\n",
       " 'Hspb8',\n",
       " 'S100a6',\n",
       " 'Msh5',\n",
       " 'Adam15',\n",
       " 'Entpd4',\n",
       " 'P3h4',\n",
       " 'Degs2',\n",
       " 'Casp1',\n",
       " 'Ppfia3',\n",
       " 'Tm4sf4',\n",
       " 'Ppa1',\n",
       " 'Cr1l',\n",
       " 'Nyap1',\n",
       " 'Leng9',\n",
       " 'Ptpmt1',\n",
       " 'Eml2',\n",
       " 'Pim3',\n",
       " 'Rnd2',\n",
       " 'Ier3',\n",
       " 'Slc4a7',\n",
       " 'Creb3l1',\n",
       " 'Lypd3',\n",
       " 'Clic6',\n",
       " 'Psmb10',\n",
       " 'Tnnt2',\n",
       " 'Utrn',\n",
       " 'Mllt6',\n",
       " 'Stap2',\n",
       " 'Krt6a',\n",
       " 'Ces2g',\n",
       " 'Ocel1',\n",
       " 'Ddah2',\n",
       " 'Tmem37',\n",
       " 'Pllp',\n",
       " 'AA986860',\n",
       " 'Misp3',\n",
       " 'Adgrl1',\n",
       " 'Il1rn',\n",
       " 'Tmem9',\n",
       " 'Fam111a',\n",
       " 'Nucb2',\n",
       " 'Clca3b',\n",
       " '5930430L01Rik',\n",
       " 'Nfic',\n",
       " 'Bri3bp',\n",
       " 'Ppp1r18',\n",
       " 'Tceal9',\n",
       " 'Gsto1',\n",
       " '5730419F03Rik',\n",
       " 'Pdlim4',\n",
       " 'Cox7a1',\n",
       " 'Kctd12',\n",
       " 'Fam3c',\n",
       " 'Ifnar2',\n",
       " 'Tac1',\n",
       " 'Mettl26',\n",
       " 'Pbp2',\n",
       " 'Rilpl1',\n",
       " '2010010A06Rik',\n",
       " 'Lsm8',\n",
       " 'Sult4a1',\n",
       " 'Lratd1',\n",
       " 'Slc25a34',\n",
       " 'Rnf208',\n",
       " 'Sult1b1',\n",
       " 'Gm15657',\n",
       " 'Ubxn6',\n",
       " 'P2ry1',\n",
       " 'Rab7b',\n",
       " 'Krt80',\n",
       " 'Crybg1',\n",
       " 'Slc25a23',\n",
       " 'Rundc3a',\n",
       " 'Ms4a8a',\n",
       " 'Tmem125',\n",
       " 'Bcorl1',\n",
       " 'Mxd4',\n",
       " 'Pdxdc1',\n",
       " 'Cd68',\n",
       " 'Gm44274',\n",
       " 'Bex3',\n",
       " 'H2-DMa',\n",
       " 'Faap100',\n",
       " 'Lmtk3',\n",
       " 'Dipk1b',\n",
       " 'Gm5914',\n",
       " 'Fam171a2',\n",
       " 'Spag7',\n",
       " 'Cxcl1',\n",
       " 'Serpinb9b',\n",
       " 'Celf5',\n",
       " 'Trp53i11',\n",
       " 'Cnppd1',\n",
       " 'Spc25',\n",
       " 'Elovl1',\n",
       " 'Sco1',\n",
       " 'Atp2b4',\n",
       " 'Zfhx3',\n",
       " 'Azin2',\n",
       " 'Prpf40b',\n",
       " 'Dnah2',\n",
       " 'Mcpt2',\n",
       " 'Gstt1',\n",
       " 'Actn1',\n",
       " 'Ybx2',\n",
       " 'Zfp516',\n",
       " 'Larp1b',\n",
       " 'Acp5',\n",
       " 'Vill',\n",
       " 'Rasef',\n",
       " 'Gm44275',\n",
       " 'Selenom',\n",
       " 'Ly6g2',\n",
       " 'Plpp2',\n",
       " 'Gmppb',\n",
       " 'Idh2',\n",
       " 'Gstm5',\n",
       " 'Gale',\n",
       " 'Exd1',\n",
       " 'Wdr13',\n",
       " 'Spr',\n",
       " 'Cmtm8',\n",
       " 'Steap2',\n",
       " 'Slc25a10',\n",
       " 'Ttyh1',\n",
       " 'Lrrc49',\n",
       " 'Rilp',\n",
       " 'Gsdmc4',\n",
       " 'Cdipt',\n",
       " 'Cxcl2',\n",
       " 'Ikbip',\n",
       " 'Aldh1a3',\n",
       " 'Ces2f',\n",
       " 'Prss32',\n",
       " 'Cox10',\n",
       " 'Efna3',\n",
       " 'Ppp4r1l-ps',\n",
       " 'Krtap3-1',\n",
       " 'Nova2',\n",
       " 'Sirt1']"
      ]
     },
     "execution_count": 14,
     "metadata": {},
     "output_type": "execute_result"
    }
   ],
   "source": [
    "common_b1_b2_ctrl_vs_11mix"
   ]
  },
  {
   "cell_type": "code",
   "execution_count": 15,
   "id": "57ebc01e-8326-45fc-841e-94254e93e536",
   "metadata": {},
   "outputs": [
    {
     "data": {
      "text/html": [
       "<div>\n",
       "<style scoped>\n",
       "    .dataframe tbody tr th:only-of-type {\n",
       "        vertical-align: middle;\n",
       "    }\n",
       "\n",
       "    .dataframe tbody tr th {\n",
       "        vertical-align: top;\n",
       "    }\n",
       "\n",
       "    .dataframe thead th {\n",
       "        text-align: right;\n",
       "    }\n",
       "</style>\n",
       "<table border=\"1\" class=\"dataframe\">\n",
       "  <thead>\n",
       "    <tr style=\"text-align: right;\">\n",
       "      <th></th>\n",
       "      <th>log2FoldChange</th>\n",
       "      <th>pvalue</th>\n",
       "      <th>padj</th>\n",
       "      <th>gene_name</th>\n",
       "    </tr>\n",
       "  </thead>\n",
       "  <tbody>\n",
       "    <tr>\n",
       "      <th>0</th>\n",
       "      <td>2.071643</td>\n",
       "      <td>1.656087e-15</td>\n",
       "      <td>2.053267e-11</td>\n",
       "      <td>Selenom</td>\n",
       "    </tr>\n",
       "    <tr>\n",
       "      <th>1</th>\n",
       "      <td>1.224582</td>\n",
       "      <td>4.176438e-15</td>\n",
       "      <td>2.053267e-11</td>\n",
       "      <td>Eml2</td>\n",
       "    </tr>\n",
       "    <tr>\n",
       "      <th>2</th>\n",
       "      <td>1.750809</td>\n",
       "      <td>2.762797e-12</td>\n",
       "      <td>1.226861e-08</td>\n",
       "      <td>Atp2b4</td>\n",
       "    </tr>\n",
       "    <tr>\n",
       "      <th>4</th>\n",
       "      <td>-1.054247</td>\n",
       "      <td>3.238075e-11</td>\n",
       "      <td>4.020306e-08</td>\n",
       "      <td>Pllp</td>\n",
       "    </tr>\n",
       "    <tr>\n",
       "      <th>6</th>\n",
       "      <td>-1.766609</td>\n",
       "      <td>5.544433e-11</td>\n",
       "      <td>1.780093e-07</td>\n",
       "      <td>Ces2f</td>\n",
       "    </tr>\n",
       "    <tr>\n",
       "      <th>...</th>\n",
       "      <td>...</td>\n",
       "      <td>...</td>\n",
       "      <td>...</td>\n",
       "      <td>...</td>\n",
       "    </tr>\n",
       "    <tr>\n",
       "      <th>459</th>\n",
       "      <td>1.024334</td>\n",
       "      <td>1.780059e-03</td>\n",
       "      <td>5.175122e-02</td>\n",
       "      <td>Fam171a2</td>\n",
       "    </tr>\n",
       "    <tr>\n",
       "      <th>464</th>\n",
       "      <td>1.567958</td>\n",
       "      <td>1.876134e-03</td>\n",
       "      <td>2.264775e-01</td>\n",
       "      <td>Rab7b</td>\n",
       "    </tr>\n",
       "    <tr>\n",
       "      <th>465</th>\n",
       "      <td>-1.379781</td>\n",
       "      <td>1.876577e-03</td>\n",
       "      <td>5.779146e-02</td>\n",
       "      <td>Lrrc49</td>\n",
       "    </tr>\n",
       "    <tr>\n",
       "      <th>492</th>\n",
       "      <td>1.227146</td>\n",
       "      <td>2.132131e-03</td>\n",
       "      <td>5.761604e-02</td>\n",
       "      <td>Ttyh1</td>\n",
       "    </tr>\n",
       "    <tr>\n",
       "      <th>493</th>\n",
       "      <td>-0.776410</td>\n",
       "      <td>2.136514e-03</td>\n",
       "      <td>5.270838e-02</td>\n",
       "      <td>Kctd12</td>\n",
       "    </tr>\n",
       "  </tbody>\n",
       "</table>\n",
       "<p>144 rows × 4 columns</p>\n",
       "</div>"
      ],
      "text/plain": [
       "     log2FoldChange        pvalue          padj gene_name\n",
       "0          2.071643  1.656087e-15  2.053267e-11   Selenom\n",
       "1          1.224582  4.176438e-15  2.053267e-11      Eml2\n",
       "2          1.750809  2.762797e-12  1.226861e-08    Atp2b4\n",
       "4         -1.054247  3.238075e-11  4.020306e-08      Pllp\n",
       "6         -1.766609  5.544433e-11  1.780093e-07     Ces2f\n",
       "..              ...           ...           ...       ...\n",
       "459        1.024334  1.780059e-03  5.175122e-02  Fam171a2\n",
       "464        1.567958  1.876134e-03  2.264775e-01     Rab7b\n",
       "465       -1.379781  1.876577e-03  5.779146e-02    Lrrc49\n",
       "492        1.227146  2.132131e-03  5.761604e-02     Ttyh1\n",
       "493       -0.776410  2.136514e-03  5.270838e-02    Kctd12\n",
       "\n",
       "[144 rows x 4 columns]"
      ]
     },
     "execution_count": 15,
     "metadata": {},
     "output_type": "execute_result"
    }
   ],
   "source": [
    "b1_common = b1_ctrl_vs_11mix_500[b1_ctrl_vs_11mix_500[\"gene_name\"].isin(common_b1_b2_ctrl_vs_11mix)]\n",
    "b1_common"
   ]
  },
  {
   "cell_type": "code",
   "execution_count": 16,
   "id": "c01af895-378f-49ec-831d-70c60181d1d3",
   "metadata": {},
   "outputs": [
    {
     "data": {
      "text/html": [
       "<div>\n",
       "<style scoped>\n",
       "    .dataframe tbody tr th:only-of-type {\n",
       "        vertical-align: middle;\n",
       "    }\n",
       "\n",
       "    .dataframe tbody tr th {\n",
       "        vertical-align: top;\n",
       "    }\n",
       "\n",
       "    .dataframe thead th {\n",
       "        text-align: right;\n",
       "    }\n",
       "</style>\n",
       "<table border=\"1\" class=\"dataframe\">\n",
       "  <thead>\n",
       "    <tr style=\"text-align: right;\">\n",
       "      <th></th>\n",
       "      <th>log2FoldChange</th>\n",
       "      <th>pvalue</th>\n",
       "      <th>padj</th>\n",
       "      <th>gene_name</th>\n",
       "    </tr>\n",
       "  </thead>\n",
       "  <tbody>\n",
       "    <tr>\n",
       "      <th>2</th>\n",
       "      <td>2.055145</td>\n",
       "      <td>1.150704e-14</td>\n",
       "      <td>5.891130e-11</td>\n",
       "      <td>Ybx2</td>\n",
       "    </tr>\n",
       "    <tr>\n",
       "      <th>4</th>\n",
       "      <td>2.661808</td>\n",
       "      <td>1.618199e-12</td>\n",
       "      <td>3.653247e-09</td>\n",
       "      <td>P3h4</td>\n",
       "    </tr>\n",
       "    <tr>\n",
       "      <th>6</th>\n",
       "      <td>2.395671</td>\n",
       "      <td>9.894686e-11</td>\n",
       "      <td>4.012838e-07</td>\n",
       "      <td>Selenom</td>\n",
       "    </tr>\n",
       "    <tr>\n",
       "      <th>7</th>\n",
       "      <td>3.606253</td>\n",
       "      <td>1.770183e-10</td>\n",
       "      <td>2.650514e-07</td>\n",
       "      <td>Misp3</td>\n",
       "    </tr>\n",
       "    <tr>\n",
       "      <th>9</th>\n",
       "      <td>1.611802</td>\n",
       "      <td>4.722131e-10</td>\n",
       "      <td>5.164460e-07</td>\n",
       "      <td>Rnd2</td>\n",
       "    </tr>\n",
       "    <tr>\n",
       "      <th>...</th>\n",
       "      <td>...</td>\n",
       "      <td>...</td>\n",
       "      <td>...</td>\n",
       "      <td>...</td>\n",
       "    </tr>\n",
       "    <tr>\n",
       "      <th>482</th>\n",
       "      <td>-0.972808</td>\n",
       "      <td>1.655031e-03</td>\n",
       "      <td>8.191288e-02</td>\n",
       "      <td>Sult1b1</td>\n",
       "    </tr>\n",
       "    <tr>\n",
       "      <th>487</th>\n",
       "      <td>-1.536126</td>\n",
       "      <td>1.692645e-03</td>\n",
       "      <td>3.280228e-02</td>\n",
       "      <td>Spc25</td>\n",
       "    </tr>\n",
       "    <tr>\n",
       "      <th>488</th>\n",
       "      <td>-0.871286</td>\n",
       "      <td>1.705520e-03</td>\n",
       "      <td>6.351478e-02</td>\n",
       "      <td>Ocel1</td>\n",
       "    </tr>\n",
       "    <tr>\n",
       "      <th>493</th>\n",
       "      <td>-0.875498</td>\n",
       "      <td>1.731680e-03</td>\n",
       "      <td>6.011583e-02</td>\n",
       "      <td>Ly6g2</td>\n",
       "    </tr>\n",
       "    <tr>\n",
       "      <th>497</th>\n",
       "      <td>-0.725523</td>\n",
       "      <td>1.756294e-03</td>\n",
       "      <td>8.030803e-02</td>\n",
       "      <td>Cdipt</td>\n",
       "    </tr>\n",
       "  </tbody>\n",
       "</table>\n",
       "<p>144 rows × 4 columns</p>\n",
       "</div>"
      ],
      "text/plain": [
       "     log2FoldChange        pvalue          padj gene_name\n",
       "2          2.055145  1.150704e-14  5.891130e-11      Ybx2\n",
       "4          2.661808  1.618199e-12  3.653247e-09      P3h4\n",
       "6          2.395671  9.894686e-11  4.012838e-07   Selenom\n",
       "7          3.606253  1.770183e-10  2.650514e-07     Misp3\n",
       "9          1.611802  4.722131e-10  5.164460e-07      Rnd2\n",
       "..              ...           ...           ...       ...\n",
       "482       -0.972808  1.655031e-03  8.191288e-02   Sult1b1\n",
       "487       -1.536126  1.692645e-03  3.280228e-02     Spc25\n",
       "488       -0.871286  1.705520e-03  6.351478e-02     Ocel1\n",
       "493       -0.875498  1.731680e-03  6.011583e-02     Ly6g2\n",
       "497       -0.725523  1.756294e-03  8.030803e-02     Cdipt\n",
       "\n",
       "[144 rows x 4 columns]"
      ]
     },
     "execution_count": 16,
     "metadata": {},
     "output_type": "execute_result"
    }
   ],
   "source": [
    "b2_common = b2_ctrl_vs_11mix_500[b2_ctrl_vs_11mix_500[\"gene_name\"].isin(common_b1_b2_ctrl_vs_11mix)]\n",
    "b2_common"
   ]
  },
  {
   "cell_type": "markdown",
   "id": "ffc68359-0d11-49f6-969b-782bfe658e97",
   "metadata": {},
   "source": [
    "### Fisher exact test\n",
    "Test if the number of common genes is larger than what would be obtained by chance"
   ]
  },
  {
   "cell_type": "code",
   "execution_count": 17,
   "id": "24816495-282a-482e-adeb-d1a79ee3f368",
   "metadata": {},
   "outputs": [
    {
     "data": {
      "text/plain": [
       "7.343389501713966e-104"
      ]
     },
     "execution_count": 17,
     "metadata": {},
     "output_type": "execute_result"
    }
   ],
   "source": [
    "b1_and_b2 = len(common_b1_b2_ctrl_vs_11mix)\n",
    "notb1_onlyb2 = 500 - b1_and_b2 \n",
    "notb2_onlyb1 = 500 - b1_and_b2 \n",
    "notb1_notb2 = len(genes_universe)\n",
    "oddsratio, pvalue = fisher_exact([[b1_and_b2, notb1_onlyb2], [notb2_onlyb1, notb1_notb2]])\n",
    "pvalue"
   ]
  },
  {
   "cell_type": "code",
   "execution_count": 18,
   "id": "4dd93954-3401-416b-8687-3372caf98d85",
   "metadata": {},
   "outputs": [
    {
     "data": {
      "text/plain": [
       "17.881833101881075"
      ]
     },
     "execution_count": 18,
     "metadata": {},
     "output_type": "execute_result"
    }
   ],
   "source": [
    "oddsratio"
   ]
  },
  {
   "cell_type": "markdown",
   "id": "11c7c85a-1d05-471a-95c3-567cfb9ba130",
   "metadata": {
    "tags": []
   },
   "source": [
    "The p value is less than 5% (0.05), therefore we conclude that our observation is statistically significant. \n",
    "### The number of intersected genes is higher than what we would expect by random chance.  "
   ]
  },
  {
   "cell_type": "code",
   "execution_count": 19,
   "id": "97dbd270-01d8-453a-9596-8a070bc1dc13",
   "metadata": {},
   "outputs": [
    {
     "data": {
      "image/png": "[encoded data removed]",
      "text/plain": [
       "<Figure size 640x480 with 1 Axes>"
      ]
     },
     "metadata": {},
     "output_type": "display_data"
    }
   ],
   "source": [
    "# Plot intersection\n",
    "venn2(subsets = (len(b1_ctrl_vs_11mix_500), len(b2_ctrl_vs_11mix_500), len(common_b1_b2_ctrl_vs_11mix)), set_labels = ('Batch1', 'Batch2'))\n",
    "plt.show()"
   ]
  }
 ],
 "metadata": {
  "kernelspec": {
   "display_name": "Python [conda env:.conda-decoupler]",
   "language": "python",
   "name": "conda-env-.conda-decoupler-py"
  },
  "language_info": {
   "codemirror_mode": {
    "name": "ipython",
    "version": 3
   },
   "file_extension": ".py",
   "mimetype": "text/x-python",
   "name": "python",
   "nbconvert_exporter": "python",
   "pygments_lexer": "ipython3",
   "version": "3.10.6"
  }
 },
 "nbformat": 4,
 "nbformat_minor": 5
}
