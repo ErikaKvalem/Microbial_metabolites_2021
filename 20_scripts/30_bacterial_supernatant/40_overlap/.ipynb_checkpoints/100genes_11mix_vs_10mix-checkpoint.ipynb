{
 "cells": [
  {
   "cell_type": "markdown",
   "id": "d826baad-9b52-4374-adf1-815a0ac8c0b5",
   "metadata": {},
   "source": [
    "## Batch1 vs Batch 2 11mix_vs_10mix top 100 genes"
   ]
  },
  {
   "cell_type": "markdown",
   "id": "e54074e7-1b57-495e-bd6d-f6b81d77a700",
   "metadata": {},
   "source": [
    "Importing libraries"
   ]
  },
  {
   "cell_type": "code",
   "execution_count": 1,
   "id": "db13d997-3877-4561-8adb-f9c5e6a065a5",
   "metadata": {},
   "outputs": [],
   "source": [
    "import decoupler as dc\n",
    "from scipy.stats import fisher_exact\n",
    "import matplotlib.pyplot as plt\n",
    "from matplotlib_venn import venn2\n",
    "\n",
    "# Only needed for visualization:\n",
    "import matplotlib.pyplot as plt\n",
    "import numpy as np\n",
    "import pandas as pd\n",
    "import scanpy as sc\n",
    "import seaborn as sns\n",
    "from anndata import AnnData"
   ]
  },
  {
   "cell_type": "markdown",
   "id": "be0e7644-25c5-4cfa-82fc-ae5423533cfc",
   "metadata": {},
   "source": [
    "Reading data from tsv Batch1 ctrl_vs_11mix IHWallGenes and Batch2 ctrl_vs_11mix IHWallGenes"
   ]
  },
  {
   "cell_type": "code",
   "execution_count": 2,
   "id": "3d5d4c58-b09c-4071-a2a7-23111133c951",
   "metadata": {},
   "outputs": [],
   "source": [
    "# Batch1 ctrl_vs_11mix IHWallGenes and Batch2 ctrl_vs_11mix IHWallGenes\n",
    "b1_11mix_vs_10mix_all = \"/data/projects/2021/MicrobialMetabolites/bacterial-supernatant/20_deseq2icbi/batch1/paired_grp/deseq2_11mix_vs_10mix/11mix_10mix_IHWallGenes.tsv\"\n",
    "b2_11mix_vs_10mix_all = \"/data/projects/2021/MicrobialMetabolites/bacterial-supernatant/20_deseq2icbi/batch2/paired_grp/deseq2_11mix_vs_10mix/11mix_10mix_IHWallGenes.tsv\"\n",
    "\n",
    "b1_11mix_vs_10mix_all = pd.read_csv(b1_11mix_vs_10mix_all, sep=\"\\t\")\n",
    "b2_11mix_vs_10mix_all = pd.read_csv(b2_11mix_vs_10mix_all, sep=\"\\t\")"
   ]
  },
  {
   "cell_type": "code",
   "execution_count": 3,
   "id": "76b08c0c-4211-4458-8af6-53f5c16f5cb4",
   "metadata": {},
   "outputs": [
    {
     "data": {
      "text/plain": [
       "16146"
      ]
     },
     "execution_count": 3,
     "metadata": {},
     "output_type": "execute_result"
    }
   ],
   "source": [
    "len(b1_11mix_vs_10mix_all)"
   ]
  },
  {
   "cell_type": "code",
   "execution_count": 4,
   "id": "322529ef-f39e-438d-a0c5-b7f482f220f0",
   "metadata": {},
   "outputs": [
    {
     "data": {
      "text/plain": [
       "18578"
      ]
     },
     "execution_count": 4,
     "metadata": {},
     "output_type": "execute_result"
    }
   ],
   "source": [
    "len(b2_11mix_vs_10mix_all)"
   ]
  },
  {
   "cell_type": "markdown",
   "id": "a1250f7e-cdf4-4f46-8a1c-a1f1c70d966a",
   "metadata": {},
   "source": [
    "Selecting only the TOP 100 GENES and the columns \"log2FoldChange\",\"pvalue\",\"padj\",\"gene_name\""
   ]
  },
  {
   "cell_type": "code",
   "execution_count": 5,
   "id": "717855ef-42eb-43c6-a3b1-7eee63498270",
   "metadata": {},
   "outputs": [],
   "source": [
    "#B1 \n",
    "b1_11mix_vs_10mix_100 = b1_11mix_vs_10mix_all.iloc[0:100,:]\n",
    "b1_11mix_vs_10mix_100 = b1_11mix_vs_10mix_100[[\"log2FoldChange\",\"pvalue\",\"padj\",\"gene_name\"]]\n",
    "# B2\n",
    "b2_11mix_vs_10mix_100 = b2_11mix_vs_10mix_all.iloc[0:100,:]\n",
    "b2_11mix_vs_10mix_100= b2_11mix_vs_10mix_100[[\"log2FoldChange\",\"pvalue\",\"padj\",\"gene_name\"]]\n"
   ]
  },
  {
   "cell_type": "markdown",
   "id": "63a81e24-f477-4feb-aeee-5f2ed65ba461",
   "metadata": {},
   "source": [
    "Check that the genes only appear once "
   ]
  },
  {
   "cell_type": "code",
   "execution_count": 6,
   "id": "3e45cf5c-37df-463a-8c66-dde586577b9f",
   "metadata": {},
   "outputs": [
    {
     "data": {
      "text/plain": [
       "1"
      ]
     },
     "execution_count": 6,
     "metadata": {},
     "output_type": "execute_result"
    }
   ],
   "source": [
    "b2_11mix_vs_10mix_100[\"gene_name\"].value_counts().max()"
   ]
  },
  {
   "cell_type": "code",
   "execution_count": 7,
   "id": "bd6ec5ec-15a6-4b63-8c59-c56d8a24de8b",
   "metadata": {},
   "outputs": [
    {
     "data": {
      "text/plain": [
       "1"
      ]
     },
     "execution_count": 7,
     "metadata": {},
     "output_type": "execute_result"
    }
   ],
   "source": [
    "b2_11mix_vs_10mix_100[\"gene_name\"].value_counts().max()"
   ]
  },
  {
   "cell_type": "markdown",
   "id": "5aba8565-2dc8-4bbb-8e05-bebca980afc7",
   "metadata": {},
   "source": [
    "Creating a dataframe for each batch with only gene_name information"
   ]
  },
  {
   "cell_type": "code",
   "execution_count": 8,
   "id": "c5c5d01f-fea6-49f8-b3d1-80f22ea83f57",
   "metadata": {},
   "outputs": [],
   "source": [
    "b1_11mix_vs_10mix_100_gene = pd.DataFrame(b1_11mix_vs_10mix_100[\"gene_name\"])"
   ]
  },
  {
   "cell_type": "code",
   "execution_count": 9,
   "id": "6da8e26a-6ab7-415d-a81c-b2188dcccdb5",
   "metadata": {},
   "outputs": [
    {
     "data": {
      "text/html": [
       "<div>\n",
       "<style scoped>\n",
       "    .dataframe tbody tr th:only-of-type {\n",
       "        vertical-align: middle;\n",
       "    }\n",
       "\n",
       "    .dataframe tbody tr th {\n",
       "        vertical-align: top;\n",
       "    }\n",
       "\n",
       "    .dataframe thead th {\n",
       "        text-align: right;\n",
       "    }\n",
       "</style>\n",
       "<table border=\"1\" class=\"dataframe\">\n",
       "  <thead>\n",
       "    <tr style=\"text-align: right;\">\n",
       "      <th></th>\n",
       "      <th>gene_name</th>\n",
       "    </tr>\n",
       "  </thead>\n",
       "  <tbody>\n",
       "    <tr>\n",
       "      <th>0</th>\n",
       "      <td>Dynlt1c</td>\n",
       "    </tr>\n",
       "    <tr>\n",
       "      <th>1</th>\n",
       "      <td>Prkcsh</td>\n",
       "    </tr>\n",
       "    <tr>\n",
       "      <th>2</th>\n",
       "      <td>Cyp4b1</td>\n",
       "    </tr>\n",
       "    <tr>\n",
       "      <th>3</th>\n",
       "      <td>Hspa1b</td>\n",
       "    </tr>\n",
       "    <tr>\n",
       "      <th>4</th>\n",
       "      <td>Zfp36l2</td>\n",
       "    </tr>\n",
       "    <tr>\n",
       "      <th>...</th>\n",
       "      <td>...</td>\n",
       "    </tr>\n",
       "    <tr>\n",
       "      <th>95</th>\n",
       "      <td>Slc25a5</td>\n",
       "    </tr>\n",
       "    <tr>\n",
       "      <th>96</th>\n",
       "      <td>Atf4</td>\n",
       "    </tr>\n",
       "    <tr>\n",
       "      <th>97</th>\n",
       "      <td>Spag7</td>\n",
       "    </tr>\n",
       "    <tr>\n",
       "      <th>98</th>\n",
       "      <td>Smim14</td>\n",
       "    </tr>\n",
       "    <tr>\n",
       "      <th>99</th>\n",
       "      <td>Hnf4a</td>\n",
       "    </tr>\n",
       "  </tbody>\n",
       "</table>\n",
       "<p>100 rows × 1 columns</p>\n",
       "</div>"
      ],
      "text/plain": [
       "   gene_name\n",
       "0    Dynlt1c\n",
       "1     Prkcsh\n",
       "2     Cyp4b1\n",
       "3     Hspa1b\n",
       "4    Zfp36l2\n",
       "..       ...\n",
       "95   Slc25a5\n",
       "96      Atf4\n",
       "97     Spag7\n",
       "98    Smim14\n",
       "99     Hnf4a\n",
       "\n",
       "[100 rows x 1 columns]"
      ]
     },
     "execution_count": 9,
     "metadata": {},
     "output_type": "execute_result"
    }
   ],
   "source": [
    "b1_11mix_vs_10mix_100_gene "
   ]
  },
  {
   "cell_type": "code",
   "execution_count": 10,
   "id": "bc160441-cacb-4b68-a840-3dc9d317e15b",
   "metadata": {},
   "outputs": [],
   "source": [
    "b2_11mix_vs_10mix_100_gene = pd.DataFrame(b2_11mix_vs_10mix_100[\"gene_name\"])"
   ]
  },
  {
   "cell_type": "code",
   "execution_count": 11,
   "id": "7f4ad13d-8a39-4e7e-9b37-5d3111daf67e",
   "metadata": {},
   "outputs": [
    {
     "data": {
      "text/html": [
       "<div>\n",
       "<style scoped>\n",
       "    .dataframe tbody tr th:only-of-type {\n",
       "        vertical-align: middle;\n",
       "    }\n",
       "\n",
       "    .dataframe tbody tr th {\n",
       "        vertical-align: top;\n",
       "    }\n",
       "\n",
       "    .dataframe thead th {\n",
       "        text-align: right;\n",
       "    }\n",
       "</style>\n",
       "<table border=\"1\" class=\"dataframe\">\n",
       "  <thead>\n",
       "    <tr style=\"text-align: right;\">\n",
       "      <th></th>\n",
       "      <th>gene_name</th>\n",
       "    </tr>\n",
       "  </thead>\n",
       "  <tbody>\n",
       "    <tr>\n",
       "      <th>0</th>\n",
       "      <td>Lcn2</td>\n",
       "    </tr>\n",
       "    <tr>\n",
       "      <th>1</th>\n",
       "      <td>Cxcl5</td>\n",
       "    </tr>\n",
       "    <tr>\n",
       "      <th>2</th>\n",
       "      <td>Serpine1</td>\n",
       "    </tr>\n",
       "    <tr>\n",
       "      <th>3</th>\n",
       "      <td>Cxcl2</td>\n",
       "    </tr>\n",
       "    <tr>\n",
       "      <th>4</th>\n",
       "      <td>Cxcl1</td>\n",
       "    </tr>\n",
       "    <tr>\n",
       "      <th>...</th>\n",
       "      <td>...</td>\n",
       "    </tr>\n",
       "    <tr>\n",
       "      <th>95</th>\n",
       "      <td>Fblim1</td>\n",
       "    </tr>\n",
       "    <tr>\n",
       "      <th>96</th>\n",
       "      <td>Gm37407</td>\n",
       "    </tr>\n",
       "    <tr>\n",
       "      <th>97</th>\n",
       "      <td>H6pd</td>\n",
       "    </tr>\n",
       "    <tr>\n",
       "      <th>98</th>\n",
       "      <td>5330406M23Rik</td>\n",
       "    </tr>\n",
       "    <tr>\n",
       "      <th>99</th>\n",
       "      <td>2010010A06Rik</td>\n",
       "    </tr>\n",
       "  </tbody>\n",
       "</table>\n",
       "<p>100 rows × 1 columns</p>\n",
       "</div>"
      ],
      "text/plain": [
       "        gene_name\n",
       "0            Lcn2\n",
       "1           Cxcl5\n",
       "2        Serpine1\n",
       "3           Cxcl2\n",
       "4           Cxcl1\n",
       "..            ...\n",
       "95         Fblim1\n",
       "96        Gm37407\n",
       "97           H6pd\n",
       "98  5330406M23Rik\n",
       "99  2010010A06Rik\n",
       "\n",
       "[100 rows x 1 columns]"
      ]
     },
     "execution_count": 11,
     "metadata": {},
     "output_type": "execute_result"
    }
   ],
   "source": [
    "b2_11mix_vs_10mix_100_gene "
   ]
  },
  {
   "cell_type": "markdown",
   "id": "1483af26-11bb-432c-b0b1-3c99a5e42365",
   "metadata": {},
   "source": [
    "Finding common elements between the 2 datasets (b1 and b2 ctrl_vs_11mix)"
   ]
  },
  {
   "cell_type": "code",
   "execution_count": 12,
   "id": "0fb77425-4c57-425a-b6d3-df3cea0f0dc3",
   "metadata": {},
   "outputs": [],
   "source": [
    "common_b1_b2_11mix_vs_10mix = list(set(b1_11mix_vs_10mix_100_gene.gene_name) & set(b2_11mix_vs_10mix_100_gene.gene_name))"
   ]
  },
  {
   "cell_type": "code",
   "execution_count": 13,
   "id": "4f0d5f85-fc68-46ea-aa6a-61786365837c",
   "metadata": {},
   "outputs": [],
   "source": [
    "# The union of the genes present in the All genes table from Batch1 and Batch2 \n",
    "genes_universe = list(set(b1_11mix_vs_10mix_all.gene_name) & set(b2_11mix_vs_10mix_all.gene_name))"
   ]
  },
  {
   "cell_type": "code",
   "execution_count": 14,
   "id": "3ac8ba4f-10be-408d-ab44-3e3b6f4a2851",
   "metadata": {},
   "outputs": [
    {
     "data": {
      "text/plain": [
       "15949"
      ]
     },
     "execution_count": 14,
     "metadata": {},
     "output_type": "execute_result"
    }
   ],
   "source": [
    "len(genes_universe)"
   ]
  },
  {
   "cell_type": "code",
   "execution_count": 15,
   "id": "eb4ebcdd-a0ad-4cbb-9fdf-9e411da151ba",
   "metadata": {},
   "outputs": [
    {
     "data": {
      "text/plain": [
       "6"
      ]
     },
     "execution_count": 15,
     "metadata": {},
     "output_type": "execute_result"
    }
   ],
   "source": [
    "len(common_b1_b2_11mix_vs_10mix)"
   ]
  },
  {
   "cell_type": "code",
   "execution_count": 16,
   "id": "93b2186b-bd54-4a8c-be86-e8c750ad0e57",
   "metadata": {},
   "outputs": [
    {
     "data": {
      "text/plain": [
       "['Cxcl1', 'St6galnac6', 'Ccn2', 'Pxdc1', 'Serpine1', 'Cxcl5']"
      ]
     },
     "execution_count": 16,
     "metadata": {},
     "output_type": "execute_result"
    }
   ],
   "source": [
    "common_b1_b2_11mix_vs_10mix"
   ]
  },
  {
   "cell_type": "markdown",
   "id": "e7d32a46-0ba3-4086-a907-568534947582",
   "metadata": {},
   "source": [
    "Findinf the rows in the original dataframe with all the information"
   ]
  },
  {
   "cell_type": "code",
   "execution_count": 17,
   "id": "57ebc01e-8326-45fc-841e-94254e93e536",
   "metadata": {},
   "outputs": [
    {
     "data": {
      "text/html": [
       "<div>\n",
       "<style scoped>\n",
       "    .dataframe tbody tr th:only-of-type {\n",
       "        vertical-align: middle;\n",
       "    }\n",
       "\n",
       "    .dataframe tbody tr th {\n",
       "        vertical-align: top;\n",
       "    }\n",
       "\n",
       "    .dataframe thead th {\n",
       "        text-align: right;\n",
       "    }\n",
       "</style>\n",
       "<table border=\"1\" class=\"dataframe\">\n",
       "  <thead>\n",
       "    <tr style=\"text-align: right;\">\n",
       "      <th></th>\n",
       "      <th>log2FoldChange</th>\n",
       "      <th>pvalue</th>\n",
       "      <th>padj</th>\n",
       "      <th>gene_name</th>\n",
       "    </tr>\n",
       "  </thead>\n",
       "  <tbody>\n",
       "    <tr>\n",
       "      <th>9</th>\n",
       "      <td>1.431292</td>\n",
       "      <td>0.000013</td>\n",
       "      <td>0.011267</td>\n",
       "      <td>Ccn2</td>\n",
       "    </tr>\n",
       "    <tr>\n",
       "      <th>30</th>\n",
       "      <td>-1.123160</td>\n",
       "      <td>0.000167</td>\n",
       "      <td>0.051450</td>\n",
       "      <td>St6galnac6</td>\n",
       "    </tr>\n",
       "    <tr>\n",
       "      <th>34</th>\n",
       "      <td>1.856711</td>\n",
       "      <td>0.000218</td>\n",
       "      <td>0.108301</td>\n",
       "      <td>Pxdc1</td>\n",
       "    </tr>\n",
       "    <tr>\n",
       "      <th>41</th>\n",
       "      <td>2.113258</td>\n",
       "      <td>0.000245</td>\n",
       "      <td>0.413714</td>\n",
       "      <td>Cxcl1</td>\n",
       "    </tr>\n",
       "    <tr>\n",
       "      <th>42</th>\n",
       "      <td>1.331483</td>\n",
       "      <td>0.000251</td>\n",
       "      <td>0.062292</td>\n",
       "      <td>Cxcl5</td>\n",
       "    </tr>\n",
       "    <tr>\n",
       "      <th>55</th>\n",
       "      <td>1.951035</td>\n",
       "      <td>0.000388</td>\n",
       "      <td>0.149457</td>\n",
       "      <td>Serpine1</td>\n",
       "    </tr>\n",
       "  </tbody>\n",
       "</table>\n",
       "</div>"
      ],
      "text/plain": [
       "    log2FoldChange    pvalue      padj   gene_name\n",
       "9         1.431292  0.000013  0.011267        Ccn2\n",
       "30       -1.123160  0.000167  0.051450  St6galnac6\n",
       "34        1.856711  0.000218  0.108301       Pxdc1\n",
       "41        2.113258  0.000245  0.413714       Cxcl1\n",
       "42        1.331483  0.000251  0.062292       Cxcl5\n",
       "55        1.951035  0.000388  0.149457    Serpine1"
      ]
     },
     "execution_count": 17,
     "metadata": {},
     "output_type": "execute_result"
    }
   ],
   "source": [
    "b1_common = b1_11mix_vs_10mix_100[b1_11mix_vs_10mix_100[\"gene_name\"].isin(common_b1_b2_11mix_vs_10mix)]\n",
    "b1_common"
   ]
  },
  {
   "cell_type": "code",
   "execution_count": 18,
   "id": "c01af895-378f-49ec-831d-70c60181d1d3",
   "metadata": {},
   "outputs": [
    {
     "data": {
      "text/html": [
       "<div>\n",
       "<style scoped>\n",
       "    .dataframe tbody tr th:only-of-type {\n",
       "        vertical-align: middle;\n",
       "    }\n",
       "\n",
       "    .dataframe tbody tr th {\n",
       "        vertical-align: top;\n",
       "    }\n",
       "\n",
       "    .dataframe thead th {\n",
       "        text-align: right;\n",
       "    }\n",
       "</style>\n",
       "<table border=\"1\" class=\"dataframe\">\n",
       "  <thead>\n",
       "    <tr style=\"text-align: right;\">\n",
       "      <th></th>\n",
       "      <th>log2FoldChange</th>\n",
       "      <th>pvalue</th>\n",
       "      <th>padj</th>\n",
       "      <th>gene_name</th>\n",
       "    </tr>\n",
       "  </thead>\n",
       "  <tbody>\n",
       "    <tr>\n",
       "      <th>1</th>\n",
       "      <td>2.216757</td>\n",
       "      <td>3.057066e-20</td>\n",
       "      <td>2.649799e-16</td>\n",
       "      <td>Cxcl5</td>\n",
       "    </tr>\n",
       "    <tr>\n",
       "      <th>2</th>\n",
       "      <td>2.736484</td>\n",
       "      <td>1.674240e-12</td>\n",
       "      <td>7.792711e-09</td>\n",
       "      <td>Serpine1</td>\n",
       "    </tr>\n",
       "    <tr>\n",
       "      <th>4</th>\n",
       "      <td>2.954420</td>\n",
       "      <td>1.611642e-11</td>\n",
       "      <td>4.487298e-08</td>\n",
       "      <td>Cxcl1</td>\n",
       "    </tr>\n",
       "    <tr>\n",
       "      <th>10</th>\n",
       "      <td>1.869469</td>\n",
       "      <td>8.638190e-08</td>\n",
       "      <td>5.872796e-05</td>\n",
       "      <td>Ccn2</td>\n",
       "    </tr>\n",
       "    <tr>\n",
       "      <th>11</th>\n",
       "      <td>-1.093974</td>\n",
       "      <td>2.208581e-07</td>\n",
       "      <td>1.376408e-04</td>\n",
       "      <td>St6galnac6</td>\n",
       "    </tr>\n",
       "    <tr>\n",
       "      <th>42</th>\n",
       "      <td>1.588769</td>\n",
       "      <td>1.845713e-05</td>\n",
       "      <td>7.383413e-03</td>\n",
       "      <td>Pxdc1</td>\n",
       "    </tr>\n",
       "  </tbody>\n",
       "</table>\n",
       "</div>"
      ],
      "text/plain": [
       "    log2FoldChange        pvalue          padj   gene_name\n",
       "1         2.216757  3.057066e-20  2.649799e-16       Cxcl5\n",
       "2         2.736484  1.674240e-12  7.792711e-09    Serpine1\n",
       "4         2.954420  1.611642e-11  4.487298e-08       Cxcl1\n",
       "10        1.869469  8.638190e-08  5.872796e-05        Ccn2\n",
       "11       -1.093974  2.208581e-07  1.376408e-04  St6galnac6\n",
       "42        1.588769  1.845713e-05  7.383413e-03       Pxdc1"
      ]
     },
     "execution_count": 18,
     "metadata": {},
     "output_type": "execute_result"
    }
   ],
   "source": [
    "b2_common = b2_11mix_vs_10mix_100[b2_11mix_vs_10mix_100[\"gene_name\"].isin(common_b1_b2_11mix_vs_10mix)]\n",
    "b2_common"
   ]
  },
  {
   "cell_type": "markdown",
   "id": "57dbf57f-1d16-4a80-9691-1cbdc8586a15",
   "metadata": {},
   "source": [
    "### Fisher exact test\n",
    "Test if the number of common genes is larger than what would be obtained by chance"
   ]
  },
  {
   "cell_type": "code",
   "execution_count": 19,
   "id": "2a4537dc-09c1-4e9d-96c6-ce7a54287f8f",
   "metadata": {},
   "outputs": [
    {
     "data": {
      "text/plain": [
       "3.619060224115835e-05"
      ]
     },
     "execution_count": 19,
     "metadata": {},
     "output_type": "execute_result"
    }
   ],
   "source": [
    "b1_and_b2 = len(common_b1_b2_11mix_vs_10mix)\n",
    "notb1_onlyb2 = len(b1_11mix_vs_10mix_100) - b1_and_b2 \n",
    "notb2_onlyb1 = len(b1_11mix_vs_10mix_100)- b1_and_b2 \n",
    "notb1_notb2 = len(genes_universe)\n",
    "oddsratio, pvalue = fisher_exact([[b1_and_b2, notb1_onlyb2], [notb2_onlyb1, notb1_notb2]])\n",
    "pvalue"
   ]
  },
  {
   "cell_type": "code",
   "execution_count": 20,
   "id": "2af35726-6c02-43ba-9242-be3ec41c285e",
   "metadata": {},
   "outputs": [
    {
     "data": {
      "text/plain": [
       "10.830013580805794"
      ]
     },
     "execution_count": 20,
     "metadata": {},
     "output_type": "execute_result"
    }
   ],
   "source": [
    "oddsratio"
   ]
  },
  {
   "cell_type": "code",
   "execution_count": 21,
   "id": "bd327e61-c8d6-4474-8f8b-f393e9eaf8db",
   "metadata": {},
   "outputs": [
    {
     "data": {
      "text/plain": [
       "(0.12750028397842958, 3.3213244481466058)"
      ]
     },
     "execution_count": 21,
     "metadata": {},
     "output_type": "execute_result"
    }
   ],
   "source": [
    "b1_and_b2 = 2\n",
    "notb1_onlyb2 = len(b1_11mix_vs_10mix_100) - b1_and_b2 \n",
    "notb2_onlyb1 = len(b1_11mix_vs_10mix_100)- b1_and_b2 \n",
    "notb1_notb2 = len(genes_universe)\n",
    "oddsratio, pvalue = fisher_exact([[b1_and_b2, notb1_onlyb2], [notb2_onlyb1, notb1_notb2]])\n",
    "pvalue,oddsratio"
   ]
  },
  {
   "cell_type": "code",
   "execution_count": 22,
   "id": "1d688c41-862c-4c54-b641-c8082648e3e5",
   "metadata": {
    "tags": []
   },
   "outputs": [
    {
     "data": {
      "text/plain": [
       "(0.4637287734882772, 1.6272829303132332)"
      ]
     },
     "execution_count": 22,
     "metadata": {},
     "output_type": "execute_result"
    }
   ],
   "source": [
    "b1_and_b2 = 1\n",
    "notb1_onlyb2 = len(b1_11mix_vs_10mix_100) - b1_and_b2 \n",
    "notb2_onlyb1 = len(b1_11mix_vs_10mix_100)- b1_and_b2 \n",
    "notb1_notb2 = len(genes_universe)\n",
    "oddsratio, pvalue = fisher_exact([[b1_and_b2, notb1_onlyb2], [notb2_onlyb1, notb1_notb2]])\n",
    "pvalue,oddsratio"
   ]
  },
  {
   "cell_type": "code",
   "execution_count": 23,
   "id": "359481db-b604-4d7b-a65f-bb304210b4e0",
   "metadata": {
    "tags": []
   },
   "outputs": [
    {
     "data": {
      "text/plain": [
       "(0.024187957216331074, 5.085237538526942)"
      ]
     },
     "execution_count": 23,
     "metadata": {},
     "output_type": "execute_result"
    }
   ],
   "source": [
    "b1_and_b2 = 3\n",
    "notb1_onlyb2 = len(b1_11mix_vs_10mix_100) - b1_and_b2 \n",
    "notb2_onlyb1 = len(b1_11mix_vs_10mix_100)- b1_and_b2 \n",
    "notb1_notb2 = len(genes_universe)\n",
    "oddsratio, pvalue = fisher_exact([[b1_and_b2, notb1_onlyb2], [notb2_onlyb1, notb1_notb2]])\n",
    "pvalue,oddsratio"
   ]
  },
  {
   "cell_type": "code",
   "execution_count": null,
   "id": "3bf1e5ef-92df-46ac-9068-21ab532f4551",
   "metadata": {},
   "outputs": [],
   "source": []
  },
  {
   "cell_type": "code",
   "execution_count": null,
   "id": "d184895d-ee1e-4376-918e-31abae4aff4e",
   "metadata": {},
   "outputs": [],
   "source": []
  },
  {
   "cell_type": "markdown",
   "id": "3de7ce57-c273-4f96-b4bd-5370eb895343",
   "metadata": {},
   "source": [
    "The odds of an event is the ratio of the number of times the event occurs to the number of times the event fails to occur.\n",
    "\n",
    "OR=1 Exposure does not affect odds of outcome\n",
    "OR>1 Exposure associated with higher odds of outcome\n",
    "OR<1 Exposure associated with lower odds of outcome"
   ]
  },
  {
   "cell_type": "markdown",
   "id": "6be36ac1-1c56-4119-8da3-1998f0b8e2e9",
   "metadata": {
    "tags": []
   },
   "source": [
    "The p value is less than 5% (0.05), therefore we conclude that our observation is statistically significant. \n",
    "### This means that the number of intersected genes is higher than what we would expect by random chance.  "
   ]
  },
  {
   "cell_type": "code",
   "execution_count": 24,
   "id": "97dbd270-01d8-453a-9596-8a070bc1dc13",
   "metadata": {
    "tags": []
   },
   "outputs": [
    {
     "data": {
      "image/png": "[encoded data removed]",
      "text/plain": [
       "<Figure size 640x480 with 1 Axes>"
      ]
     },
     "metadata": {},
     "output_type": "display_data"
    }
   ],
   "source": [
    "# plot intersection\n",
    "venn2(subsets = (len(b1_11mix_vs_10mix_100), len(b2_11mix_vs_10mix_100), len(common_b1_b2_11mix_vs_10mix)), set_labels = ('Batch1', 'Batch2'))\n",
    "plt.show()"
   ]
  },
  {
   "cell_type": "code",
   "execution_count": null,
   "id": "f6d4df60-965e-4d20-9d0d-924b417ed4be",
   "metadata": {},
   "outputs": [],
   "source": []
  }
 ],
 "metadata": {
  "kernelspec": {
   "display_name": "Python [conda env:.conda-decoupler]",
   "language": "python",
   "name": "conda-env-.conda-decoupler-py"
  },
  "language_info": {
   "codemirror_mode": {
    "name": "ipython",
    "version": 3
   },
   "file_extension": ".py",
   "mimetype": "text/x-python",
   "name": "python",
   "nbconvert_exporter": "python",
   "pygments_lexer": "ipython3",
   "version": "3.10.6"
  }
 },
 "nbformat": 4,
 "nbformat_minor": 5
}
