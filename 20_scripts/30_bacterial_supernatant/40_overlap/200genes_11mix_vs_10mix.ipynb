{
 "cells": [
  {
   "cell_type": "markdown",
   "id": "d826baad-9b52-4374-adf1-815a0ac8c0b5",
   "metadata": {},
   "source": [
    "## Batch1 vs Batch 2 11mix_vs_10mix top 200 genes"
   ]
  },
  {
   "cell_type": "markdown",
   "id": "e54074e7-1b57-495e-bd6d-f6b81d77a700",
   "metadata": {},
   "source": [
    "Importing libraries"
   ]
  },
  {
   "cell_type": "code",
   "execution_count": 1,
   "id": "db13d997-3877-4561-8adb-f9c5e6a065a5",
   "metadata": {},
   "outputs": [],
   "source": [
    "import decoupler as dc\n",
    "from scipy.stats import fisher_exact\n",
    "import matplotlib.pyplot as plt\n",
    "from matplotlib_venn import venn2\n",
    "\n",
    "# Only needed for visualization:\n",
    "import matplotlib.pyplot as plt\n",
    "import numpy as np\n",
    "import pandas as pd\n",
    "import scanpy as sc\n",
    "import seaborn as sns\n",
    "from anndata import AnnData"
   ]
  },
  {
   "cell_type": "markdown",
   "id": "be0e7644-25c5-4cfa-82fc-ae5423533cfc",
   "metadata": {},
   "source": [
    "Reading data from tsv Batch1 ctrl_vs_11mix IHWallGenes and Batch2 ctrl_vs_11mix IHWallGenes"
   ]
  },
  {
   "cell_type": "markdown",
   "id": "a1250f7e-cdf4-4f46-8a1c-a1f1c70d966a",
   "metadata": {},
   "source": [
    "Selecting only the TOP 100 GENES and the columns \"log2FoldChange\",\"pvalue\",\"padj\",\"gene_name\""
   ]
  },
  {
   "cell_type": "code",
   "execution_count": 2,
   "id": "423261f5-33f1-4e5c-8187-0f91bb6f14c3",
   "metadata": {},
   "outputs": [],
   "source": [
    "# Batch1 ctrl_vs_11mix IHWallGenes and Batch2 ctrl_vs_11mix IHWallGenes\n",
    "b1_11mix_vs_10mix_all = \"/data/projects/2021/MicrobialMetabolites/bacterial-supernatant/20_deseq2icbi/batch1/paired_grp/deseq2_11mix_vs_10mix/11mix_10mix_IHWallGenes.tsv\"\n",
    "b2_11mix_vs_10mix_all = \"/data/projects/2021/MicrobialMetabolites/bacterial-supernatant/20_deseq2icbi/batch2/paired_grp/deseq2_11mix_vs_10mix/11mix_10mix_IHWallGenes.tsv\"\n",
    "\n",
    "b1_11mix_vs_10mix_all = pd.read_csv(b1_11mix_vs_10mix_all, sep=\"\\t\")\n",
    "b2_11mix_vs_10mix_all = pd.read_csv(b2_11mix_vs_10mix_all, sep=\"\\t\")"
   ]
  },
  {
   "cell_type": "code",
   "execution_count": 3,
   "id": "717855ef-42eb-43c6-a3b1-7eee63498270",
   "metadata": {},
   "outputs": [],
   "source": [
    "#B1 \n",
    "b1_11mix_vs_10mix_200 = b1_11mix_vs_10mix_all.iloc[0:200,:]\n",
    "b1_11mix_vs_10mix_200 = b1_11mix_vs_10mix_200[[\"log2FoldChange\",\"pvalue\",\"padj\",\"gene_name\"]]\n",
    "# B2\n",
    "b2_11mix_vs_10mix_200 = b2_11mix_vs_10mix_all.iloc[0:200,:]\n",
    "b2_11mix_vs_10mix_200= b2_11mix_vs_10mix_200[[\"log2FoldChange\",\"pvalue\",\"padj\",\"gene_name\"]]\n"
   ]
  },
  {
   "cell_type": "markdown",
   "id": "63a81e24-f477-4feb-aeee-5f2ed65ba461",
   "metadata": {},
   "source": [
    "Check that the genes only appear once "
   ]
  },
  {
   "cell_type": "code",
   "execution_count": 4,
   "id": "3e45cf5c-37df-463a-8c66-dde586577b9f",
   "metadata": {},
   "outputs": [
    {
     "data": {
      "text/plain": [
       "1"
      ]
     },
     "execution_count": 4,
     "metadata": {},
     "output_type": "execute_result"
    }
   ],
   "source": [
    "b2_11mix_vs_10mix_200[\"gene_name\"].value_counts().max()"
   ]
  },
  {
   "cell_type": "code",
   "execution_count": 5,
   "id": "bd6ec5ec-15a6-4b63-8c59-c56d8a24de8b",
   "metadata": {},
   "outputs": [
    {
     "data": {
      "text/plain": [
       "1"
      ]
     },
     "execution_count": 5,
     "metadata": {},
     "output_type": "execute_result"
    }
   ],
   "source": [
    "b2_11mix_vs_10mix_200[\"gene_name\"].value_counts().max()"
   ]
  },
  {
   "cell_type": "markdown",
   "id": "5aba8565-2dc8-4bbb-8e05-bebca980afc7",
   "metadata": {},
   "source": [
    "Creating a dataframe for each batch with only gene_name information"
   ]
  },
  {
   "cell_type": "code",
   "execution_count": 6,
   "id": "c5c5d01f-fea6-49f8-b3d1-80f22ea83f57",
   "metadata": {},
   "outputs": [],
   "source": [
    "b1_11mix_vs_10mix_200_gene = pd.DataFrame(b1_11mix_vs_10mix_200[\"gene_name\"])"
   ]
  },
  {
   "cell_type": "code",
   "execution_count": 7,
   "id": "6da8e26a-6ab7-415d-a81c-b2188dcccdb5",
   "metadata": {},
   "outputs": [
    {
     "data": {
      "text/html": [
       "<div>\n",
       "<style scoped>\n",
       "    .dataframe tbody tr th:only-of-type {\n",
       "        vertical-align: middle;\n",
       "    }\n",
       "\n",
       "    .dataframe tbody tr th {\n",
       "        vertical-align: top;\n",
       "    }\n",
       "\n",
       "    .dataframe thead th {\n",
       "        text-align: right;\n",
       "    }\n",
       "</style>\n",
       "<table border=\"1\" class=\"dataframe\">\n",
       "  <thead>\n",
       "    <tr style=\"text-align: right;\">\n",
       "      <th></th>\n",
       "      <th>gene_name</th>\n",
       "    </tr>\n",
       "  </thead>\n",
       "  <tbody>\n",
       "    <tr>\n",
       "      <th>0</th>\n",
       "      <td>Dynlt1c</td>\n",
       "    </tr>\n",
       "    <tr>\n",
       "      <th>1</th>\n",
       "      <td>Prkcsh</td>\n",
       "    </tr>\n",
       "    <tr>\n",
       "      <th>2</th>\n",
       "      <td>Cyp4b1</td>\n",
       "    </tr>\n",
       "    <tr>\n",
       "      <th>3</th>\n",
       "      <td>Hspa1b</td>\n",
       "    </tr>\n",
       "    <tr>\n",
       "      <th>4</th>\n",
       "      <td>Zfp36l2</td>\n",
       "    </tr>\n",
       "    <tr>\n",
       "      <th>...</th>\n",
       "      <td>...</td>\n",
       "    </tr>\n",
       "    <tr>\n",
       "      <th>195</th>\n",
       "      <td>Gm15050</td>\n",
       "    </tr>\n",
       "    <tr>\n",
       "      <th>196</th>\n",
       "      <td>Polr1d</td>\n",
       "    </tr>\n",
       "    <tr>\n",
       "      <th>197</th>\n",
       "      <td>Pdha1</td>\n",
       "    </tr>\n",
       "    <tr>\n",
       "      <th>198</th>\n",
       "      <td>Cept1</td>\n",
       "    </tr>\n",
       "    <tr>\n",
       "      <th>199</th>\n",
       "      <td>Vta1</td>\n",
       "    </tr>\n",
       "  </tbody>\n",
       "</table>\n",
       "<p>200 rows × 1 columns</p>\n",
       "</div>"
      ],
      "text/plain": [
       "    gene_name\n",
       "0     Dynlt1c\n",
       "1      Prkcsh\n",
       "2      Cyp4b1\n",
       "3      Hspa1b\n",
       "4     Zfp36l2\n",
       "..        ...\n",
       "195   Gm15050\n",
       "196    Polr1d\n",
       "197     Pdha1\n",
       "198     Cept1\n",
       "199      Vta1\n",
       "\n",
       "[200 rows x 1 columns]"
      ]
     },
     "execution_count": 7,
     "metadata": {},
     "output_type": "execute_result"
    }
   ],
   "source": [
    "b1_11mix_vs_10mix_200_gene "
   ]
  },
  {
   "cell_type": "code",
   "execution_count": 8,
   "id": "bc160441-cacb-4b68-a840-3dc9d317e15b",
   "metadata": {},
   "outputs": [],
   "source": [
    "b2_11mix_vs_10mix_200_gene = pd.DataFrame(b2_11mix_vs_10mix_200[\"gene_name\"])"
   ]
  },
  {
   "cell_type": "code",
   "execution_count": 9,
   "id": "7f4ad13d-8a39-4e7e-9b37-5d3111daf67e",
   "metadata": {},
   "outputs": [
    {
     "data": {
      "text/html": [
       "<div>\n",
       "<style scoped>\n",
       "    .dataframe tbody tr th:only-of-type {\n",
       "        vertical-align: middle;\n",
       "    }\n",
       "\n",
       "    .dataframe tbody tr th {\n",
       "        vertical-align: top;\n",
       "    }\n",
       "\n",
       "    .dataframe thead th {\n",
       "        text-align: right;\n",
       "    }\n",
       "</style>\n",
       "<table border=\"1\" class=\"dataframe\">\n",
       "  <thead>\n",
       "    <tr style=\"text-align: right;\">\n",
       "      <th></th>\n",
       "      <th>gene_name</th>\n",
       "    </tr>\n",
       "  </thead>\n",
       "  <tbody>\n",
       "    <tr>\n",
       "      <th>0</th>\n",
       "      <td>Lcn2</td>\n",
       "    </tr>\n",
       "    <tr>\n",
       "      <th>1</th>\n",
       "      <td>Cxcl5</td>\n",
       "    </tr>\n",
       "    <tr>\n",
       "      <th>2</th>\n",
       "      <td>Serpine1</td>\n",
       "    </tr>\n",
       "    <tr>\n",
       "      <th>3</th>\n",
       "      <td>Cxcl2</td>\n",
       "    </tr>\n",
       "    <tr>\n",
       "      <th>4</th>\n",
       "      <td>Cxcl1</td>\n",
       "    </tr>\n",
       "    <tr>\n",
       "      <th>...</th>\n",
       "      <td>...</td>\n",
       "    </tr>\n",
       "    <tr>\n",
       "      <th>195</th>\n",
       "      <td>Snrnp70</td>\n",
       "    </tr>\n",
       "    <tr>\n",
       "      <th>196</th>\n",
       "      <td>Ppa1</td>\n",
       "    </tr>\n",
       "    <tr>\n",
       "      <th>197</th>\n",
       "      <td>Psen1</td>\n",
       "    </tr>\n",
       "    <tr>\n",
       "      <th>198</th>\n",
       "      <td>4833427F10Rik</td>\n",
       "    </tr>\n",
       "    <tr>\n",
       "      <th>199</th>\n",
       "      <td>Abhd17c</td>\n",
       "    </tr>\n",
       "  </tbody>\n",
       "</table>\n",
       "<p>200 rows × 1 columns</p>\n",
       "</div>"
      ],
      "text/plain": [
       "         gene_name\n",
       "0             Lcn2\n",
       "1            Cxcl5\n",
       "2         Serpine1\n",
       "3            Cxcl2\n",
       "4            Cxcl1\n",
       "..             ...\n",
       "195        Snrnp70\n",
       "196           Ppa1\n",
       "197          Psen1\n",
       "198  4833427F10Rik\n",
       "199        Abhd17c\n",
       "\n",
       "[200 rows x 1 columns]"
      ]
     },
     "execution_count": 9,
     "metadata": {},
     "output_type": "execute_result"
    }
   ],
   "source": [
    "b2_11mix_vs_10mix_200_gene "
   ]
  },
  {
   "cell_type": "markdown",
   "id": "1483af26-11bb-432c-b0b1-3c99a5e42365",
   "metadata": {},
   "source": [
    "Finding common elements between the 2 datasets (b1 and b2 ctrl_vs_11mix)"
   ]
  },
  {
   "cell_type": "code",
   "execution_count": 10,
   "id": "0fb77425-4c57-425a-b6d3-df3cea0f0dc3",
   "metadata": {},
   "outputs": [],
   "source": [
    "common_b1_b2_11mix_vs_10mix = list(set(b1_11mix_vs_10mix_200_gene.gene_name) & set(b2_11mix_vs_10mix_200_gene.gene_name))"
   ]
  },
  {
   "cell_type": "code",
   "execution_count": 11,
   "id": "50a70833-3128-42f1-8518-22977cfd2bd7",
   "metadata": {},
   "outputs": [],
   "source": [
    "# The union of the genes present in the All genes table from Batch1 and Batch2 \n",
    "genes_universe = list(set(b1_11mix_vs_10mix_all.gene_name) & set(b2_11mix_vs_10mix_all.gene_name))"
   ]
  },
  {
   "cell_type": "code",
   "execution_count": 12,
   "id": "90fb1cb2-a0eb-4dae-b83f-b5675ed57748",
   "metadata": {},
   "outputs": [
    {
     "data": {
      "text/plain": [
       "15949"
      ]
     },
     "execution_count": 12,
     "metadata": {},
     "output_type": "execute_result"
    }
   ],
   "source": [
    "len(genes_universe)"
   ]
  },
  {
   "cell_type": "code",
   "execution_count": 13,
   "id": "eb4ebcdd-a0ad-4cbb-9fdf-9e411da151ba",
   "metadata": {},
   "outputs": [
    {
     "data": {
      "text/plain": [
       "15"
      ]
     },
     "execution_count": 13,
     "metadata": {},
     "output_type": "execute_result"
    }
   ],
   "source": [
    "len(common_b1_b2_11mix_vs_10mix)"
   ]
  },
  {
   "cell_type": "code",
   "execution_count": 14,
   "id": "93b2186b-bd54-4a8c-be86-e8c750ad0e57",
   "metadata": {},
   "outputs": [
    {
     "data": {
      "text/plain": [
       "['Cxcl1',\n",
       " 'Fam3c',\n",
       " 'mt-Nd4',\n",
       " 'Lgmn',\n",
       " 'Serpine1',\n",
       " 'Pdha1',\n",
       " 'Eif4ebp3',\n",
       " 'Pxdc1',\n",
       " 'Spr',\n",
       " 'Unc93b1',\n",
       " 'St6galnac6',\n",
       " 'Cxcl5',\n",
       " 'Ccn2',\n",
       " 'Acvr1',\n",
       " 'Pbp2']"
      ]
     },
     "execution_count": 14,
     "metadata": {},
     "output_type": "execute_result"
    }
   ],
   "source": [
    "common_b1_b2_11mix_vs_10mix"
   ]
  },
  {
   "cell_type": "markdown",
   "id": "e7d32a46-0ba3-4086-a907-568534947582",
   "metadata": {},
   "source": [
    "Findinf the rows in the original dataframe with all the information"
   ]
  },
  {
   "cell_type": "code",
   "execution_count": 15,
   "id": "57ebc01e-8326-45fc-841e-94254e93e536",
   "metadata": {},
   "outputs": [
    {
     "data": {
      "text/html": [
       "<div>\n",
       "<style scoped>\n",
       "    .dataframe tbody tr th:only-of-type {\n",
       "        vertical-align: middle;\n",
       "    }\n",
       "\n",
       "    .dataframe tbody tr th {\n",
       "        vertical-align: top;\n",
       "    }\n",
       "\n",
       "    .dataframe thead th {\n",
       "        text-align: right;\n",
       "    }\n",
       "</style>\n",
       "<table border=\"1\" class=\"dataframe\">\n",
       "  <thead>\n",
       "    <tr style=\"text-align: right;\">\n",
       "      <th></th>\n",
       "      <th>log2FoldChange</th>\n",
       "      <th>pvalue</th>\n",
       "      <th>padj</th>\n",
       "      <th>gene_name</th>\n",
       "    </tr>\n",
       "  </thead>\n",
       "  <tbody>\n",
       "    <tr>\n",
       "      <th>9</th>\n",
       "      <td>1.431292</td>\n",
       "      <td>0.000013</td>\n",
       "      <td>0.011267</td>\n",
       "      <td>Ccn2</td>\n",
       "    </tr>\n",
       "    <tr>\n",
       "      <th>28</th>\n",
       "      <td>1.862623</td>\n",
       "      <td>0.000141</td>\n",
       "      <td>0.053166</td>\n",
       "      <td>Acvr1</td>\n",
       "    </tr>\n",
       "    <tr>\n",
       "      <th>30</th>\n",
       "      <td>-1.123160</td>\n",
       "      <td>0.000167</td>\n",
       "      <td>0.051450</td>\n",
       "      <td>St6galnac6</td>\n",
       "    </tr>\n",
       "    <tr>\n",
       "      <th>34</th>\n",
       "      <td>1.856711</td>\n",
       "      <td>0.000218</td>\n",
       "      <td>0.108301</td>\n",
       "      <td>Pxdc1</td>\n",
       "    </tr>\n",
       "    <tr>\n",
       "      <th>41</th>\n",
       "      <td>2.113258</td>\n",
       "      <td>0.000245</td>\n",
       "      <td>0.413714</td>\n",
       "      <td>Cxcl1</td>\n",
       "    </tr>\n",
       "    <tr>\n",
       "      <th>42</th>\n",
       "      <td>1.331483</td>\n",
       "      <td>0.000251</td>\n",
       "      <td>0.062292</td>\n",
       "      <td>Cxcl5</td>\n",
       "    </tr>\n",
       "    <tr>\n",
       "      <th>55</th>\n",
       "      <td>1.951035</td>\n",
       "      <td>0.000388</td>\n",
       "      <td>0.149457</td>\n",
       "      <td>Serpine1</td>\n",
       "    </tr>\n",
       "    <tr>\n",
       "      <th>60</th>\n",
       "      <td>0.902848</td>\n",
       "      <td>0.000480</td>\n",
       "      <td>0.072140</td>\n",
       "      <td>Pbp2</td>\n",
       "    </tr>\n",
       "    <tr>\n",
       "      <th>103</th>\n",
       "      <td>0.681292</td>\n",
       "      <td>0.001221</td>\n",
       "      <td>0.139893</td>\n",
       "      <td>Fam3c</td>\n",
       "    </tr>\n",
       "    <tr>\n",
       "      <th>113</th>\n",
       "      <td>12.170341</td>\n",
       "      <td>0.001542</td>\n",
       "      <td>0.118579</td>\n",
       "      <td>Eif4ebp3</td>\n",
       "    </tr>\n",
       "    <tr>\n",
       "      <th>134</th>\n",
       "      <td>1.370503</td>\n",
       "      <td>0.002149</td>\n",
       "      <td>0.213316</td>\n",
       "      <td>Lgmn</td>\n",
       "    </tr>\n",
       "    <tr>\n",
       "      <th>145</th>\n",
       "      <td>1.125962</td>\n",
       "      <td>0.002369</td>\n",
       "      <td>0.234219</td>\n",
       "      <td>Unc93b1</td>\n",
       "    </tr>\n",
       "    <tr>\n",
       "      <th>149</th>\n",
       "      <td>-0.682108</td>\n",
       "      <td>0.002468</td>\n",
       "      <td>0.149457</td>\n",
       "      <td>Spr</td>\n",
       "    </tr>\n",
       "    <tr>\n",
       "      <th>154</th>\n",
       "      <td>-0.888564</td>\n",
       "      <td>0.002548</td>\n",
       "      <td>0.145793</td>\n",
       "      <td>mt-Nd4</td>\n",
       "    </tr>\n",
       "    <tr>\n",
       "      <th>197</th>\n",
       "      <td>-0.589392</td>\n",
       "      <td>0.004673</td>\n",
       "      <td>0.202001</td>\n",
       "      <td>Pdha1</td>\n",
       "    </tr>\n",
       "  </tbody>\n",
       "</table>\n",
       "</div>"
      ],
      "text/plain": [
       "     log2FoldChange    pvalue      padj   gene_name\n",
       "9          1.431292  0.000013  0.011267        Ccn2\n",
       "28         1.862623  0.000141  0.053166       Acvr1\n",
       "30        -1.123160  0.000167  0.051450  St6galnac6\n",
       "34         1.856711  0.000218  0.108301       Pxdc1\n",
       "41         2.113258  0.000245  0.413714       Cxcl1\n",
       "42         1.331483  0.000251  0.062292       Cxcl5\n",
       "55         1.951035  0.000388  0.149457    Serpine1\n",
       "60         0.902848  0.000480  0.072140        Pbp2\n",
       "103        0.681292  0.001221  0.139893       Fam3c\n",
       "113       12.170341  0.001542  0.118579    Eif4ebp3\n",
       "134        1.370503  0.002149  0.213316        Lgmn\n",
       "145        1.125962  0.002369  0.234219     Unc93b1\n",
       "149       -0.682108  0.002468  0.149457         Spr\n",
       "154       -0.888564  0.002548  0.145793      mt-Nd4\n",
       "197       -0.589392  0.004673  0.202001       Pdha1"
      ]
     },
     "execution_count": 15,
     "metadata": {},
     "output_type": "execute_result"
    }
   ],
   "source": [
    "b1_common = b1_11mix_vs_10mix_200[b1_11mix_vs_10mix_200[\"gene_name\"].isin(common_b1_b2_11mix_vs_10mix)]\n",
    "b1_common"
   ]
  },
  {
   "cell_type": "code",
   "execution_count": 16,
   "id": "c01af895-378f-49ec-831d-70c60181d1d3",
   "metadata": {},
   "outputs": [
    {
     "data": {
      "text/html": [
       "<div>\n",
       "<style scoped>\n",
       "    .dataframe tbody tr th:only-of-type {\n",
       "        vertical-align: middle;\n",
       "    }\n",
       "\n",
       "    .dataframe tbody tr th {\n",
       "        vertical-align: top;\n",
       "    }\n",
       "\n",
       "    .dataframe thead th {\n",
       "        text-align: right;\n",
       "    }\n",
       "</style>\n",
       "<table border=\"1\" class=\"dataframe\">\n",
       "  <thead>\n",
       "    <tr style=\"text-align: right;\">\n",
       "      <th></th>\n",
       "      <th>log2FoldChange</th>\n",
       "      <th>pvalue</th>\n",
       "      <th>padj</th>\n",
       "      <th>gene_name</th>\n",
       "    </tr>\n",
       "  </thead>\n",
       "  <tbody>\n",
       "    <tr>\n",
       "      <th>1</th>\n",
       "      <td>2.216757</td>\n",
       "      <td>3.057066e-20</td>\n",
       "      <td>2.649799e-16</td>\n",
       "      <td>Cxcl5</td>\n",
       "    </tr>\n",
       "    <tr>\n",
       "      <th>2</th>\n",
       "      <td>2.736484</td>\n",
       "      <td>1.674240e-12</td>\n",
       "      <td>7.792711e-09</td>\n",
       "      <td>Serpine1</td>\n",
       "    </tr>\n",
       "    <tr>\n",
       "      <th>4</th>\n",
       "      <td>2.954420</td>\n",
       "      <td>1.611642e-11</td>\n",
       "      <td>4.487298e-08</td>\n",
       "      <td>Cxcl1</td>\n",
       "    </tr>\n",
       "    <tr>\n",
       "      <th>10</th>\n",
       "      <td>1.869469</td>\n",
       "      <td>8.638190e-08</td>\n",
       "      <td>5.872796e-05</td>\n",
       "      <td>Ccn2</td>\n",
       "    </tr>\n",
       "    <tr>\n",
       "      <th>11</th>\n",
       "      <td>-1.093974</td>\n",
       "      <td>2.208581e-07</td>\n",
       "      <td>1.376408e-04</td>\n",
       "      <td>St6galnac6</td>\n",
       "    </tr>\n",
       "    <tr>\n",
       "      <th>17</th>\n",
       "      <td>-0.852048</td>\n",
       "      <td>1.467222e-06</td>\n",
       "      <td>5.745732e-04</td>\n",
       "      <td>Spr</td>\n",
       "    </tr>\n",
       "    <tr>\n",
       "      <th>42</th>\n",
       "      <td>1.588769</td>\n",
       "      <td>1.845713e-05</td>\n",
       "      <td>7.383413e-03</td>\n",
       "      <td>Pxdc1</td>\n",
       "    </tr>\n",
       "    <tr>\n",
       "      <th>51</th>\n",
       "      <td>-14.036621</td>\n",
       "      <td>3.344131e-05</td>\n",
       "      <td>5.449760e-03</td>\n",
       "      <td>Eif4ebp3</td>\n",
       "    </tr>\n",
       "    <tr>\n",
       "      <th>71</th>\n",
       "      <td>0.601478</td>\n",
       "      <td>7.293864e-05</td>\n",
       "      <td>9.257214e-03</td>\n",
       "      <td>Fam3c</td>\n",
       "    </tr>\n",
       "    <tr>\n",
       "      <th>115</th>\n",
       "      <td>1.353949</td>\n",
       "      <td>2.380100e-04</td>\n",
       "      <td>3.273986e-02</td>\n",
       "      <td>Acvr1</td>\n",
       "    </tr>\n",
       "    <tr>\n",
       "      <th>128</th>\n",
       "      <td>0.827096</td>\n",
       "      <td>2.943009e-04</td>\n",
       "      <td>3.585203e-02</td>\n",
       "      <td>Unc93b1</td>\n",
       "    </tr>\n",
       "    <tr>\n",
       "      <th>160</th>\n",
       "      <td>-1.213928</td>\n",
       "      <td>5.004219e-04</td>\n",
       "      <td>2.736187e-02</td>\n",
       "      <td>mt-Nd4</td>\n",
       "    </tr>\n",
       "    <tr>\n",
       "      <th>166</th>\n",
       "      <td>0.904618</td>\n",
       "      <td>5.563120e-04</td>\n",
       "      <td>3.273986e-02</td>\n",
       "      <td>Pbp2</td>\n",
       "    </tr>\n",
       "    <tr>\n",
       "      <th>169</th>\n",
       "      <td>1.393295</td>\n",
       "      <td>5.650316e-04</td>\n",
       "      <td>4.762736e-02</td>\n",
       "      <td>Lgmn</td>\n",
       "    </tr>\n",
       "    <tr>\n",
       "      <th>180</th>\n",
       "      <td>-0.557168</td>\n",
       "      <td>6.339406e-04</td>\n",
       "      <td>3.265476e-02</td>\n",
       "      <td>Pdha1</td>\n",
       "    </tr>\n",
       "  </tbody>\n",
       "</table>\n",
       "</div>"
      ],
      "text/plain": [
       "     log2FoldChange        pvalue          padj   gene_name\n",
       "1          2.216757  3.057066e-20  2.649799e-16       Cxcl5\n",
       "2          2.736484  1.674240e-12  7.792711e-09    Serpine1\n",
       "4          2.954420  1.611642e-11  4.487298e-08       Cxcl1\n",
       "10         1.869469  8.638190e-08  5.872796e-05        Ccn2\n",
       "11        -1.093974  2.208581e-07  1.376408e-04  St6galnac6\n",
       "17        -0.852048  1.467222e-06  5.745732e-04         Spr\n",
       "42         1.588769  1.845713e-05  7.383413e-03       Pxdc1\n",
       "51       -14.036621  3.344131e-05  5.449760e-03    Eif4ebp3\n",
       "71         0.601478  7.293864e-05  9.257214e-03       Fam3c\n",
       "115        1.353949  2.380100e-04  3.273986e-02       Acvr1\n",
       "128        0.827096  2.943009e-04  3.585203e-02     Unc93b1\n",
       "160       -1.213928  5.004219e-04  2.736187e-02      mt-Nd4\n",
       "166        0.904618  5.563120e-04  3.273986e-02        Pbp2\n",
       "169        1.393295  5.650316e-04  4.762736e-02        Lgmn\n",
       "180       -0.557168  6.339406e-04  3.265476e-02       Pdha1"
      ]
     },
     "execution_count": 16,
     "metadata": {},
     "output_type": "execute_result"
    }
   ],
   "source": [
    "b2_common = b2_11mix_vs_10mix_200[ b2_11mix_vs_10mix_200[\"gene_name\"].isin(common_b1_b2_11mix_vs_10mix)]\n",
    "b2_common"
   ]
  },
  {
   "cell_type": "markdown",
   "id": "c1f9b877-dce3-4140-aefe-f494bb93da0c",
   "metadata": {},
   "source": [
    "### Fisher exact test\n",
    "Test if the number of common genes is larger than what would be obtained by chance"
   ]
  },
  {
   "cell_type": "code",
   "execution_count": 17,
   "id": "0701dea1-b1c3-448f-add3-3d63a28281e9",
   "metadata": {},
   "outputs": [
    {
     "data": {
      "text/plain": [
       "2.4771094272208772e-08"
      ]
     },
     "execution_count": 17,
     "metadata": {},
     "output_type": "execute_result"
    }
   ],
   "source": [
    "b1_and_b2 = len(common_b1_b2_11mix_vs_10mix)\n",
    "notb1_onlyb2 = len(b1_11mix_vs_10mix_200) - b1_and_b2\n",
    "notb2_onlyb1 = len(b1_11mix_vs_10mix_200) - b1_and_b2\n",
    "notb1_notb2=  len(genes_universe)\n",
    "oddsratio, pvalue = fisher_exact([[b1_and_b2, notb1_onlyb2], [notb2_onlyb1, notb1_notb2]])\n",
    "pvalue"
   ]
  },
  {
   "cell_type": "code",
   "execution_count": 18,
   "id": "58c57a60-f874-4c49-b2d1-e0525897a4c7",
   "metadata": {},
   "outputs": [
    {
     "data": {
      "text/plain": [
       "6.990065741417093"
      ]
     },
     "execution_count": 18,
     "metadata": {},
     "output_type": "execute_result"
    }
   ],
   "source": [
    "oddsratio"
   ]
  },
  {
   "cell_type": "markdown",
   "id": "4cdde5a3-9e7d-44d5-8463-af30a2ffb2cb",
   "metadata": {
    "tags": []
   },
   "source": [
    "The p value is less than 5% (0.05), therefore we conclude that our observation is statistically significant. \n",
    "### This means that the number of intersected genes is higher than what we would expect by random chance.  "
   ]
  },
  {
   "cell_type": "code",
   "execution_count": 19,
   "id": "0d4aa786-1a12-41e5-af76-a05ca323e701",
   "metadata": {
    "tags": []
   },
   "outputs": [
    {
     "data": {
      "image/png": "[encoded data removed]",
      "text/plain": [
       "<Figure size 640x480 with 1 Axes>"
      ]
     },
     "metadata": {},
     "output_type": "display_data"
    }
   ],
   "source": [
    "# plot intersection\n",
    "venn2(subsets = (len(b1_11mix_vs_10mix_200), len(b2_11mix_vs_10mix_200), len(common_b1_b2_11mix_vs_10mix)), set_labels = ('Batch1', 'Batch2'))\n",
    "plt.show()"
   ]
  }
 ],
 "metadata": {
  "kernelspec": {
   "display_name": "Python [conda env:.conda-decoupler]",
   "language": "python",
   "name": "conda-env-.conda-decoupler-py"
  },
  "language_info": {
   "codemirror_mode": {
    "name": "ipython",
    "version": 3
   },
   "file_extension": ".py",
   "mimetype": "text/x-python",
   "name": "python",
   "nbconvert_exporter": "python",
   "pygments_lexer": "ipython3",
   "version": "3.10.6"
  }
 },
 "nbformat": 4,
 "nbformat_minor": 5
}
