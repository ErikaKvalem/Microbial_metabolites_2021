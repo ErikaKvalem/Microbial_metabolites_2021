{
 "cells": [
  {
   "cell_type": "markdown",
   "id": "9f0f3d65-cb82-49d1-adce-0a2ab14f6305",
   "metadata": {},
   "source": [
    "# Gene expression & surface protein TIL "
   ]
  },
  {
   "cell_type": "markdown",
   "id": "f1eec119-4e34-4725-bdb7-466a00ffc60c",
   "metadata": {},
   "source": [
    "## Load adata annotated "
   ]
  },
  {
   "cell_type": "code",
   "execution_count": null,
   "id": "d1c4cf27-559b-4644-bc27-f2e0fc68339a",
   "metadata": {},
   "outputs": [],
   "source": [
    "# Libraries\n",
    "import anndata as ad\n",
    "import matplotlib as plt\n",
    "import numpy as np\n",
    "import pandas as pd\n",
    "import sc_atlas_helpers as ah\n",
    "import scanpy as sc\n",
    "from matplotlib.pyplot import rc_context\n",
    "from scipy.stats import median_abs_deviation"
   ]
  },
  {
   "cell_type": "code",
   "execution_count": null,
   "id": "d81a2e6f-4471-42a8-8be3-64b4bad09294",
   "metadata": {},
   "outputs": [],
   "source": [
    "from functools import partial\n",
    "\n",
    "import altair as alt"
   ]
  },
  {
   "cell_type": "code",
   "execution_count": null,
   "id": "13330462-666b-4f66-82c2-1f1fb747ce86",
   "metadata": {},
   "outputs": [],
   "source": [
    "import seaborn as sns"
   ]
  },
  {
   "cell_type": "code",
   "execution_count": null,
   "id": "a5fd69f3-c249-4bf1-b030-53b8b7eec0ff",
   "metadata": {},
   "outputs": [],
   "source": [
    "import decoupler as dc"
   ]
  },
  {
   "cell_type": "code",
   "execution_count": null,
   "id": "084aacd8-bb40-4c13-b453-06bc72134708",
   "metadata": {},
   "outputs": [],
   "source": [
    "resDir = \"/data/projects/2021/MicrobialMetabolites/single-cell-sorted-cd8/results/40_gex_surface_prot/\"\n",
    "inputDir = \"/data/projects/2021/MicrobialMetabolites/single-cell-sorted-cd8/results/40_gex_surface_prot/\""
   ]
  },
  {
   "cell_type": "code",
   "execution_count": null,
   "id": "0b029ebc-71ca-4ed9-b9b2-b19746ff4f0a",
   "metadata": {
    "scrolled": true
   },
   "outputs": [],
   "source": [
    "adata = sc.read_h5ad(f\"{resDir}adata_merged_til_annotated.h5ad\")"
   ]
  },
  {
   "cell_type": "code",
   "execution_count": null,
   "id": "09f6eae7-b325-4341-9129-82dd5973d6c6",
   "metadata": {},
   "outputs": [],
   "source": [
    "# Visualize\n",
    "sc.pl.umap(adata, color='cell_type')"
   ]
  },
  {
   "cell_type": "code",
   "execution_count": null,
   "id": "0ddf04d7-c163-4791-8a28-ad28e76963c1",
   "metadata": {},
   "outputs": [],
   "source": []
  }
 ],
 "metadata": {
  "kernelspec": {
   "display_name": "scanpy",
   "language": "python",
   "name": "scanpy"
  },
  "language_info": {
   "codemirror_mode": {
    "name": "ipython",
    "version": 3
   },
   "file_extension": ".py",
   "mimetype": "text/x-python",
   "name": "python",
   "nbconvert_exporter": "python",
   "pygments_lexer": "ipython3",
   "version": "3.12.3"
  }
 },
 "nbformat": 4,
 "nbformat_minor": 5
}
