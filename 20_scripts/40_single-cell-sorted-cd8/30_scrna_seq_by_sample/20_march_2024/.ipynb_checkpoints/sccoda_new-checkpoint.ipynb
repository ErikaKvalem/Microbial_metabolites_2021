{
 "cells": [
  {
   "cell_type": "code",
   "execution_count": null,
   "id": "0e45d254-1b1f-4618-8c8d-4dfc6b61f152",
   "metadata": {},
   "outputs": [],
   "source": []
  },
  {
   "cell_type": "code",
   "execution_count": 1,
   "id": "a16bd4c1-ef2f-4e23-b88c-b084b70da873",
   "metadata": {},
   "outputs": [],
   "source": [
    "import scanpy as sc"
   ]
  },
  {
   "cell_type": "code",
   "execution_count": 2,
   "id": "e32a0ec6-25ab-4a31-8b3e-b51fbc753c64",
   "metadata": {},
   "outputs": [],
   "source": [
    "import sccoda.util.cell_composition_data as scc_dat\n",
    "import sccoda.util.data_visualization as scc_viz"
   ]
  },
  {
   "cell_type": "code",
   "execution_count": 3,
   "id": "374ea39d-96f1-4c26-abec-b717c8c4012f",
   "metadata": {},
   "outputs": [],
   "source": [
    "adata_qc = sc.read_h5ad(\"mdata_qc.h5ad\")"
   ]
  },
  {
   "cell_type": "code",
   "execution_count": 5,
   "id": "2a22339e-1ed2-41f0-a322-63b2ce528ab2",
   "metadata": {},
   "outputs": [
    {
     "data": {
      "text/html": [
       "<div>\n",
       "<style scoped>\n",
       "    .dataframe tbody tr th:only-of-type {\n",
       "        vertical-align: middle;\n",
       "    }\n",
       "\n",
       "    .dataframe tbody tr th {\n",
       "        vertical-align: top;\n",
       "    }\n",
       "\n",
       "    .dataframe thead th {\n",
       "        text-align: right;\n",
       "    }\n",
       "</style>\n",
       "<table border=\"1\" class=\"dataframe\">\n",
       "  <thead>\n",
       "    <tr style=\"text-align: right;\">\n",
       "      <th></th>\n",
       "      <th>sample</th>\n",
       "      <th>group</th>\n",
       "      <th>condition</th>\n",
       "      <th>n_genes</th>\n",
       "      <th>n_counts</th>\n",
       "      <th>leiden</th>\n",
       "      <th>origin</th>\n",
       "      <th>n_genes_by_counts</th>\n",
       "      <th>log1p_n_genes_by_counts</th>\n",
       "      <th>total_counts</th>\n",
       "      <th>log1p_total_counts</th>\n",
       "      <th>pct_counts_in_top_20_genes</th>\n",
       "      <th>total_counts_mt</th>\n",
       "      <th>log1p_total_counts_mt</th>\n",
       "      <th>pct_counts_mt</th>\n",
       "      <th>outlier</th>\n",
       "      <th>cell_type_coarse</th>\n",
       "    </tr>\n",
       "  </thead>\n",
       "  <tbody>\n",
       "    <tr>\n",
       "      <th>AAACCTGCAGGATCGA-1_10mix1_0</th>\n",
       "      <td>10mix1</td>\n",
       "      <td>10mix</td>\n",
       "      <td>naive</td>\n",
       "      <td>1979</td>\n",
       "      <td>6245.0</td>\n",
       "      <td>5</td>\n",
       "      <td>colon</td>\n",
       "      <td>1979</td>\n",
       "      <td>7.590852</td>\n",
       "      <td>1985.249878</td>\n",
       "      <td>7.594004</td>\n",
       "      <td>3.824374</td>\n",
       "      <td>25.532326</td>\n",
       "      <td>3.278364</td>\n",
       "      <td>1.286101</td>\n",
       "      <td>False</td>\n",
       "      <td>Exhausted</td>\n",
       "    </tr>\n",
       "    <tr>\n",
       "      <th>AAACCTGCATACCATG-1_10mix1_0</th>\n",
       "      <td>10mix1</td>\n",
       "      <td>10mix</td>\n",
       "      <td>naive</td>\n",
       "      <td>1707</td>\n",
       "      <td>3830.0</td>\n",
       "      <td>5</td>\n",
       "      <td>colon</td>\n",
       "      <td>1707</td>\n",
       "      <td>7.443078</td>\n",
       "      <td>2068.619629</td>\n",
       "      <td>7.635120</td>\n",
       "      <td>3.552023</td>\n",
       "      <td>31.592907</td>\n",
       "      <td>3.484095</td>\n",
       "      <td>1.527246</td>\n",
       "      <td>False</td>\n",
       "      <td>Exhausted</td>\n",
       "    </tr>\n",
       "    <tr>\n",
       "      <th>AAAGATGGTAGAGGAA-1_10mix1_0</th>\n",
       "      <td>10mix1</td>\n",
       "      <td>10mix</td>\n",
       "      <td>naive</td>\n",
       "      <td>2590</td>\n",
       "      <td>10099.0</td>\n",
       "      <td>5</td>\n",
       "      <td>colon</td>\n",
       "      <td>2590</td>\n",
       "      <td>7.859799</td>\n",
       "      <td>1966.321899</td>\n",
       "      <td>7.584428</td>\n",
       "      <td>4.066596</td>\n",
       "      <td>33.609489</td>\n",
       "      <td>3.544128</td>\n",
       "      <td>1.709257</td>\n",
       "      <td>False</td>\n",
       "      <td>Exhausted</td>\n",
       "    </tr>\n",
       "    <tr>\n",
       "      <th>AAAGATGTCACTCCTG-1_10mix1_0</th>\n",
       "      <td>10mix1</td>\n",
       "      <td>10mix</td>\n",
       "      <td>naive</td>\n",
       "      <td>2291</td>\n",
       "      <td>7971.0</td>\n",
       "      <td>0</td>\n",
       "      <td>colon</td>\n",
       "      <td>2291</td>\n",
       "      <td>7.737180</td>\n",
       "      <td>1981.990845</td>\n",
       "      <td>7.592361</td>\n",
       "      <td>3.988166</td>\n",
       "      <td>30.891006</td>\n",
       "      <td>3.462324</td>\n",
       "      <td>1.558585</td>\n",
       "      <td>False</td>\n",
       "      <td>Naive</td>\n",
       "    </tr>\n",
       "    <tr>\n",
       "      <th>AAAGCAAAGACACGAC-1_10mix1_0</th>\n",
       "      <td>10mix1</td>\n",
       "      <td>10mix</td>\n",
       "      <td>naive</td>\n",
       "      <td>1883</td>\n",
       "      <td>4997.0</td>\n",
       "      <td>5</td>\n",
       "      <td>colon</td>\n",
       "      <td>1883</td>\n",
       "      <td>7.541152</td>\n",
       "      <td>2054.116455</td>\n",
       "      <td>7.628088</td>\n",
       "      <td>3.646005</td>\n",
       "      <td>27.598352</td>\n",
       "      <td>3.353349</td>\n",
       "      <td>1.343563</td>\n",
       "      <td>False</td>\n",
       "      <td>Exhausted</td>\n",
       "    </tr>\n",
       "    <tr>\n",
       "      <th>...</th>\n",
       "      <td>...</td>\n",
       "      <td>...</td>\n",
       "      <td>...</td>\n",
       "      <td>...</td>\n",
       "      <td>...</td>\n",
       "      <td>...</td>\n",
       "      <td>...</td>\n",
       "      <td>...</td>\n",
       "      <td>...</td>\n",
       "      <td>...</td>\n",
       "      <td>...</td>\n",
       "      <td>...</td>\n",
       "      <td>...</td>\n",
       "      <td>...</td>\n",
       "      <td>...</td>\n",
       "      <td>...</td>\n",
       "      <td>...</td>\n",
       "    </tr>\n",
       "    <tr>\n",
       "      <th>TTTGTCAGTGCTTCTC-1_GF-ICI2-plus_1</th>\n",
       "      <td>GF-ICI2-plus</td>\n",
       "      <td>GF-plus</td>\n",
       "      <td>ICI</td>\n",
       "      <td>2461</td>\n",
       "      <td>7822.0</td>\n",
       "      <td>4</td>\n",
       "      <td>til</td>\n",
       "      <td>2461</td>\n",
       "      <td>7.808729</td>\n",
       "      <td>2166.226562</td>\n",
       "      <td>7.681203</td>\n",
       "      <td>3.505126</td>\n",
       "      <td>20.273508</td>\n",
       "      <td>3.057462</td>\n",
       "      <td>0.935890</td>\n",
       "      <td>False</td>\n",
       "      <td>Exhausted</td>\n",
       "    </tr>\n",
       "    <tr>\n",
       "      <th>TTTGTCATCCAGAGGA-1_GF-ICI2-plus_1</th>\n",
       "      <td>GF-ICI2-plus</td>\n",
       "      <td>GF-plus</td>\n",
       "      <td>ICI</td>\n",
       "      <td>2260</td>\n",
       "      <td>7418.0</td>\n",
       "      <td>10</td>\n",
       "      <td>til</td>\n",
       "      <td>2260</td>\n",
       "      <td>7.723562</td>\n",
       "      <td>2073.523193</td>\n",
       "      <td>7.637486</td>\n",
       "      <td>3.705167</td>\n",
       "      <td>19.653513</td>\n",
       "      <td>3.027885</td>\n",
       "      <td>0.947832</td>\n",
       "      <td>False</td>\n",
       "      <td>IFg</td>\n",
       "    </tr>\n",
       "    <tr>\n",
       "      <th>TTTGTCATCCCTTGCA-1_GF-ICI2-plus_1</th>\n",
       "      <td>GF-ICI2-plus</td>\n",
       "      <td>GF-plus</td>\n",
       "      <td>ICI</td>\n",
       "      <td>2108</td>\n",
       "      <td>6218.0</td>\n",
       "      <td>4</td>\n",
       "      <td>til</td>\n",
       "      <td>2108</td>\n",
       "      <td>7.653969</td>\n",
       "      <td>2066.385742</td>\n",
       "      <td>7.634040</td>\n",
       "      <td>3.704767</td>\n",
       "      <td>25.733318</td>\n",
       "      <td>3.285911</td>\n",
       "      <td>1.245330</td>\n",
       "      <td>False</td>\n",
       "      <td>Exhausted</td>\n",
       "    </tr>\n",
       "    <tr>\n",
       "      <th>TTTGTCATCTCTGTCG-1_GF-ICI2-plus_1</th>\n",
       "      <td>GF-ICI2-plus</td>\n",
       "      <td>GF-plus</td>\n",
       "      <td>ICI</td>\n",
       "      <td>2101</td>\n",
       "      <td>6973.0</td>\n",
       "      <td>1</td>\n",
       "      <td>til</td>\n",
       "      <td>2101</td>\n",
       "      <td>7.650645</td>\n",
       "      <td>1991.792114</td>\n",
       "      <td>7.597292</td>\n",
       "      <td>3.931779</td>\n",
       "      <td>25.704887</td>\n",
       "      <td>3.284847</td>\n",
       "      <td>1.290541</td>\n",
       "      <td>False</td>\n",
       "      <td>Resident Memory</td>\n",
       "    </tr>\n",
       "    <tr>\n",
       "      <th>TTTGTCATCTGTTGAG-1_GF-ICI2-plus_1</th>\n",
       "      <td>GF-ICI2-plus</td>\n",
       "      <td>GF-plus</td>\n",
       "      <td>ICI</td>\n",
       "      <td>2492</td>\n",
       "      <td>8885.0</td>\n",
       "      <td>4</td>\n",
       "      <td>til</td>\n",
       "      <td>2492</td>\n",
       "      <td>7.821242</td>\n",
       "      <td>2075.650635</td>\n",
       "      <td>7.638512</td>\n",
       "      <td>3.668451</td>\n",
       "      <td>21.469584</td>\n",
       "      <td>3.112163</td>\n",
       "      <td>1.034354</td>\n",
       "      <td>False</td>\n",
       "      <td>Exhausted</td>\n",
       "    </tr>\n",
       "  </tbody>\n",
       "</table>\n",
       "<p>14042 rows × 17 columns</p>\n",
       "</div>"
      ],
      "text/plain": [
       "                                         sample    group condition  n_genes  \\\n",
       "AAACCTGCAGGATCGA-1_10mix1_0              10mix1    10mix     naive     1979   \n",
       "AAACCTGCATACCATG-1_10mix1_0              10mix1    10mix     naive     1707   \n",
       "AAAGATGGTAGAGGAA-1_10mix1_0              10mix1    10mix     naive     2590   \n",
       "AAAGATGTCACTCCTG-1_10mix1_0              10mix1    10mix     naive     2291   \n",
       "AAAGCAAAGACACGAC-1_10mix1_0              10mix1    10mix     naive     1883   \n",
       "...                                         ...      ...       ...      ...   \n",
       "TTTGTCAGTGCTTCTC-1_GF-ICI2-plus_1  GF-ICI2-plus  GF-plus       ICI     2461   \n",
       "TTTGTCATCCAGAGGA-1_GF-ICI2-plus_1  GF-ICI2-plus  GF-plus       ICI     2260   \n",
       "TTTGTCATCCCTTGCA-1_GF-ICI2-plus_1  GF-ICI2-plus  GF-plus       ICI     2108   \n",
       "TTTGTCATCTCTGTCG-1_GF-ICI2-plus_1  GF-ICI2-plus  GF-plus       ICI     2101   \n",
       "TTTGTCATCTGTTGAG-1_GF-ICI2-plus_1  GF-ICI2-plus  GF-plus       ICI     2492   \n",
       "\n",
       "                                   n_counts leiden origin  n_genes_by_counts  \\\n",
       "AAACCTGCAGGATCGA-1_10mix1_0          6245.0      5  colon               1979   \n",
       "AAACCTGCATACCATG-1_10mix1_0          3830.0      5  colon               1707   \n",
       "AAAGATGGTAGAGGAA-1_10mix1_0         10099.0      5  colon               2590   \n",
       "AAAGATGTCACTCCTG-1_10mix1_0          7971.0      0  colon               2291   \n",
       "AAAGCAAAGACACGAC-1_10mix1_0          4997.0      5  colon               1883   \n",
       "...                                     ...    ...    ...                ...   \n",
       "TTTGTCAGTGCTTCTC-1_GF-ICI2-plus_1    7822.0      4    til               2461   \n",
       "TTTGTCATCCAGAGGA-1_GF-ICI2-plus_1    7418.0     10    til               2260   \n",
       "TTTGTCATCCCTTGCA-1_GF-ICI2-plus_1    6218.0      4    til               2108   \n",
       "TTTGTCATCTCTGTCG-1_GF-ICI2-plus_1    6973.0      1    til               2101   \n",
       "TTTGTCATCTGTTGAG-1_GF-ICI2-plus_1    8885.0      4    til               2492   \n",
       "\n",
       "                                   log1p_n_genes_by_counts  total_counts  \\\n",
       "AAACCTGCAGGATCGA-1_10mix1_0                       7.590852   1985.249878   \n",
       "AAACCTGCATACCATG-1_10mix1_0                       7.443078   2068.619629   \n",
       "AAAGATGGTAGAGGAA-1_10mix1_0                       7.859799   1966.321899   \n",
       "AAAGATGTCACTCCTG-1_10mix1_0                       7.737180   1981.990845   \n",
       "AAAGCAAAGACACGAC-1_10mix1_0                       7.541152   2054.116455   \n",
       "...                                                    ...           ...   \n",
       "TTTGTCAGTGCTTCTC-1_GF-ICI2-plus_1                 7.808729   2166.226562   \n",
       "TTTGTCATCCAGAGGA-1_GF-ICI2-plus_1                 7.723562   2073.523193   \n",
       "TTTGTCATCCCTTGCA-1_GF-ICI2-plus_1                 7.653969   2066.385742   \n",
       "TTTGTCATCTCTGTCG-1_GF-ICI2-plus_1                 7.650645   1991.792114   \n",
       "TTTGTCATCTGTTGAG-1_GF-ICI2-plus_1                 7.821242   2075.650635   \n",
       "\n",
       "                                   log1p_total_counts  \\\n",
       "AAACCTGCAGGATCGA-1_10mix1_0                  7.594004   \n",
       "AAACCTGCATACCATG-1_10mix1_0                  7.635120   \n",
       "AAAGATGGTAGAGGAA-1_10mix1_0                  7.584428   \n",
       "AAAGATGTCACTCCTG-1_10mix1_0                  7.592361   \n",
       "AAAGCAAAGACACGAC-1_10mix1_0                  7.628088   \n",
       "...                                               ...   \n",
       "TTTGTCAGTGCTTCTC-1_GF-ICI2-plus_1            7.681203   \n",
       "TTTGTCATCCAGAGGA-1_GF-ICI2-plus_1            7.637486   \n",
       "TTTGTCATCCCTTGCA-1_GF-ICI2-plus_1            7.634040   \n",
       "TTTGTCATCTCTGTCG-1_GF-ICI2-plus_1            7.597292   \n",
       "TTTGTCATCTGTTGAG-1_GF-ICI2-plus_1            7.638512   \n",
       "\n",
       "                                   pct_counts_in_top_20_genes  \\\n",
       "AAACCTGCAGGATCGA-1_10mix1_0                          3.824374   \n",
       "AAACCTGCATACCATG-1_10mix1_0                          3.552023   \n",
       "AAAGATGGTAGAGGAA-1_10mix1_0                          4.066596   \n",
       "AAAGATGTCACTCCTG-1_10mix1_0                          3.988166   \n",
       "AAAGCAAAGACACGAC-1_10mix1_0                          3.646005   \n",
       "...                                                       ...   \n",
       "TTTGTCAGTGCTTCTC-1_GF-ICI2-plus_1                    3.505126   \n",
       "TTTGTCATCCAGAGGA-1_GF-ICI2-plus_1                    3.705167   \n",
       "TTTGTCATCCCTTGCA-1_GF-ICI2-plus_1                    3.704767   \n",
       "TTTGTCATCTCTGTCG-1_GF-ICI2-plus_1                    3.931779   \n",
       "TTTGTCATCTGTTGAG-1_GF-ICI2-plus_1                    3.668451   \n",
       "\n",
       "                                   total_counts_mt  log1p_total_counts_mt  \\\n",
       "AAACCTGCAGGATCGA-1_10mix1_0              25.532326               3.278364   \n",
       "AAACCTGCATACCATG-1_10mix1_0              31.592907               3.484095   \n",
       "AAAGATGGTAGAGGAA-1_10mix1_0              33.609489               3.544128   \n",
       "AAAGATGTCACTCCTG-1_10mix1_0              30.891006               3.462324   \n",
       "AAAGCAAAGACACGAC-1_10mix1_0              27.598352               3.353349   \n",
       "...                                            ...                    ...   \n",
       "TTTGTCAGTGCTTCTC-1_GF-ICI2-plus_1        20.273508               3.057462   \n",
       "TTTGTCATCCAGAGGA-1_GF-ICI2-plus_1        19.653513               3.027885   \n",
       "TTTGTCATCCCTTGCA-1_GF-ICI2-plus_1        25.733318               3.285911   \n",
       "TTTGTCATCTCTGTCG-1_GF-ICI2-plus_1        25.704887               3.284847   \n",
       "TTTGTCATCTGTTGAG-1_GF-ICI2-plus_1        21.469584               3.112163   \n",
       "\n",
       "                                   pct_counts_mt  outlier cell_type_coarse  \n",
       "AAACCTGCAGGATCGA-1_10mix1_0             1.286101    False        Exhausted  \n",
       "AAACCTGCATACCATG-1_10mix1_0             1.527246    False        Exhausted  \n",
       "AAAGATGGTAGAGGAA-1_10mix1_0             1.709257    False        Exhausted  \n",
       "AAAGATGTCACTCCTG-1_10mix1_0             1.558585    False            Naive  \n",
       "AAAGCAAAGACACGAC-1_10mix1_0             1.343563    False        Exhausted  \n",
       "...                                          ...      ...              ...  \n",
       "TTTGTCAGTGCTTCTC-1_GF-ICI2-plus_1       0.935890    False        Exhausted  \n",
       "TTTGTCATCCAGAGGA-1_GF-ICI2-plus_1       0.947832    False              IFg  \n",
       "TTTGTCATCCCTTGCA-1_GF-ICI2-plus_1       1.245330    False        Exhausted  \n",
       "TTTGTCATCTCTGTCG-1_GF-ICI2-plus_1       1.290541    False  Resident Memory  \n",
       "TTTGTCATCTGTTGAG-1_GF-ICI2-plus_1       1.034354    False        Exhausted  \n",
       "\n",
       "[14042 rows x 17 columns]"
      ]
     },
     "execution_count": 5,
     "metadata": {},
     "output_type": "execute_result"
    }
   ],
   "source": [
    "adata_qc.obs"
   ]
  },
  {
   "cell_type": "code",
   "execution_count": 7,
   "id": "1315639d-d5e0-410a-91ac-fd2248ab8101",
   "metadata": {},
   "outputs": [],
   "source": [
    "adata = adata_qc"
   ]
  },
  {
   "cell_type": "code",
   "execution_count": 8,
   "id": "44bf0dd5-64cd-42d0-905c-64f8e91714e1",
   "metadata": {},
   "outputs": [],
   "source": [
    "adata.obs.rename(columns={\"condition\":\"treatment\"}, inplace = True)"
   ]
  },
  {
   "cell_type": "code",
   "execution_count": 12,
   "id": "e21aed48-1123-4ca1-822d-bf303b6e369f",
   "metadata": {},
   "outputs": [],
   "source": [
    "frac_by_condition = (\n",
    "    adata.obs.groupby([\"group\",\"sample\",\"treatment\"])\n",
    "    .apply(lambda x: x.value_counts(\"cell_type_coarse\", normalize=False))\n",
    "    .reset_index(name=\"n_cells\")\n",
    "    .assign(condition=lambda x: x[\"group\"].astype(str))\n",
    ")\n"
   ]
  },
  {
   "cell_type": "code",
   "execution_count": 224,
   "id": "7501bd11-fd98-4263-a31d-b0fb3cdf8693",
   "metadata": {},
   "outputs": [],
   "source": [
    "frac_by_condition = frac_by_condition[frac_by_condition['cell_type_anno'] != 'Undefined']"
   ]
  },
  {
   "cell_type": "code",
   "execution_count": 233,
   "id": "9254405b-24c1-4612-b2bd-8b796376b9be",
   "metadata": {},
   "outputs": [],
   "source": [
    "frac_by_condition = frac_by_condition[frac_by_condition['cell_type_anno'] != 'Stress response T-cells']"
   ]
  },
  {
   "cell_type": "code",
   "execution_count": 165,
   "id": "3a5fae19-2894-4ad1-91c0-0aac9b12806a",
   "metadata": {},
   "outputs": [],
   "source": [
    "frac_by_condition = frac_by_condition[frac_by_condition['condition'] != 'GF-plus']"
   ]
  },
  {
   "cell_type": "code",
   "execution_count": 167,
   "id": "c4723a80-2f00-46c4-b68c-a2488ede22cf",
   "metadata": {},
   "outputs": [],
   "source": [
    "frac_by_condition = frac_by_condition[frac_by_condition['treatment'] != 'No ICI']"
   ]
  },
  {
   "cell_type": "code",
   "execution_count": 28,
   "id": "da143925-a705-45ac-906a-c84f8dcbc6ca",
   "metadata": {},
   "outputs": [],
   "source": [
    "frac_by_condition = frac_by_condition[frac_by_condition['treatment'] == 'naive']"
   ]
  },
  {
   "cell_type": "code",
   "execution_count": 29,
   "id": "78cd4840-c3f6-401b-bd28-a95404b8d860",
   "metadata": {},
   "outputs": [
    {
     "data": {
      "text/html": [
       "<div>\n",
       "<style scoped>\n",
       "    .dataframe tbody tr th:only-of-type {\n",
       "        vertical-align: middle;\n",
       "    }\n",
       "\n",
       "    .dataframe tbody tr th {\n",
       "        vertical-align: top;\n",
       "    }\n",
       "\n",
       "    .dataframe thead th {\n",
       "        text-align: right;\n",
       "    }\n",
       "</style>\n",
       "<table border=\"1\" class=\"dataframe\">\n",
       "  <thead>\n",
       "    <tr style=\"text-align: right;\">\n",
       "      <th></th>\n",
       "      <th>group</th>\n",
       "      <th>sample</th>\n",
       "      <th>treatment</th>\n",
       "      <th>cell_type_coarse</th>\n",
       "      <th>n_cells</th>\n",
       "      <th>condition</th>\n",
       "    </tr>\n",
       "  </thead>\n",
       "  <tbody>\n",
       "    <tr>\n",
       "      <th>0</th>\n",
       "      <td>10mix</td>\n",
       "      <td>10mix1</td>\n",
       "      <td>naive</td>\n",
       "      <td>Exhausted</td>\n",
       "      <td>335</td>\n",
       "      <td>10mix</td>\n",
       "    </tr>\n",
       "    <tr>\n",
       "      <th>1</th>\n",
       "      <td>10mix</td>\n",
       "      <td>10mix1</td>\n",
       "      <td>naive</td>\n",
       "      <td>Naive</td>\n",
       "      <td>81</td>\n",
       "      <td>10mix</td>\n",
       "    </tr>\n",
       "    <tr>\n",
       "      <th>2</th>\n",
       "      <td>10mix</td>\n",
       "      <td>10mix1</td>\n",
       "      <td>naive</td>\n",
       "      <td>Resident Memory</td>\n",
       "      <td>4</td>\n",
       "      <td>10mix</td>\n",
       "    </tr>\n",
       "    <tr>\n",
       "      <th>3</th>\n",
       "      <td>10mix</td>\n",
       "      <td>10mix1</td>\n",
       "      <td>naive</td>\n",
       "      <td>IFg</td>\n",
       "      <td>0</td>\n",
       "      <td>10mix</td>\n",
       "    </tr>\n",
       "    <tr>\n",
       "      <th>4</th>\n",
       "      <td>10mix</td>\n",
       "      <td>10mix2</td>\n",
       "      <td>naive</td>\n",
       "      <td>Exhausted</td>\n",
       "      <td>298</td>\n",
       "      <td>10mix</td>\n",
       "    </tr>\n",
       "    <tr>\n",
       "      <th>5</th>\n",
       "      <td>10mix</td>\n",
       "      <td>10mix2</td>\n",
       "      <td>naive</td>\n",
       "      <td>Naive</td>\n",
       "      <td>81</td>\n",
       "      <td>10mix</td>\n",
       "    </tr>\n",
       "    <tr>\n",
       "      <th>6</th>\n",
       "      <td>10mix</td>\n",
       "      <td>10mix2</td>\n",
       "      <td>naive</td>\n",
       "      <td>Resident Memory</td>\n",
       "      <td>4</td>\n",
       "      <td>10mix</td>\n",
       "    </tr>\n",
       "    <tr>\n",
       "      <th>7</th>\n",
       "      <td>10mix</td>\n",
       "      <td>10mix2</td>\n",
       "      <td>naive</td>\n",
       "      <td>IFg</td>\n",
       "      <td>0</td>\n",
       "      <td>10mix</td>\n",
       "    </tr>\n",
       "    <tr>\n",
       "      <th>16</th>\n",
       "      <td>11mix</td>\n",
       "      <td>11mix1</td>\n",
       "      <td>naive</td>\n",
       "      <td>Exhausted</td>\n",
       "      <td>634</td>\n",
       "      <td>11mix</td>\n",
       "    </tr>\n",
       "    <tr>\n",
       "      <th>17</th>\n",
       "      <td>11mix</td>\n",
       "      <td>11mix1</td>\n",
       "      <td>naive</td>\n",
       "      <td>Naive</td>\n",
       "      <td>42</td>\n",
       "      <td>11mix</td>\n",
       "    </tr>\n",
       "    <tr>\n",
       "      <th>18</th>\n",
       "      <td>11mix</td>\n",
       "      <td>11mix1</td>\n",
       "      <td>naive</td>\n",
       "      <td>Resident Memory</td>\n",
       "      <td>2</td>\n",
       "      <td>11mix</td>\n",
       "    </tr>\n",
       "    <tr>\n",
       "      <th>19</th>\n",
       "      <td>11mix</td>\n",
       "      <td>11mix1</td>\n",
       "      <td>naive</td>\n",
       "      <td>IFg</td>\n",
       "      <td>0</td>\n",
       "      <td>11mix</td>\n",
       "    </tr>\n",
       "    <tr>\n",
       "      <th>20</th>\n",
       "      <td>11mix</td>\n",
       "      <td>11mix2</td>\n",
       "      <td>naive</td>\n",
       "      <td>Exhausted</td>\n",
       "      <td>792</td>\n",
       "      <td>11mix</td>\n",
       "    </tr>\n",
       "    <tr>\n",
       "      <th>21</th>\n",
       "      <td>11mix</td>\n",
       "      <td>11mix2</td>\n",
       "      <td>naive</td>\n",
       "      <td>Naive</td>\n",
       "      <td>58</td>\n",
       "      <td>11mix</td>\n",
       "    </tr>\n",
       "    <tr>\n",
       "      <th>22</th>\n",
       "      <td>11mix</td>\n",
       "      <td>11mix2</td>\n",
       "      <td>naive</td>\n",
       "      <td>Resident Memory</td>\n",
       "      <td>3</td>\n",
       "      <td>11mix</td>\n",
       "    </tr>\n",
       "    <tr>\n",
       "      <th>23</th>\n",
       "      <td>11mix</td>\n",
       "      <td>11mix2</td>\n",
       "      <td>naive</td>\n",
       "      <td>IFg</td>\n",
       "      <td>0</td>\n",
       "      <td>11mix</td>\n",
       "    </tr>\n",
       "    <tr>\n",
       "      <th>32</th>\n",
       "      <td>GF</td>\n",
       "      <td>GF1</td>\n",
       "      <td>naive</td>\n",
       "      <td>Naive</td>\n",
       "      <td>113</td>\n",
       "      <td>GF</td>\n",
       "    </tr>\n",
       "    <tr>\n",
       "      <th>33</th>\n",
       "      <td>GF</td>\n",
       "      <td>GF1</td>\n",
       "      <td>naive</td>\n",
       "      <td>Exhausted</td>\n",
       "      <td>75</td>\n",
       "      <td>GF</td>\n",
       "    </tr>\n",
       "    <tr>\n",
       "      <th>34</th>\n",
       "      <td>GF</td>\n",
       "      <td>GF1</td>\n",
       "      <td>naive</td>\n",
       "      <td>IFg</td>\n",
       "      <td>0</td>\n",
       "      <td>GF</td>\n",
       "    </tr>\n",
       "    <tr>\n",
       "      <th>35</th>\n",
       "      <td>GF</td>\n",
       "      <td>GF1</td>\n",
       "      <td>naive</td>\n",
       "      <td>Resident Memory</td>\n",
       "      <td>0</td>\n",
       "      <td>GF</td>\n",
       "    </tr>\n",
       "    <tr>\n",
       "      <th>36</th>\n",
       "      <td>GF</td>\n",
       "      <td>GF2</td>\n",
       "      <td>naive</td>\n",
       "      <td>Exhausted</td>\n",
       "      <td>50</td>\n",
       "      <td>GF</td>\n",
       "    </tr>\n",
       "    <tr>\n",
       "      <th>37</th>\n",
       "      <td>GF</td>\n",
       "      <td>GF2</td>\n",
       "      <td>naive</td>\n",
       "      <td>Naive</td>\n",
       "      <td>50</td>\n",
       "      <td>GF</td>\n",
       "    </tr>\n",
       "    <tr>\n",
       "      <th>38</th>\n",
       "      <td>GF</td>\n",
       "      <td>GF2</td>\n",
       "      <td>naive</td>\n",
       "      <td>Resident Memory</td>\n",
       "      <td>1</td>\n",
       "      <td>GF</td>\n",
       "    </tr>\n",
       "    <tr>\n",
       "      <th>39</th>\n",
       "      <td>GF</td>\n",
       "      <td>GF2</td>\n",
       "      <td>naive</td>\n",
       "      <td>IFg</td>\n",
       "      <td>0</td>\n",
       "      <td>GF</td>\n",
       "    </tr>\n",
       "  </tbody>\n",
       "</table>\n",
       "</div>"
      ],
      "text/plain": [
       "    group  sample treatment cell_type_coarse  n_cells condition\n",
       "0   10mix  10mix1     naive        Exhausted      335     10mix\n",
       "1   10mix  10mix1     naive            Naive       81     10mix\n",
       "2   10mix  10mix1     naive  Resident Memory        4     10mix\n",
       "3   10mix  10mix1     naive              IFg        0     10mix\n",
       "4   10mix  10mix2     naive        Exhausted      298     10mix\n",
       "5   10mix  10mix2     naive            Naive       81     10mix\n",
       "6   10mix  10mix2     naive  Resident Memory        4     10mix\n",
       "7   10mix  10mix2     naive              IFg        0     10mix\n",
       "16  11mix  11mix1     naive        Exhausted      634     11mix\n",
       "17  11mix  11mix1     naive            Naive       42     11mix\n",
       "18  11mix  11mix1     naive  Resident Memory        2     11mix\n",
       "19  11mix  11mix1     naive              IFg        0     11mix\n",
       "20  11mix  11mix2     naive        Exhausted      792     11mix\n",
       "21  11mix  11mix2     naive            Naive       58     11mix\n",
       "22  11mix  11mix2     naive  Resident Memory        3     11mix\n",
       "23  11mix  11mix2     naive              IFg        0     11mix\n",
       "32     GF     GF1     naive            Naive      113        GF\n",
       "33     GF     GF1     naive        Exhausted       75        GF\n",
       "34     GF     GF1     naive              IFg        0        GF\n",
       "35     GF     GF1     naive  Resident Memory        0        GF\n",
       "36     GF     GF2     naive        Exhausted       50        GF\n",
       "37     GF     GF2     naive            Naive       50        GF\n",
       "38     GF     GF2     naive  Resident Memory        1        GF\n",
       "39     GF     GF2     naive              IFg        0        GF"
      ]
     },
     "execution_count": 29,
     "metadata": {},
     "output_type": "execute_result"
    }
   ],
   "source": [
    "frac_by_condition"
   ]
  },
  {
   "cell_type": "code",
   "execution_count": 30,
   "id": "ceb398fd-5467-4b93-bee8-e7b482509d27",
   "metadata": {},
   "outputs": [
    {
     "data": {
      "text/plain": [
       "{'10mix', '11mix', 'GF'}"
      ]
     },
     "execution_count": 30,
     "metadata": {},
     "output_type": "execute_result"
    }
   ],
   "source": [
    "set(frac_by_condition.condition)"
   ]
  },
  {
   "cell_type": "code",
   "execution_count": 31,
   "id": "96c36e1d-3489-4d9a-920e-9024dd0a428e",
   "metadata": {
    "tags": []
   },
   "outputs": [],
   "source": [
    "frac_pivot = (\n",
    "    frac_by_condition.pivot(\n",
    "        index=[\"group\", \"treatment\",\"sample\"],\n",
    "        columns=\"cell_type_coarse\",\n",
    "        values=\"n_cells\",\n",
    "    )\n",
    "    .reset_index()\n",
    "    #.drop(columns=\"other\")\n",
    ")\n"
   ]
  },
  {
   "cell_type": "code",
   "execution_count": 32,
   "id": "babe0f34-a1c5-47b5-ab9c-2eacfbde928c",
   "metadata": {},
   "outputs": [
    {
     "name": "stderr",
     "output_type": "stream",
     "text": [
      "/home/kvalem/.conda/envs/nsclc_gender_atlas_23/lib/python3.9/site-packages/sccoda/util/cell_composition_data.py:294: FutureWarning: X.dtype being converted to np.float32 from int64. In the next version of anndata (0.9) conversion will not be automatic. Pass dtype explicitly to avoid this warning. Pass `AnnData(X, dtype=X.dtype, ...)` to get the future behavour.\n",
      "  return ad.AnnData(X=count_data.values,\n"
     ]
    }
   ],
   "source": [
    "data_all = scc_dat.from_pandas(\n",
    "    frac_pivot, covariate_columns=[\"group\", \"treatment\",\"sample\"]\n",
    ")"
   ]
  },
  {
   "cell_type": "code",
   "execution_count": 33,
   "id": "0a34418c-ecec-4d51-956f-39cf4ac07079",
   "metadata": {},
   "outputs": [],
   "source": [
    "import pandas as pd"
   ]
  },
  {
   "cell_type": "code",
   "execution_count": 34,
   "id": "6bdbdcac-2dfe-4937-a567-2225d6265a02",
   "metadata": {},
   "outputs": [],
   "source": [
    "data_all.obs[\"group\"] = pd.Categorical(\n",
    "    data_all.obs[\"group\"], categories=['10mix', '11mix','GF']\n",
    ")"
   ]
  },
  {
   "cell_type": "code",
   "execution_count": 35,
   "id": "4ecdedb2-c358-4d36-a506-09bcdb606071",
   "metadata": {},
   "outputs": [],
   "source": [
    "data_all.obs[\"treatment\"] = pd.Categorical(\n",
    "    data_all.obs[\"treatment\"], categories=['naive']\n",
    ")"
   ]
  },
  {
   "cell_type": "code",
   "execution_count": 36,
   "id": "ca134231-fad8-4560-a0c4-bb16dd2cf8ef",
   "metadata": {},
   "outputs": [],
   "source": [
    "data_all._sanitize()"
   ]
  },
  {
   "cell_type": "code",
   "execution_count": 38,
   "id": "68c56241-a341-4783-bd79-9a79c1633101",
   "metadata": {},
   "outputs": [
    {
     "data": {
      "text/plain": [
       "<Axes: xlabel='Cell type', ylabel='Proportion'>"
      ]
     },
     "execution_count": 38,
     "metadata": {},
     "output_type": "execute_result"
    },
    {
     "data": {
      "image/png": "[encoded data removed]",
      "text/plain": [
       "<Figure size 1200x500 with 1 Axes>"
      ]
     },
     "metadata": {},
     "output_type": "display_data"
    }
   ],
   "source": [
    "scc_viz.boxplots(data_all, feature_name=\"group\", figsize=(12, 5), cmap = \"inferno\")\n",
    "\n",
    "#plt.savefig( \"figures/cell_proportion_tumor_and_normal_sex.png\")\n"
   ]
  },
  {
   "cell_type": "code",
   "execution_count": 39,
   "id": "b62dc831-003c-4d89-8e59-14597079f5e3",
   "metadata": {},
   "outputs": [
    {
     "data": {
      "text/plain": [
       "<Axes: xlabel='Cell type', ylabel='Proportion'>"
      ]
     },
     "execution_count": 39,
     "metadata": {},
     "output_type": "execute_result"
    },
    {
     "data": {
      "image/png": "[encoded data removed]",
      "text/plain": [
       "<Figure size 1200x500 with 1 Axes>"
      ]
     },
     "metadata": {},
     "output_type": "display_data"
    }
   ],
   "source": [
    "scc_viz.boxplots(data_all, feature_name=\"treatment\", figsize=(12, 5), cmap = \"inferno\")\n",
    "\n",
    "#plt.savefig( \"figures/cell_proportion_tumor_and_normal_sex.png\")\n"
   ]
  },
  {
   "cell_type": "code",
   "execution_count": 241,
   "id": "1c1119c1-8491-4979-ba87-374f43d8054d",
   "metadata": {},
   "outputs": [
    {
     "ename": "SyntaxError",
     "evalue": "invalid syntax (630927900.py, line 1)",
     "output_type": "error",
     "traceback": [
      "\u001b[0;36m  Cell \u001b[0;32mIn[241], line 1\u001b[0;36m\u001b[0m\n\u001b[0;31m    Tnaive - Ltb\",\"Sell\",\"Lef1\",\"Nosip\u001b[0m\n\u001b[0m                ^\u001b[0m\n\u001b[0;31mSyntaxError\u001b[0m\u001b[0;31m:\u001b[0m invalid syntax\n"
     ]
    }
   ],
   "source": [
    "Tnaive - Ltb\",\"Sell\",\"Lef1\",\"Nosip\n",
    "Tex - Cxcr6\",\"Gzmb\",\"Havcr2\",\"Ctla4\"\n",
    "Tsen - Plcg2\",\"Igkc\",\"Klrk1\",\"Slamf7\"\n",
    "Tifn \"Isg15\",\"Ifit3\",\"Ifit1\",\"Stat1\" \n"
   ]
  },
  {
   "cell_type": "code",
   "execution_count": 40,
   "id": "6afa73ed-b073-48ef-81bf-3c9ee76bfe4c",
   "metadata": {},
   "outputs": [
    {
     "data": {
      "text/plain": [
       "<Axes: title={'center': 'group'}, ylabel='Proportion'>"
      ]
     },
     "execution_count": 40,
     "metadata": {},
     "output_type": "execute_result"
    },
    {
     "data": {
      "image/png": "[encoded data removed]",
      "text/plain": [
       "<Figure size 640x480 with 1 Axes>"
      ]
     },
     "metadata": {},
     "output_type": "display_data"
    }
   ],
   "source": [
    "scc_viz.stacked_barplot(data_all, feature_name=\"group\")\n"
   ]
  },
  {
   "cell_type": "code",
   "execution_count": 42,
   "id": "d62e274d-5f22-4c57-bd25-92b0a24db619",
   "metadata": {},
   "outputs": [
    {
     "data": {
      "text/plain": [
       "<Axes: title={'center': 'group'}, ylabel='Proportion'>"
      ]
     },
     "execution_count": 42,
     "metadata": {},
     "output_type": "execute_result"
    },
    {
     "data": {
      "image/png": "[encoded data removed]",
      "text/plain": [
       "<Figure size 640x480 with 1 Axes>"
      ]
     },
     "metadata": {},
     "output_type": "display_data"
    }
   ],
   "source": [
    "scc_viz.stacked_barplot(data_all, feature_name=\"group\")\n"
   ]
  },
  {
   "cell_type": "code",
   "execution_count": 43,
   "id": "e7dd4894-1241-43d6-949a-3a18e3cd31d7",
   "metadata": {},
   "outputs": [
    {
     "name": "stderr",
     "output_type": "stream",
     "text": [
      "/home/kvalem/.conda/envs/nsclc_gender_atlas_23/lib/python3.9/site-packages/sccoda/util/data_visualization.py:76: RuntimeWarning: invalid value encountered in double_scalars\n",
      "  bars = [i / j * 100 for i, j in zip([y[k][n] for k in range(n_bars)], sample_sums)]\n"
     ]
    },
    {
     "data": {
      "text/plain": [
       "<Axes: title={'center': 'sample'}, ylabel='Proportion'>"
      ]
     },
     "execution_count": 43,
     "metadata": {},
     "output_type": "execute_result"
    },
    {
     "data": {
      "image/png": "[encoded data removed]",
      "text/plain": [
       "<Figure size 640x480 with 1 Axes>"
      ]
     },
     "metadata": {},
     "output_type": "display_data"
    }
   ],
   "source": [
    "scc_viz.stacked_barplot(data_all, feature_name=\"sample\")"
   ]
  },
  {
   "cell_type": "code",
   "execution_count": null,
   "id": "0fe622cb-9542-45bf-abaf-3c4bc804a69c",
   "metadata": {},
   "outputs": [],
   "source": []
  },
  {
   "cell_type": "code",
   "execution_count": null,
   "id": "5735b4f5-32e1-4159-8c78-5d2d2fac2263",
   "metadata": {},
   "outputs": [],
   "source": []
  }
 ],
 "metadata": {
  "kernelspec": {
   "display_name": "nsclc_gender_atlas_23",
   "language": "python",
   "name": "nsclc_gender_atlas_23"
  },
  "language_info": {
   "codemirror_mode": {
    "name": "ipython",
    "version": 3
   },
   "file_extension": ".py",
   "mimetype": "text/x-python",
   "name": "python",
   "nbconvert_exporter": "python",
   "pygments_lexer": "ipython3",
   "version": "3.9.16"
  }
 },
 "nbformat": 4,
 "nbformat_minor": 5
}
